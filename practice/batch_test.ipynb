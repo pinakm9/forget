{
 "cells": [
  {
   "cell_type": "code",
   "execution_count": 1,
   "id": "521d2e13-9b85-49e2-9eb9-a6769746b8e1",
   "metadata": {},
   "outputs": [],
   "source": [
    "import os, sys\n",
    "import torch\n",
    "import numpy as np\n",
    "import matplotlib.pyplot as plt\n",
    "sys.path.append(\"../../fast-DiT\")\n",
    "sys.path.append(\"../modules\")\n",
    "from transformers import AutoImageProcessor, AutoModelForImageClassification\n",
    "import dit \n",
    "import utility as ut\n",
    "import datapipe as dp\n",
    "import classifier as cl\n",
    "import train as tt\n",
    "import ortho as uno\n",
    "import ascent as ta\n",
    "import surgery as ts\n",
    "import surgery_a as tsa\n",
    "import ortho_s as tos\n",
    "import batch as bt\n",
    "import warnings\n",
    "warnings.filterwarnings(\"ignore\")\n",
    "\n",
    "device = \"mps\" if torch.backends.mps.is_available() else \"cpu\"\n",
    "exchange_classes = [208]\n",
    "forget_class = 207\n",
    "imagenet_json_path = \"../data/ImageNet-1k/imagenet_class_index.json\"\n",
    "data_path = \"../data/ImageNet-1k/2012\"\n",
    "model_path = \"../data/ImageNet-1k/DiT-XL-2\"\n",
    "gen_kwargs = {\"cfg_scale\": 10., \"n_samples\": 10}\n",
    "grid_size = 8\n",
    "experiment_folder = '.'\n",
    "num_experiments = 2\n",
    "\n",
    "# set more experiment parameters\n",
    "params = {\n",
    "    \"model_path\": model_path,\n",
    "    \"batch_size\": 1,\n",
    "    \"log_interval\": 1,\n",
    "    \"collect_interval\": \"epoch\",\n",
    "    \"save_steps\": None,\n",
    "    \"exchange_classes\": exchange_classes,\n",
    "    \"forget_class\": forget_class,\n",
    "    \"data_path\": data_path,\n",
    "    \"imagenet_json_path\": imagenet_json_path,\n",
    "    \"freeze_K\": 0,\n",
    "    \"n_samples\": 1,\n",
    "    \"device\": device,\n",
    "    \"diffusion_steps\": 64\n",
    "}\n",
    "\n",
    "gen_kwargs = {\n",
    "    \"cfg_scale\": 10. \n",
    "}\n",
    "\n",
    "gen_kwargs_1 = {\n",
    "    \"device\": device,\n",
    "    \"class_id\": forget_class,\n",
    "    \"cfg_scale\": 10., \n",
    "}"
   ]
  },
  {
   "cell_type": "code",
   "execution_count": 2,
   "id": "f2624488-a797-45d9-8b7f-52b00d912249",
   "metadata": {},
   "outputs": [
    {
     "name": "stdout",
     "output_type": "stream",
     "text": [
      "Total params:     675.13M\n",
      "Trainable params: 1.15M  (y: 1.15M, adaLN_last0: 0.00M, final: 0.00M)\n"
     ]
    },
    {
     "name": "stderr",
     "output_type": "stream",
     "text": [
      "Epochs:   0%|                                                        | 0/1 [00:00<?, ?it/s]"
     ]
    },
    {
     "name": "stdout",
     "output_type": "stream",
     "text": [
      "orth is tensor(0., device='mps:0', grad_fn=<DotBackward0>) tensor(0., device='mps:0', grad_fn=<DivBackward0>)\n"
     ]
    },
    {
     "data": {
      "application/vnd.jupyter.widget-view+json": {
       "model_id": "3289baabe01b4822a58ec17928584fbf",
       "version_major": 2,
       "version_minor": 0
      },
      "text/plain": [
       "  0%|          | 0/64 [00:00<?, ?it/s]"
      ]
     },
     "metadata": {},
     "output_type": "display_data"
    },
    {
     "name": "stdout",
     "output_type": "stream",
     "text": [
      "orth is tensor(0., device='mps:0', grad_fn=<DotBackward0>) tensor(0., device='mps:0', grad_fn=<DivBackward0>)\n"
     ]
    },
    {
     "data": {
      "application/vnd.jupyter.widget-view+json": {
       "model_id": "f0064b9e5f3f46c5b71cad90b1402031",
       "version_major": 2,
       "version_minor": 0
      },
      "text/plain": [
       "  0%|          | 0/64 [00:00<?, ?it/s]"
      ]
     },
     "metadata": {},
     "output_type": "display_data"
    },
    {
     "name": "stderr",
     "output_type": "stream",
     "text": [
      "Epochs:   0%|                                                        | 0/1 [00:50<?, ?it/s]\n"
     ]
    },
    {
     "name": "stdout",
     "output_type": "stream",
     "text": [
      "Time taken by summarize_training is 0.4116 seconds\n",
      "Total params:     675.13M\n",
      "Trainable params: 1.15M  (y: 1.15M, adaLN_last0: 0.00M, final: 0.00M)\n"
     ]
    },
    {
     "name": "stderr",
     "output_type": "stream",
     "text": [
      "Epochs:   0%|                                                        | 0/1 [00:00<?, ?it/s]"
     ]
    },
    {
     "name": "stdout",
     "output_type": "stream",
     "text": [
      "orth is tensor(0., device='mps:0', grad_fn=<DotBackward0>) tensor(0., device='mps:0', grad_fn=<DivBackward0>)\n"
     ]
    },
    {
     "data": {
      "application/vnd.jupyter.widget-view+json": {
       "model_id": "f3209c297d494a689d77bd54b0745ce9",
       "version_major": 2,
       "version_minor": 0
      },
      "text/plain": [
       "  0%|          | 0/64 [00:00<?, ?it/s]"
      ]
     },
     "metadata": {},
     "output_type": "display_data"
    },
    {
     "name": "stdout",
     "output_type": "stream",
     "text": [
      "orth is tensor(0., device='mps:0', grad_fn=<DotBackward0>) tensor(0., device='mps:0', grad_fn=<DivBackward0>)\n"
     ]
    },
    {
     "data": {
      "application/vnd.jupyter.widget-view+json": {
       "model_id": "7f11fd854baa416385a12f4c2ae81069",
       "version_major": 2,
       "version_minor": 0
      },
      "text/plain": [
       "  0%|          | 0/64 [00:00<?, ?it/s]"
      ]
     },
     "metadata": {},
     "output_type": "display_data"
    },
    {
     "name": "stderr",
     "output_type": "stream",
     "text": [
      "Epochs:   0%|                                                        | 0/1 [00:50<?, ?it/s]\n"
     ]
    },
    {
     "name": "stdout",
     "output_type": "stream",
     "text": [
      "Time taken by summarize_training is 40.9781 seconds\n",
      "Time taken by run is 160.6375 seconds\n"
     ]
    }
   ],
   "source": [
    "train_kwargs = params | {\"num_steps\": 2, \"uniformity_weight\": 0e3} | gen_kwargs\n",
    "train_kwargs[\"folder\"] = f\"dit-batch-o\"\n",
    "be = bt.BatchExperiment(uno.train, train_kwargs, num_experiments, **gen_kwargs_1)\n",
    "be.run()"
   ]
  },
  {
   "cell_type": "code",
   "execution_count": 3,
   "id": "34745d32-61e1-4c7e-b7b9-d5b7f2531df7",
   "metadata": {},
   "outputs": [
    {
     "name": "stderr",
     "output_type": "stream",
     "text": [
      "Exception ignored in: <function _MultiProcessingDataLoaderIter.__del__ at 0x1047a2340>\n",
      "Traceback (most recent call last):\n",
      "  File \"/Users/pman0581/miniconda3/envs/uno/lib/python3.12/site-packages/torch/utils/data/dataloader.py\", line 1663, in __del__\n",
      "    def __del__(self):\n",
      "\n",
      "KeyboardInterrupt: \n"
     ]
    },
    {
     "name": "stdout",
     "output_type": "stream",
     "text": [
      "Time taken by fid is 72.0563 seconds\n"
     ]
    }
   ],
   "source": [
    "be.fid(100, device)"
   ]
  },
  {
   "cell_type": "code",
   "execution_count": 10,
   "id": "1a01142d-834a-4f3c-bd1a-824b5b740161",
   "metadata": {},
   "outputs": [
    {
     "name": "stderr",
     "output_type": "stream",
     "text": [
      "python3.12(78615) MallocStackLogging: can't turn off malloc stack logging because it was not enabled.\n",
      "python3.12(78616) MallocStackLogging: can't turn off malloc stack logging because it was not enabled.\n",
      "python3.12(78617) MallocStackLogging: can't turn off malloc stack logging because it was not enabled.\n",
      "python3.12(78618) MallocStackLogging: can't turn off malloc stack logging because it was not enabled.\n"
     ]
    },
    {
     "data": {
      "image/png": "[encoded data removed]",
      "text/plain": [
       "<Figure size 1800x1000 with 6 Axes>"
      ]
     },
     "metadata": {},
     "output_type": "display_data"
    }
   ],
   "source": [
    "be.summarize(num_fid_samples=2, batch_size=256)"
   ]
  },
  {
   "cell_type": "code",
   "execution_count": 4,
   "id": "cf1e84f0-d73d-4b38-9873-b03ca7ee1dfa",
   "metadata": {},
   "outputs": [],
   "source": [
    "import dit"
   ]
  },
  {
   "cell_type": "code",
   "execution_count": null,
   "id": "a96b6232-7019-4ac7-988a-08545418a203",
   "metadata": {},
   "outputs": [],
   "source": []
  }
 ],
 "metadata": {
  "kernelspec": {
   "display_name": "Python 3 (ipykernel)",
   "language": "python",
   "name": "python3"
  },
  "language_info": {
   "codemirror_mode": {
    "name": "ipython",
    "version": 3
   },
   "file_extension": ".py",
   "mimetype": "text/x-python",
   "name": "python",
   "nbconvert_exporter": "python",
   "pygments_lexer": "ipython3",
   "version": "3.12.11"
  }
 },
 "nbformat": 4,
 "nbformat_minor": 5
}
