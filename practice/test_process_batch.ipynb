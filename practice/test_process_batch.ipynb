{
 "cells": [
  {
   "cell_type": "code",
   "execution_count": 1,
   "id": "3dda146e-1480-46a0-9804-ff340d9d252b",
   "metadata": {},
   "outputs": [
    {
     "data": {
      "application/vnd.jupyter.widget-view+json": {
       "model_id": "27c68abf79cf490dbe60192dcdff4d69",
       "version_major": 2,
       "version_minor": 0
      },
      "text/plain": [
       "Fetching 1 files:   0%|          | 0/1 [00:00<?, ?it/s]"
      ]
     },
     "metadata": {},
     "output_type": "display_data"
    },
    {
     "name": "stderr",
     "output_type": "stream",
     "text": [
      "Using a slow image processor as `use_fast` is unset and a slow processor was saved with this model. `use_fast=True` will be the default behavior in v4.52, even if the model was saved with a slow processor. This will result in minor differences in outputs. You'll still be able to use a slow processor with `use_fast=False`.\n"
     ]
    },
    {
     "name": "stdout",
     "output_type": "stream",
     "text": [
      "Total params:     675.13M\n",
      "Trainable params: 1.15M  (y: 1.15M, adaLN_last0: 0.00M, final: 0.00M)\n"
     ]
    }
   ],
   "source": [
    "import os, sys\n",
    "import torch\n",
    "import numpy as np\n",
    "import matplotlib.pyplot as plt\n",
    "sys.path.append(\"../../fast-DiT\")\n",
    "sys.path.append(\"../modules\")\n",
    "from transformers import AutoImageProcessor, AutoModelForImageClassification\n",
    "import dit \n",
    "import utility as ut\n",
    "import imagenet_maps as imap\n",
    "import datapipe as dp\n",
    "import classifier as cl\n",
    "import train as tt\n",
    "import ortho as uno\n",
    "import ascent as ta\n",
    "import surgery as ts\n",
    "import surgery_a as tsa\n",
    "import ortho_s as tos\n",
    "import ascent_descent as tad\n",
    "import csv\n",
    "\n",
    "device = \"mps\" if torch.backends.mps.is_available() else \"cpu\"\n",
    "model, vae = dit.load_DiT(folder=\"../data/ImageNet-1k/DiT-XL-2\", device=device)\n",
    "diffusion = dit.load_diffusion(64)\n",
    "exchange_classes = [208]\n",
    "forget_class = 207\n",
    "JSON = \"../data/ImageNet-1k/imagenet_class_index.json\"\n",
    "root = \"../data/ImageNet-1k/2012\"\n",
    "model_path = \"../data/ImageNet-1k/DiT-XL-2\"\n",
    "gen_kwargs = {\"cfg_scale\": 10., \"n_samples\": 10}\n",
    "save_steps = [10, 20, 40]\n",
    "checkpoint_dir = '.'\n",
    "sample_dir = '.'\n",
    "epoch_length = 20\n",
    "grid_size = 8\n",
    "processor = AutoImageProcessor.from_pretrained(\"microsoft/swinv2-tiny-patch4-window8-256\")\n",
    "identifier = cl.get_classifier(device)\n",
    "model.train()\n",
    "model, _ = dit.freeze_except_y_and_lastK_adaln(model, K=0)"
   ]
  },
  {
   "cell_type": "code",
   "execution_count": 2,
   "id": "1286fc16-e089-428c-b8ca-2e294f1e4bb0",
   "metadata": {},
   "outputs": [
    {
     "name": "stdout",
     "output_type": "stream",
     "text": [
      "Total params:     675.13M\n",
      "Trainable params: 1.15M  (y: 1.15M, adaLN_last0: 0.00M, final: 0.00M)\n"
     ]
    },
    {
     "name": "stderr",
     "output_type": "stream",
     "text": [
      "Epochs:   0%|                                                        | 0/1 [00:00<?, ?it/s]/Users/pman0581/miniconda3/envs/uno/lib/python3.12/site-packages/torch/utils/data/dataloader.py:684: UserWarning: 'pin_memory' argument is set as true but not supported on MPS now, then device pinned memory won't be used.\n",
      "  warnings.warn(warn_msg)\n"
     ]
    },
    {
     "data": {
      "application/vnd.jupyter.widget-view+json": {
       "model_id": "2c210d8723ad4995a7fda7f891fc4e90",
       "version_major": 2,
       "version_minor": 0
      },
      "text/plain": [
       "  0%|          | 0/64 [00:00<?, ?it/s]"
      ]
     },
     "metadata": {},
     "output_type": "display_data"
    },
    {
     "name": "stderr",
     "output_type": "stream",
     "text": [
      "Epochs:   0%|                                                        | 0/1 [02:56<?, ?it/s]\n"
     ]
    },
    {
     "name": "stdout",
     "output_type": "stream",
     "text": [
      "Time taken by summarize_training is 0.8780 seconds\n"
     ]
    }
   ],
   "source": [
    "tad.train(model_path, '.', 1, 1, data_path=root, imagenet_json_path=JSON, device=device, freeze_K=0,\\\n",
    "          log_interval=1, collect_interval=10, **gen_kwargs)"
   ]
  },
  {
   "cell_type": "code",
   "execution_count": null,
   "id": "73d08adf-7478-44c2-a490-9e328e78b5fa",
   "metadata": {},
   "outputs": [],
   "source": [
    "log_results = tt.get_logger(model, vae, diffusion, identifier, csv_file, 1, 207, **gen_kwargs)\n",
    "log_results(17, [1e-2], 1e-1)"
   ]
  },
  {
   "cell_type": "code",
   "execution_count": 2,
   "id": "5ed55dd2-d1d9-498d-87a7-21f10def83bb",
   "metadata": {},
   "outputs": [
    {
     "name": "stderr",
     "output_type": "stream",
     "text": [
      "/Users/pman0581/miniconda3/envs/uno/lib/python3.12/site-packages/torch/utils/data/dataloader.py:684: UserWarning: 'pin_memory' argument is set as true but not supported on MPS now, then device pinned memory won't be used.\n",
      "  warnings.warn(warn_msg)\n",
      "/Users/pman0581/Documents/GitHub/forget/practice/train.py:164: FutureWarning: `torch.cuda.amp.autocast(args...)` is deprecated. Please use `torch.amp.autocast('cuda', args...)` instead.\n",
      "  with torch.cuda.amp.autocast(enabled=amp):\n",
      "/Users/pman0581/miniconda3/envs/uno/lib/python3.12/site-packages/torch/_dynamo/eval_frame.py:929: UserWarning: torch.utils.checkpoint: the use_reentrant parameter should be passed explicitly. In version 2.5 we will raise an exception if use_reentrant is not passed. use_reentrant=False is recommended, but if you need to preserve the current default behavior, you can pass use_reentrant=True. Refer to docs for more details on the differences between the two variants.\n",
      "  return fn(*args, **kwargs)\n"
     ]
    }
   ],
   "source": [
    "i=0\n",
    "for step, (imgs, targets) in enumerate(dl):\n",
    "    imgs = imgs.to(device, non_blocking=True)\n",
    "    targets = targets.to(device, non_blocking=True)  # all the same class for single-WNID\n",
    "    process_batch(imgs, targets)\n",
    "    i += 1\n",
    "    if i == 1:\n",
    "        break"
   ]
  },
  {
   "cell_type": "code",
   "execution_count": 14,
   "id": "a8fce39c-7a93-4f61-8a63-3cc10303519a",
   "metadata": {},
   "outputs": [],
   "source": [
    "if torch.backends.mps.is_available():\n",
    "    torch.mps.empty_cache()"
   ]
  },
  {
   "cell_type": "code",
   "execution_count": 2,
   "id": "a5a552f3-609d-4f49-843d-942039fd0eac",
   "metadata": {},
   "outputs": [
    {
     "name": "stderr",
     "output_type": "stream",
     "text": [
      "/Users/pman0581/miniconda3/envs/uno/lib/python3.12/site-packages/torch/_dynamo/eval_frame.py:929: UserWarning: torch.utils.checkpoint: the use_reentrant parameter should be passed explicitly. In version 2.5 we will raise an exception if use_reentrant is not passed. use_reentrant=False is recommended, but if you need to preserve the current default behavior, you can pass use_reentrant=True. Refer to docs for more details on the differences between the two variants.\n",
      "  return fn(*args, **kwargs)\n",
      "/Users/pman0581/miniconda3/envs/uno/lib/python3.12/site-packages/torch/utils/checkpoint.py:85: UserWarning: None of the inputs have requires_grad=True. Gradients will be None\n",
      "  warnings.warn(\n"
     ]
    }
   ],
   "source": [
    "imgs = dit.generate_cfg_batched(model, vae, diffusion, 207, 4, 2, device, batch_size=2)"
   ]
  },
  {
   "cell_type": "code",
   "execution_count": 16,
   "id": "bf6d77cc-1694-4792-b32c-26f3f2caf851",
   "metadata": {},
   "outputs": [
    {
     "name": "stdout",
     "output_type": "stream",
     "text": [
      "[step 10] Saved labeled grid -> ./sample_10.jpg\n"
     ]
    }
   ],
   "source": [
    "identifier = cl.get_classifier(device)\n",
    "tt.get_collector(sample_dir, 1, 2, identifier)(imgs, 10)"
   ]
  },
  {
   "cell_type": "code",
   "execution_count": 6,
   "id": "2873ee99-2b7e-410a-bdf6-840ffa855968",
   "metadata": {},
   "outputs": [
    {
     "data": {
      "text/plain": [
       "torch.float32"
      ]
     },
     "execution_count": 6,
     "metadata": {},
     "output_type": "execute_result"
    }
   ],
   "source": [
    "imgs.dtype"
   ]
  },
  {
   "cell_type": "code",
   "execution_count": 7,
   "id": "95905391-a05c-49d8-9b83-56ffb4ac9da7",
   "metadata": {},
   "outputs": [
    {
     "data": {
      "text/plain": [
       "torch.float32"
      ]
     },
     "execution_count": 7,
     "metadata": {},
     "output_type": "execute_result"
    }
   ],
   "source": [
    "identifier.dtype"
   ]
  },
  {
   "cell_type": "code",
   "execution_count": 8,
   "id": "350eb2b5-442c-4202-81c9-742c563fd07e",
   "metadata": {},
   "outputs": [
    {
     "data": {
      "text/plain": [
       "[209, 208, 208, 234]"
      ]
     },
     "execution_count": 8,
     "metadata": {},
     "output_type": "execute_result"
    }
   ],
   "source": [
    "identifier(imgs).logits.argmax(dim=-1).tolist()"
   ]
  },
  {
   "cell_type": "code",
   "execution_count": 4,
   "id": "1625093d-040f-4960-a05b-165362d8ba77",
   "metadata": {},
   "outputs": [
    {
     "data": {
      "text/plain": [
       "torch.Size([4, 3, 256, 256])"
      ]
     },
     "execution_count": 4,
     "metadata": {},
     "output_type": "execute_result"
    }
   ],
   "source": [
    "imgs.shape"
   ]
  },
  {
   "cell_type": "code",
   "execution_count": 7,
   "id": "b3f4d15d-f359-4d99-8063-ba59e998ca8b",
   "metadata": {},
   "outputs": [
    {
     "data": {
      "text/plain": [
       "0"
      ]
     },
     "execution_count": 7,
     "metadata": {},
     "output_type": "execute_result"
    }
   ],
   "source": [
    "True^1"
   ]
  },
  {
   "cell_type": "code",
   "execution_count": 5,
   "id": "4dc1bfc8-3040-4347-a637-94528e23376f",
   "metadata": {},
   "outputs": [],
   "source": [
    "import loss"
   ]
  },
  {
   "cell_type": "code",
   "execution_count": 6,
   "id": "cf1bc1c3-7921-483f-9948-204b756bc5bf",
   "metadata": {},
   "outputs": [],
   "source": [
    "import models"
   ]
  },
  {
   "cell_type": "code",
   "execution_count": null,
   "id": "7f049835-786e-4dc5-a430-28042384be94",
   "metadata": {},
   "outputs": [],
   "source": []
  }
 ],
 "metadata": {
  "kernelspec": {
   "display_name": "Python 3 (ipykernel)",
   "language": "python",
   "name": "python3"
  },
  "language_info": {
   "codemirror_mode": {
    "name": "ipython",
    "version": 3
   },
   "file_extension": ".py",
   "mimetype": "text/x-python",
   "name": "python",
   "nbconvert_exporter": "python",
   "pygments_lexer": "ipython3",
   "version": "3.12.11"
  }
 },
 "nbformat": 4,
 "nbformat_minor": 5
}
