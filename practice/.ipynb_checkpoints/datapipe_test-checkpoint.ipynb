{
 "cells": [
  {
   "cell_type": "code",
   "execution_count": 1,
   "id": "03d05899-a828-4e32-923b-d06f4d9f38c7",
   "metadata": {},
   "outputs": [],
   "source": [
    "import datapipe as dp\n",
    "import torch\n",
    "root = \"../data/ImageNet-1k/2012\"\n",
    "device = torch.device(\"cuda\" if torch.cuda.is_available() else \"cpu\")\n",
    "JSON = \"../data/ImageNet-1k/imagenet_class_index.json\"\n",
    "dl = dp.get_dataloader(root, 208, JSON)\n",
    "dlm = dp.get_dataloader_multi(root, [207, 208], JSON)"
   ]
  },
  {
   "cell_type": "code",
   "execution_count": 3,
   "id": "b016be8e-8cec-41c8-ad22-e9c23b5a2e17",
   "metadata": {},
   "outputs": [
    {
     "name": "stdout",
     "output_type": "stream",
     "text": [
      "step 000 | batch torch.Size([128, 3, 256, 256]) | label [207, 208]\n",
      "step 001 | batch torch.Size([128, 3, 256, 256]) | label [207, 208]\n",
      "step 002 | batch torch.Size([128, 3, 256, 256]) | label [207, 208]\n",
      "step 003 | batch torch.Size([128, 3, 256, 256]) | label [207, 208]\n",
      "step 004 | batch torch.Size([128, 3, 256, 256]) | label [207, 208]\n",
      "step 005 | batch torch.Size([128, 3, 256, 256]) | label [207, 208]\n",
      "step 006 | batch torch.Size([128, 3, 256, 256]) | label [207, 208]\n",
      "step 007 | batch torch.Size([128, 3, 256, 256]) | label [207, 208]\n",
      "step 008 | batch torch.Size([128, 3, 256, 256]) | label [207, 208]\n",
      "step 009 | batch torch.Size([128, 3, 256, 256]) | label [207, 208]\n",
      "step 010 | batch torch.Size([128, 3, 256, 256]) | label [207, 208]\n",
      "step 011 | batch torch.Size([128, 3, 256, 256]) | label [207, 208]\n",
      "step 012 | batch torch.Size([128, 3, 256, 256]) | label [207, 208]\n",
      "step 013 | batch torch.Size([128, 3, 256, 256]) | label [207, 208]\n",
      "step 014 | batch torch.Size([128, 3, 256, 256]) | label [207, 208]\n",
      "step 015 | batch torch.Size([128, 3, 256, 256]) | label [207, 208]\n",
      "step 016 | batch torch.Size([128, 3, 256, 256]) | label [207, 208]\n",
      "step 017 | batch torch.Size([128, 3, 256, 256]) | label [207, 208]\n",
      "step 018 | batch torch.Size([128, 3, 256, 256]) | label [207, 208]\n",
      "step 019 | batch torch.Size([128, 3, 256, 256]) | label [207, 208]\n",
      "step 020 | batch torch.Size([40, 3, 256, 256]) | label [207, 208]\n"
     ]
    }
   ],
   "source": [
    "with torch.inference_mode():\n",
    "    for step, (imgs, targets) in enumerate(dlm):\n",
    "        imgs = imgs.to(device, non_blocking=True)\n",
    "        targets = targets.to(device, non_blocking=True)  # all the same class for single-WNID\n",
    "        # ... run your model, e.g. logits = model(imgs)\n",
    "        print(f\"step {step:03d} | batch {imgs.shape} | label {targets.unique().tolist()}\")"
   ]
  },
  {
   "cell_type": "code",
   "execution_count": 5,
   "id": "63afd340-dfa9-44d5-a34c-7696f20ebd05",
   "metadata": {},
   "outputs": [
    {
     "data": {
      "text/plain": [
       "tensor([208, 207, 207, 207, 207, 207, 208, 208, 207, 208, 208, 207, 207, 207,\n",
       "        208, 208, 208, 208, 208, 208, 207, 208, 207, 208, 207, 208, 207, 207,\n",
       "        208, 207, 207, 207, 208, 207, 208, 207, 208, 207, 207, 208])"
      ]
     },
     "execution_count": 5,
     "metadata": {},
     "output_type": "execute_result"
    }
   ],
   "source": [
    "targets"
   ]
  },
  {
   "cell_type": "code",
   "execution_count": 6,
   "id": "76ec70f0-fa08-492d-a9fd-036697353760",
   "metadata": {},
   "outputs": [
    {
     "data": {
      "text/plain": [
       "1428"
      ]
     },
     "execution_count": 6,
     "metadata": {},
     "output_type": "execute_result"
    }
   ],
   "source": [
    "11*128+20"
   ]
  },
  {
   "cell_type": "code",
   "execution_count": 6,
   "id": "b5d7553c-a1c5-41ea-970a-26b9e74ccb34",
   "metadata": {},
   "outputs": [
    {
     "data": {
      "text/plain": [
       "(tensor(-2.1179), tensor(2.6400))"
      ]
     },
     "execution_count": 6,
     "metadata": {},
     "output_type": "execute_result"
    }
   ],
   "source": [
    "imgs.min(), imgs.max()"
   ]
  },
  {
   "cell_type": "code",
   "execution_count": null,
   "id": "852e6966-61f2-42c6-b38b-6c3e165d05e5",
   "metadata": {},
   "outputs": [],
   "source": []
  }
 ],
 "metadata": {
  "kernelspec": {
   "display_name": "Python 3 (ipykernel)",
   "language": "python",
   "name": "python3"
  },
  "language_info": {
   "codemirror_mode": {
    "name": "ipython",
    "version": 3
   },
   "file_extension": ".py",
   "mimetype": "text/x-python",
   "name": "python",
   "nbconvert_exporter": "python",
   "pygments_lexer": "ipython3",
   "version": "3.11.4"
  }
 },
 "nbformat": 4,
 "nbformat_minor": 5
}
