{
 "cells": [
  {
   "cell_type": "code",
   "execution_count": 1,
   "id": "f1fd58ad-53c8-45ca-898e-e6c6cf0c0806",
   "metadata": {},
   "outputs": [],
   "source": [
    "from transformers import AutoImageProcessor, AutoModelForImageClassification\n",
    "import imagenet_maps as imap\n",
    "import datapipe as dp\n",
    "import classifier as cls\n",
    "from PIL import Image\n",
    "\n",
    "JSON = \"../data/ImageNet-1k/imagenet_class_index.json\"\n",
    "root = \"../data/ImageNet-1k/2012\""
   ]
  },
  {
   "cell_type": "code",
   "execution_count": 2,
   "id": "a073ea31-e2ca-43ac-876e-546ff8bd6a38",
   "metadata": {},
   "outputs": [
    {
     "data": {
      "text/plain": [
       "'n02099712'"
      ]
     },
     "execution_count": 2,
     "metadata": {},
     "output_type": "execute_result"
    }
   ],
   "source": [
    "imap.i2w(208, json_path=JSON)"
   ]
  },
  {
   "cell_type": "code",
   "execution_count": 3,
   "id": "7a33a2b8-081d-4b0e-9a7a-51482cbecef9",
   "metadata": {},
   "outputs": [
    {
     "data": {
      "text/plain": [
       "'nematode'"
      ]
     },
     "execution_count": 3,
     "metadata": {},
     "output_type": "execute_result"
    }
   ],
   "source": [
    "imap.w2t('n01930112', json_path=JSON)"
   ]
  },
  {
   "cell_type": "code",
   "execution_count": 4,
   "id": "123cd99c-2980-49ff-98e3-2f41d2bb6efa",
   "metadata": {},
   "outputs": [
    {
     "data": {
      "text/plain": [
       "'n02099601'"
      ]
     },
     "execution_count": 4,
     "metadata": {},
     "output_type": "execute_result"
    }
   ],
   "source": [
    "imap.t2w(\"golden retriever\", json_path=JSON)"
   ]
  },
  {
   "cell_type": "code",
   "execution_count": 5,
   "id": "4a1c2a73-fdbb-41a7-aa42-6ee819c2e5a7",
   "metadata": {},
   "outputs": [
    {
     "name": "stderr",
     "output_type": "stream",
     "text": [
      "/Users/pman0581/miniconda3/envs/uno/lib/python3.12/site-packages/torch/utils/data/dataloader.py:684: UserWarning: 'pin_memory' argument is set as true but not supported on MPS now, then device pinned memory won't be used.\n",
      "  warnings.warn(warn_msg)\n"
     ]
    }
   ],
   "source": [
    "dl1 = dp.get_dataloader(root, 207, JSON, batch_size=5000)\n",
    "dl2 = dp.get_dataloader(root, 208, JSON, batch_size=5000)\n",
    "\n",
    "real = next(iter(dl1))[0]\n",
    "fake = next(iter(dl2))[0]"
   ]
  },
  {
   "cell_type": "code",
   "execution_count": 6,
   "id": "d642fa05-d3ac-47af-a57b-d98a2ef74752",
   "metadata": {},
   "outputs": [
    {
     "data": {
      "text/plain": [
       "torch.Size([1300, 3, 256, 256])"
      ]
     },
     "execution_count": 6,
     "metadata": {},
     "output_type": "execute_result"
    }
   ],
   "source": [
    "real.shape"
   ]
  },
  {
   "cell_type": "code",
   "execution_count": 7,
   "id": "131d49f3-665c-4234-8ca2-7cc8ee5caf12",
   "metadata": {
    "scrolled": true
   },
   "outputs": [
    {
     "name": "stderr",
     "output_type": "stream",
     "text": [
      "/Users/pman0581/miniconda3/envs/uno/lib/python3.12/site-packages/torchvision/models/feature_extraction.py:175: UserWarning: NOTE: The nodes obtained by tracing the model in eval mode are a subsequence of those obtained in train mode. When choosing nodes for feature extraction, you may need to specify output nodes for train and eval mode separately.\n",
      "  warnings.warn(msg + suggestion_msg)\n"
     ]
    },
    {
     "data": {
      "text/plain": [
       "0.016458806901357377"
      ]
     },
     "execution_count": 7,
     "metadata": {},
     "output_type": "execute_result"
    }
   ],
   "source": [
    "cls.FID(real, fake)"
   ]
  },
  {
   "cell_type": "code",
   "execution_count": null,
   "id": "45679c11-1a33-4af0-a32e-b6c0b913ddf1",
   "metadata": {},
   "outputs": [],
   "source": []
  }
 ],
 "metadata": {
  "kernelspec": {
   "display_name": "Python 3 (ipykernel)",
   "language": "python",
   "name": "python3"
  },
  "language_info": {
   "codemirror_mode": {
    "name": "ipython",
    "version": 3
   },
   "file_extension": ".py",
   "mimetype": "text/x-python",
   "name": "python",
   "nbconvert_exporter": "python",
   "pygments_lexer": "ipython3",
   "version": "3.11.4"
  }
 },
 "nbformat": 4,
 "nbformat_minor": 5
}
