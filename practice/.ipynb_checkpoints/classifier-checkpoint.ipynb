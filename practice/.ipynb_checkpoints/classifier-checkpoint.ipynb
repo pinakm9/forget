{
 "cells": [
  {
   "cell_type": "code",
   "execution_count": 1,
   "id": "f1fd58ad-53c8-45ca-898e-e6c6cf0c0806",
   "metadata": {},
   "outputs": [],
   "source": [
    "from transformers import AutoImageProcessor, AutoModelForImageClassification\n",
    "import imagenet_maps as imap\n",
    "import datapipe as dp\n",
    "import classifier as cls\n",
    "from PIL import Image\n",
    "\n",
    "JSON = \"../data/ImageNet-1k/imagenet_class_index.json\"\n",
    "root = \"../data/ImageNet-1k/2012\""
   ]
  },
  {
   "cell_type": "code",
   "execution_count": 2,
   "id": "a073ea31-e2ca-43ac-876e-546ff8bd6a38",
   "metadata": {},
   "outputs": [
    {
     "data": {
      "text/plain": [
       "'n02099712'"
      ]
     },
     "execution_count": 2,
     "metadata": {},
     "output_type": "execute_result"
    }
   ],
   "source": [
    "imap.i2w(208, json_path=JSON)"
   ]
  },
  {
   "cell_type": "code",
   "execution_count": 3,
   "id": "7a33a2b8-081d-4b0e-9a7a-51482cbecef9",
   "metadata": {},
   "outputs": [
    {
     "data": {
      "text/plain": [
       "'nematode'"
      ]
     },
     "execution_count": 3,
     "metadata": {},
     "output_type": "execute_result"
    }
   ],
   "source": [
    "imap.w2t('n01930112', json_path=JSON)"
   ]
  },
  {
   "cell_type": "code",
   "execution_count": 4,
   "id": "123cd99c-2980-49ff-98e3-2f41d2bb6efa",
   "metadata": {},
   "outputs": [
    {
     "data": {
      "text/plain": [
       "'n02099601'"
      ]
     },
     "execution_count": 4,
     "metadata": {},
     "output_type": "execute_result"
    }
   ],
   "source": [
    "imap.t2w(\"golden retriever\", json_path=JSON)"
   ]
  },
  {
   "cell_type": "code",
   "execution_count": 5,
   "id": "4a1c2a73-fdbb-41a7-aa42-6ee819c2e5a7",
   "metadata": {},
   "outputs": [
    {
     "name": "stderr",
     "output_type": "stream",
     "text": [
      "/Users/pman0581/miniconda3/envs/uno/lib/python3.12/site-packages/torch/utils/data/dataloader.py:684: UserWarning: 'pin_memory' argument is set as true but not supported on MPS now, then device pinned memory won't be used.\n",
      "  warnings.warn(warn_msg)\n"
     ]
    }
   ],
   "source": [
    "dl1 = dp.get_dataloader(root, 207, JSON, batch_size=5000)\n",
    "dl2 = dp.get_dataloader(root, 208, JSON, batch_size=5000)\n",
    "\n",
    "real = next(iter(dl1))[0]\n",
    "fake = next(iter(dl2))[0]"
   ]
  },
  {
   "cell_type": "code",
   "execution_count": 6,
   "id": "d642fa05-d3ac-47af-a57b-d98a2ef74752",
   "metadata": {},
   "outputs": [
    {
     "data": {
      "text/plain": [
       "torch.Size([1300, 3, 256, 256])"
      ]
     },
     "execution_count": 6,
     "metadata": {},
     "output_type": "execute_result"
    }
   ],
   "source": [
    "real.shape"
   ]
  },
  {
   "cell_type": "code",
   "execution_count": 7,
   "id": "131d49f3-665c-4234-8ca2-7cc8ee5caf12",
   "metadata": {},
   "outputs": [
    {
     "name": "stderr",
     "output_type": "stream",
     "text": [
      "/Users/pman0581/miniconda3/envs/uno/lib/python3.12/site-packages/torchvision/models/feature_extraction.py:175: UserWarning: NOTE: The nodes obtained by tracing the model in eval mode are a subsequence of those obtained in train mode. When choosing nodes for feature extraction, you may need to specify output nodes for train and eval mode separately.\n",
      "  warnings.warn(msg + suggestion_msg)\n"
     ]
    },
    {
     "ename": "TypeError",
     "evalue": "mean() received an invalid combination of arguments - got (out=NoneType, dtype=NoneType, axis=int, ), but expected one of:\n * (*, torch.dtype dtype = None)\n * (tuple of ints dim, bool keepdim = False, *, torch.dtype dtype = None)\n * (tuple of names dim, bool keepdim = False, *, torch.dtype dtype = None)\n",
     "output_type": "error",
     "traceback": [
      "\u001b[31m---------------------------------------------------------------------------\u001b[39m",
      "\u001b[31mTypeError\u001b[39m                                 Traceback (most recent call last)",
      "\u001b[36mCell\u001b[39m\u001b[36m \u001b[39m\u001b[32mIn[7]\u001b[39m\u001b[32m, line 1\u001b[39m\n\u001b[32m----> \u001b[39m\u001b[32m1\u001b[39m \u001b[38;5;28;43mcls\u001b[39;49m\u001b[43m.\u001b[49m\u001b[43mFID\u001b[49m\u001b[43m(\u001b[49m\u001b[43mreal\u001b[49m\u001b[43m.\u001b[49m\u001b[43mpermute\u001b[49m\u001b[43m(\u001b[49m\u001b[32;43m0\u001b[39;49m\u001b[43m,\u001b[49m\u001b[43m \u001b[49m\u001b[32;43m2\u001b[39;49m\u001b[43m,\u001b[49m\u001b[43m \u001b[49m\u001b[32;43m3\u001b[39;49m\u001b[43m,\u001b[49m\u001b[43m \u001b[49m\u001b[32;43m1\u001b[39;49m\u001b[43m)\u001b[49m\u001b[43m,\u001b[49m\u001b[43m \u001b[49m\u001b[43mfake\u001b[49m\u001b[43m.\u001b[49m\u001b[43mpermute\u001b[49m\u001b[43m(\u001b[49m\u001b[32;43m0\u001b[39;49m\u001b[43m,\u001b[49m\u001b[43m \u001b[49m\u001b[32;43m2\u001b[39;49m\u001b[43m,\u001b[49m\u001b[43m \u001b[49m\u001b[32;43m3\u001b[39;49m\u001b[43m,\u001b[49m\u001b[43m \u001b[49m\u001b[32;43m1\u001b[39;49m\u001b[43m)\u001b[49m\u001b[43m)\u001b[49m\n",
      "\u001b[36mFile \u001b[39m\u001b[32m~/Documents/GitHub/forget/practice/classifier.py:126\u001b[39m, in \u001b[36mFID\u001b[39m\u001b[34m(real_imgs, gen_imgs, compute_features, eps)\u001b[39m\n\u001b[32m    123\u001b[39m f_g = compute_features(gen_imgs)    \u001b[38;5;66;03m# (N2, D)\u001b[39;00m\n\u001b[32m    125\u001b[39m \u001b[38;5;66;03m# 2) Means & covariances\u001b[39;00m\n\u001b[32m--> \u001b[39m\u001b[32m126\u001b[39m mu_r = \u001b[43mnp\u001b[49m\u001b[43m.\u001b[49m\u001b[43mmean\u001b[49m\u001b[43m(\u001b[49m\u001b[43mf_r\u001b[49m\u001b[43m,\u001b[49m\u001b[43m \u001b[49m\u001b[43maxis\u001b[49m\u001b[43m=\u001b[49m\u001b[32;43m0\u001b[39;49m\u001b[43m)\u001b[49m\n\u001b[32m    127\u001b[39m mu_g = np.mean(f_g, axis=\u001b[32m0\u001b[39m)\n\u001b[32m    128\u001b[39m sigma_r = np.cov(f_r, rowvar=\u001b[38;5;28;01mFalse\u001b[39;00m)\n",
      "\u001b[36mFile \u001b[39m\u001b[32m~/miniconda3/envs/uno/lib/python3.12/site-packages/numpy/_core/fromnumeric.py:3858\u001b[39m, in \u001b[36mmean\u001b[39m\u001b[34m(a, axis, dtype, out, keepdims, where)\u001b[39m\n\u001b[32m   3856\u001b[39m         \u001b[38;5;28;01mpass\u001b[39;00m\n\u001b[32m   3857\u001b[39m     \u001b[38;5;28;01melse\u001b[39;00m:\n\u001b[32m-> \u001b[39m\u001b[32m3858\u001b[39m         \u001b[38;5;28;01mreturn\u001b[39;00m \u001b[43mmean\u001b[49m\u001b[43m(\u001b[49m\u001b[43maxis\u001b[49m\u001b[43m=\u001b[49m\u001b[43maxis\u001b[49m\u001b[43m,\u001b[49m\u001b[43m \u001b[49m\u001b[43mdtype\u001b[49m\u001b[43m=\u001b[49m\u001b[43mdtype\u001b[49m\u001b[43m,\u001b[49m\u001b[43m \u001b[49m\u001b[43mout\u001b[49m\u001b[43m=\u001b[49m\u001b[43mout\u001b[49m\u001b[43m,\u001b[49m\u001b[43m \u001b[49m\u001b[43m*\u001b[49m\u001b[43m*\u001b[49m\u001b[43mkwargs\u001b[49m\u001b[43m)\u001b[49m\n\u001b[32m   3860\u001b[39m \u001b[38;5;28;01mreturn\u001b[39;00m _methods._mean(a, axis=axis, dtype=dtype,\n\u001b[32m   3861\u001b[39m                       out=out, **kwargs)\n",
      "\u001b[31mTypeError\u001b[39m: mean() received an invalid combination of arguments - got (out=NoneType, dtype=NoneType, axis=int, ), but expected one of:\n * (*, torch.dtype dtype = None)\n * (tuple of ints dim, bool keepdim = False, *, torch.dtype dtype = None)\n * (tuple of names dim, bool keepdim = False, *, torch.dtype dtype = None)\n"
     ]
    }
   ],
   "source": [
    "cls.FID(real.permute(0, 2, 3, 1), fake.permute(0, 2, 3, 1))"
   ]
  },
  {
   "cell_type": "code",
   "execution_count": null,
   "id": "003bb957-3e9e-4ef0-a241-a4a2ef9063f0",
   "metadata": {},
   "outputs": [],
   "source": [
    "real.permute(0, 2, 3, 1).shape"
   ]
  },
  {
   "cell_type": "code",
   "execution_count": null,
   "id": "f523dd78-b187-4bd0-a80d-efcc40d39068",
   "metadata": {},
   "outputs": [],
   "source": []
  }
 ],
 "metadata": {
  "kernelspec": {
   "display_name": "Python 3 (ipykernel)",
   "language": "python",
   "name": "python3"
  },
  "language_info": {
   "codemirror_mode": {
    "name": "ipython",
    "version": 3
   },
   "file_extension": ".py",
   "mimetype": "text/x-python",
   "name": "python",
   "nbconvert_exporter": "python",
   "pygments_lexer": "ipython3",
   "version": "3.12.11"
  }
 },
 "nbformat": 4,
 "nbformat_minor": 5
}
