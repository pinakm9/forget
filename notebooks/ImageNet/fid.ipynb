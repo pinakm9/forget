{
 "cells": [
  {
   "cell_type": "code",
   "execution_count": 1,
   "id": "4cd3aea3-986d-470f-85fa-c85b1faf0360",
   "metadata": {},
   "outputs": [],
   "source": [
    "import torch, sys, os\n",
    "sys.path.append(\"../../modules/imagenet\")\n",
    "import datapipe as dp\n",
    "import dit, time, warnings\n",
    "import imagenet_maps as im\n",
    "from diffusers.models import AutoencoderKL\n",
    "warnings.filterwarnings(\"ignore\")\n",
    "\n",
    "root = \"../../data/ImageNet-1k/2012\"\n",
    "data_dir = \"../../data/tiny-imagenet-200/train\"\n",
    "device = \"mps\"\n",
    "JSON = \"../../data/ImageNet-1k/imagenet_class_index.json\"\n",
    "model, vae = dit.load_DiT(\"../../data/ImageNet-1k/DiT-XL-2\", device)\n",
    "diffusion =  dit.load_diffusion(15)"
   ]
  },
  {
   "cell_type": "code",
   "execution_count": 6,
   "id": "49f7fa52-ca6c-4ae8-8f38-4dc9fb7fedc3",
   "metadata": {},
   "outputs": [
    {
     "name": "stdout",
     "output_type": "stream",
     "text": [
      "Time taken 243.5180208683014\n"
     ]
    }
   ],
   "source": [
    "start = time.time()\n",
    "imgs = dit.generate_uncond_batched_optimized(model, vae, diffusion, 100, device, batch_size=1)\n",
    "print(\"Time taken {}\".format(time.time() - start))"
   ]
  },
  {
   "cell_type": "code",
   "execution_count": 3,
   "id": "e7604ff7-731a-4ac4-9d77-3f93c6cd5b63",
   "metadata": {},
   "outputs": [
    {
     "data": {
      "text/plain": [
       "torch.Size([100, 3, 256, 256])"
      ]
     },
     "execution_count": 3,
     "metadata": {},
     "output_type": "execute_result"
    }
   ],
   "source": [
    "imgs.shape"
   ]
  },
  {
   "cell_type": "code",
   "execution_count": null,
   "id": "cf90748e-8db2-4896-a393-919efb9823e2",
   "metadata": {},
   "outputs": [],
   "source": []
  }
 ],
 "metadata": {
  "kernelspec": {
   "display_name": "Python 3 (ipykernel)",
   "language": "python",
   "name": "python3"
  },
  "language_info": {
   "codemirror_mode": {
    "name": "ipython",
    "version": 3
   },
   "file_extension": ".py",
   "mimetype": "text/x-python",
   "name": "python",
   "nbconvert_exporter": "python",
   "pygments_lexer": "ipython3",
   "version": "3.12.11"
  }
 },
 "nbformat": 4,
 "nbformat_minor": 5
}
