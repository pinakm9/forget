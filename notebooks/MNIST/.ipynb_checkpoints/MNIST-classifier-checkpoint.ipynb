{
 "cells": [
  {
   "cell_type": "code",
   "execution_count": 1,
   "id": "0a79ed2b-7033-41e3-948b-1a48da6d512f",
   "metadata": {},
   "outputs": [
    {
     "name": "stderr",
     "output_type": "stream",
     "text": [
      "Epochs: 100%|██| 50/50 [01:14<00:00,  1.48s/epoch, loss=0.0056, test_acc=98.39%]\n"
     ]
    }
   ],
   "source": [
    "import os, sys, torch\n",
    "sys.path.append(os.path.abspath('../modules/mnist'))\n",
    "sys.path.append(os.path.abspath('../modules'))\n",
    "import classifier\n",
    "import utility as ut\n",
    "from torchsummary import summary\n",
    "\n",
    "classifier.train(\"../data/MNIST/classifier\", 50, 1000)"
   ]
  },
  {
   "cell_type": "code",
   "execution_count": null,
   "id": "ba22b085-5120-47c9-b2ec-d89410f24d7a",
   "metadata": {},
   "outputs": [],
   "source": []
  }
 ],
 "metadata": {
  "kernelspec": {
   "display_name": "Python 3 (ipykernel)",
   "language": "python",
   "name": "python3"
  },
  "language_info": {
   "codemirror_mode": {
    "name": "ipython",
    "version": 3
   },
   "file_extension": ".py",
   "mimetype": "text/x-python",
   "name": "python",
   "nbconvert_exporter": "python",
   "pygments_lexer": "ipython3",
   "version": "3.11.5"
  }
 },
 "nbformat": 4,
 "nbformat_minor": 5
}
