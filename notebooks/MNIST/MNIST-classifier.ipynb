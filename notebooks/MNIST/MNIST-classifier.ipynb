{
 "cells": [
  {
   "cell_type": "code",
   "execution_count": 1,
   "id": "0a79ed2b-7033-41e3-948b-1a48da6d512f",
   "metadata": {},
   "outputs": [
    {
     "name": "stderr",
     "output_type": "stream",
     "text": [
      "/Users/pman0581/miniconda3/envs/metal/lib/python3.11/site-packages/torch/_utils.py:831: UserWarning: TypedStorage is deprecated. It will be removed in the future and UntypedStorage will be the only storage class. This should only matter to you if you are using storages directly.  To access UntypedStorage directly, use tensor.untyped_storage() instead of tensor.storage()\n",
      "  return self.fget.__get__(instance, owner)()\n",
      "Epochs: 100%|██████████████| 500/500 [25:53<00:00,  3.11s/epoch, loss=0.6657, test_acc=73.25%]\n"
     ]
    }
   ],
   "source": [
    "import os, sys, torch\n",
    "sys.path.append(os.path.abspath('../../modules/mnist'))\n",
    "sys.path.append(os.path.abspath('../../modules'))\n",
    "import classifier as cl\n",
    "import utility as ut\n",
    "import vae_train as vt\n",
    "from torchsummary import summary\n",
    "\n",
    "model = vt.init_model('../../data/MNIST/vae/vae_200.pth', 2, 'mps')\n",
    "cl.train(\"../../data/MNIST/gen-classifier\", cl.MNISTClassifier, 500, 128, gen_data=True, gen_model=model)"
   ]
  },
  {
   "cell_type": "code",
   "execution_count": null,
   "id": "ba22b085-5120-47c9-b2ec-d89410f24d7a",
   "metadata": {},
   "outputs": [],
   "source": []
  }
 ],
 "metadata": {
  "kernelspec": {
   "display_name": "Python 3 (ipykernel)",
   "language": "python",
   "name": "python3"
  },
  "language_info": {
   "codemirror_mode": {
    "name": "ipython",
    "version": 3
   },
   "file_extension": ".py",
   "mimetype": "text/x-python",
   "name": "python",
   "nbconvert_exporter": "python",
   "pygments_lexer": "ipython3",
   "version": "3.11.5"
  }
 },
 "nbformat": 4,
 "nbformat_minor": 5
}
