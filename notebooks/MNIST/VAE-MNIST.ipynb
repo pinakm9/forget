{
 "cells": [
  {
   "cell_type": "code",
   "execution_count": 1,
   "id": "0be7db82-c12b-4393-b4aa-605aeb10dc30",
   "metadata": {},
   "outputs": [],
   "source": [
    "import os, sys, torch\n",
    "sys.path.append(os.path.abspath('../modules'))\n",
    "sys.path.append(os.path.abspath('../modules/mnist'))\n",
    "import vae_train as vt\n",
    "import vae_ortho as vo\n",
    "import vae_surgery as vs\n",
    "import datapipe\n",
    "import classifier as cl\n",
    "from vae import VAE\n",
    "import utility as ut\n",
    "\n",
    "folder = '../data/MNIST/vae'\n",
    "epochs = 100\n",
    "batch_size = 100\n",
    "latent_dim = 2\n",
    "device = torch.device(\"cuda\" if torch.cuda.is_available() else \"mps\")"
   ]
  },
  {
   "cell_type": "markdown",
   "id": "4d382522-8906-4b32-a3c5-ea5ea8c6255e",
   "metadata": {},
   "source": [
    "**Train a VAE from scratch**"
   ]
  },
  {
   "cell_type": "code",
   "execution_count": 2,
   "id": "67e50974-36f1-4010-aa6e-3e71bc45587e",
   "metadata": {},
   "outputs": [
    {
     "name": "stderr",
     "output_type": "stream",
     "text": [
      "Epochs: 100%|█████████████████████████████████| 500/500 [17:02<00:00,  2.05s/it]\n"
     ]
    }
   ],
   "source": [
    "vt.train(None, folder, 500, 1000, latent_dim, device, log_interval=1)"
   ]
  },
  {
   "cell_type": "markdown",
   "id": "d7a0b5e6-7410-43b3-becf-8f506ab10db6",
   "metadata": {},
   "source": [
    "**Train a VAE with uniformity loss**"
   ]
  },
  {
   "cell_type": "code",
   "execution_count": 3,
   "id": "015c472c-675a-47a8-bab3-c60b31b3701f",
   "metadata": {},
   "outputs": [
    {
     "name": "stderr",
     "output_type": "stream",
     "text": [
      "Epochs: 100%|█████████████████████████████████| 500/500 [15:38<00:00,  1.88s/it]\n"
     ]
    }
   ],
   "source": [
    "folder = '../data/MNIST/vaeu'\n",
    "vt.train_with_uniformity(None, folder, 500, 1000, latent_dim, device, log_interval=1, uniformity_weight=1e5)"
   ]
  },
  {
   "cell_type": "markdown",
   "id": "c664bf42-9c72-48d5-b3cb-2fc5e2e58121",
   "metadata": {},
   "source": [
    "**Retrain a VAE with $L_{\\text{rest}}$ + orthogonal loss**"
   ]
  },
  {
   "cell_type": "code",
   "execution_count": 3,
   "id": "73665eed-0b4d-4067-a3b4-59ebc2243f8c",
   "metadata": {},
   "outputs": [
    {
     "name": "stderr",
     "output_type": "stream",
     "text": [
      "Epochs: 100%|█████████████████████████████████| 500/500 [17:24<00:00,  2.09s/it]\n"
     ]
    }
   ],
   "source": [
    "net_path = '../data/MNIST/vae/checkpoints/vae_500.pth'\n",
    "folder = '../data/MNIST/vae-o-rest'\n",
    "orthogonality_factor = 10.\n",
    "\n",
    "model = VAE(device=device)\n",
    "model.load_state_dict(torch.load(net_path))\n",
    "model.to(device)\n",
    "\n",
    "vo.train(model, folder, 500, 100, latent_dim, device, orthogonality_factor, log_interval=1)"
   ]
  },
  {
   "cell_type": "markdown",
   "id": "6ee4e60b-0dbb-4dbd-be64-840d961d53e3",
   "metadata": {},
   "source": [
    "**Retrain a VAE with $L_{\\text{all}}$ + orthogonal loss**"
   ]
  },
  {
   "cell_type": "code",
   "execution_count": 5,
   "id": "cbad1c00-5a50-4852-901e-202e492ccee7",
   "metadata": {},
   "outputs": [
    {
     "name": "stderr",
     "output_type": "stream",
     "text": [
      "Epochs: 100%|█████████████████████████████████| 500/500 [18:56<00:00,  2.27s/it]\n"
     ]
    }
   ],
   "source": [
    "net_path = '../data/MNIST/vae/checkpoints/vae_500.pth'\n",
    "folder = '../data/MNIST/vae-o-all'\n",
    "orthogonality_factor = 10.\n",
    "\n",
    "model = VAE(device=device)\n",
    "model.load_state_dict(torch.load(net_path))\n",
    "model.to(device)\n",
    "\n",
    "vo.train(model, folder, 500, 100, latent_dim, device, orthogonality_factor, log_interval=1, one_weight=1.)"
   ]
  },
  {
   "cell_type": "markdown",
   "id": "94d4295c-5e8d-4887-a490-84a5eb058d33",
   "metadata": {},
   "source": [
    "**Retrain a VAE with $L_{\\text{all}}$ + orthogonal loss**"
   ]
  },
  {
   "cell_type": "code",
   "execution_count": 9,
   "id": "b19e3cc6-ae5f-419e-a090-247513f4f3d4",
   "metadata": {},
   "outputs": [
    {
     "name": "stderr",
     "output_type": "stream",
     "text": [
      "Epochs: 100%|█████████████████████████████| 2000/2000 [1:09:10<00:00,  2.08s/it]\n"
     ]
    }
   ],
   "source": [
    "net_path = '../data/MNIST/vae/checkpoints/vae_500.pth'\n",
    "folder = '../data/MNIST/vae-o-all-long'\n",
    "orthogonality_factor = 10.\n",
    "\n",
    "model = VAE(device=device)\n",
    "model.load_state_dict(torch.load(net_path))\n",
    "model.to(device)\n",
    "\n",
    "vo.train(model, folder, 2000, 100, latent_dim, device, orthogonality_factor, log_interval=1, one_weight=1.)"
   ]
  },
  {
   "cell_type": "markdown",
   "id": "e779a488-bd78-409b-8e0f-e2325f26ff44",
   "metadata": {},
   "source": [
    "**Retrain a VAE with $L_{\\text{rest}}$**"
   ]
  },
  {
   "cell_type": "code",
   "execution_count": 6,
   "id": "a7e49619-451c-476c-b693-ea4e633e1b54",
   "metadata": {},
   "outputs": [
    {
     "name": "stderr",
     "output_type": "stream",
     "text": [
      "Epochs: 100%|█████████████████████████████████| 500/500 [17:08<00:00,  2.06s/it]\n"
     ]
    }
   ],
   "source": [
    "net_path = '../data/MNIST/vae/checkpoints/vae_500.pth'\n",
    "folder = '../data/MNIST/vae-retrain'\n",
    "orthogonality_factor = 0.\n",
    "\n",
    "model = VAE(device=device)\n",
    "model.load_state_dict(torch.load(net_path))\n",
    "model.to(device)\n",
    "\n",
    "vo.train(model, folder, 500, 100, latent_dim, device, orthogonality_factor, log_interval=1)"
   ]
  },
  {
   "cell_type": "markdown",
   "id": "23d01e29-a3aa-4ed2-ab34-5ed267a1b144",
   "metadata": {},
   "source": [
    "**Perform surgery on vae-o-rest**"
   ]
  },
  {
   "cell_type": "code",
   "execution_count": 7,
   "id": "7867cf91-6fb0-4fc1-9494-ed2d21e6ebaa",
   "metadata": {},
   "outputs": [
    {
     "name": "stderr",
     "output_type": "stream",
     "text": [
      "Epochs: 100%|█████████████████████████████████| 100/100 [07:22<00:00,  4.42s/it]\n"
     ]
    }
   ],
   "source": [
    "net_path = '../data/MNIST/vae-o-rest/checkpoints/vae_1.pth'\n",
    "folder = '../data/MNIST/vae-o-rest-s'\n",
    "\n",
    "model = VAE(device=device)\n",
    "model.load_state_dict(torch.load(net_path))\n",
    "model.to(device)\n",
    "\n",
    "vs.operate(model, folder, 100, 100, latent_dim, device=device, log_interval=1)"
   ]
  },
  {
   "cell_type": "markdown",
   "id": "6a454dd7-20a4-46f1-88fb-97ceff6b2cd7",
   "metadata": {},
   "source": [
    "**Perform surgery on vae-o-all**"
   ]
  },
  {
   "cell_type": "code",
   "execution_count": 8,
   "id": "e2881324-c8de-4a84-9b57-4fc12feef9a2",
   "metadata": {},
   "outputs": [
    {
     "name": "stderr",
     "output_type": "stream",
     "text": [
      "Epochs: 100%|█████████████████████████████████| 100/100 [07:17<00:00,  4.38s/it]\n"
     ]
    }
   ],
   "source": [
    "net_path = '../data/MNIST/vae-o-all/checkpoints/vae_1.pth'\n",
    "folder = '../data/MNIST/vae-o-all-s'\n",
    "\n",
    "model = VAE(device=device)\n",
    "model.load_state_dict(torch.load(net_path))\n",
    "model.to(device)\n",
    "\n",
    "vs.operate(model, folder, 100, 100, latent_dim, device=device, log_interval=1)"
   ]
  },
  {
   "cell_type": "markdown",
   "id": "ec829ae6-e9a3-4e0d-a378-9c4fb5e63eb5",
   "metadata": {},
   "source": [
    "**Perfom surgery on vae**"
   ]
  },
  {
   "cell_type": "code",
   "execution_count": 6,
   "id": "09848927-174a-4a5f-96c1-ab613205f0dc",
   "metadata": {},
   "outputs": [
    {
     "name": "stderr",
     "output_type": "stream",
     "text": [
      "Epochs: 100%|█████████████████████████████████| 500/500 [36:56<00:00,  4.43s/it]\n"
     ]
    }
   ],
   "source": [
    "net_path = '../data/MNIST/vae/checkpoints/vae_500.pth'\n",
    "folder = '../data/MNIST/vae-s'\n",
    "\n",
    "model = VAE(device=device)\n",
    "model.load_state_dict(torch.load(net_path))\n",
    "model.to(device)\n",
    "\n",
    "vs.operate(model, folder, 500, 100, latent_dim, device=device, log_interval=1)"
   ]
  },
  {
   "cell_type": "code",
   "execution_count": 14,
   "id": "7c3b21cb-2012-4a51-af43-d30a0cdaa548",
   "metadata": {},
   "outputs": [
    {
     "name": "stdout",
     "output_type": "stream",
     "text": [
      "tensor([0.0987, 0.1123, 0.0993, 0.1022, 0.0974, 0.0904, 0.0986, 0.1044, 0.0975,\n",
      "        0.0992], device='mps:0')\n"
     ]
    }
   ],
   "source": [
    "dataloader = datapipe.MNIST().get_dataloader(batch_size)\n",
    "categorizer = cl.get_classifier(device=device)\n",
    "bin = 0\n",
    "for img, label in dataloader:\n",
    "    bin += torch.bincount(torch.argmax(torch.softmax(categorizer(img.to(device)), dim=1), dim=1))/batch_size\n",
    "bin /= len(dataloader)\n",
    "print(bin)"
   ]
  },
  {
   "cell_type": "code",
   "execution_count": null,
   "id": "1a2f908e-654a-4b27-bd1e-231d70a1e415",
   "metadata": {},
   "outputs": [],
   "source": []
  }
 ],
 "metadata": {
  "kernelspec": {
   "display_name": "Python 3 (ipykernel)",
   "language": "python",
   "name": "python3"
  },
  "language_info": {
   "codemirror_mode": {
    "name": "ipython",
    "version": 3
   },
   "file_extension": ".py",
   "mimetype": "text/x-python",
   "name": "python",
   "nbconvert_exporter": "python",
   "pygments_lexer": "ipython3",
   "version": "3.11.5"
  }
 },
 "nbformat": 4,
 "nbformat_minor": 5
}
