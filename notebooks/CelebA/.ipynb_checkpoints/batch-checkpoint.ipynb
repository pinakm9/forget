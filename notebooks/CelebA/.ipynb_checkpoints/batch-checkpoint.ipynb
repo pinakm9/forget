{
 "cells": [
  {
   "cell_type": "code",
   "execution_count": 1,
   "id": "3be91237-0f40-4486-9b7b-c167695539e5",
   "metadata": {},
   "outputs": [],
   "source": [
    "import os, sys, torch\n",
    "import pandas as pd\n",
    "import numpy as np\n",
    "sys.path.append(os.path.abspath('../../modules'))\n",
    "sys.path.append(os.path.abspath('../../modules/celeba_male'))\n",
    "import vae_train as vt\n",
    "import vae_ortho as vo\n",
    "import vae_surgery as vs\n",
    "import vae_os as vos\n",
    "import vae_ascent as va\n",
    "import vae_ad as vad\n",
    "import classifier as cl\n",
    "from vae import VAE\n",
    "\n",
    "import batch as bt\n",
    "import utility as ut\n",
    "\n",
    "device = ut.get_device()"
   ]
  },
  {
   "cell_type": "code",
   "execution_count": 2,
   "id": "f8293693-8e35-45da-82fa-c02ba9dcb16c",
   "metadata": {},
   "outputs": [],
   "source": [
    "train_kwargs = {\"model\": \"../../data/CelebA/vae/vae_200.pth\", \"latent_dim\": 512,\\\n",
    "                \"num_steps\": 10, \"batch_size\": 200, \"log_interval\": 1, \"collect_interval\": \"epoch\",\\\n",
    "                \"all_classes\": [0, 1], \"forget_class\": 1,\\\n",
    "                \"classifier_path\": '../../data/CelebA/cnn/cnn_10.pth',\\\n",
    "                \"kl_weight\": 1, \"uniformity_weight\": 1e3, \"orthogonality_weight\": 1e3, \"forget_weight\": 0.,\\\n",
    "                'data_path': '../../data/CelebA/dataset', \"max_data\": 2000,\\\n",
    "                \"total_duration\": None}\n",
    "\n",
    "suffix = 'batch'\n",
    "train_kwargs[\"folder\"] = f\"../../data/CelebA/male/vae_{suffix}\"\n",
    "\n",
    "be = bt.BatchExperiment(vos.train, train_kwargs, 1)"
   ]
  },
  {
   "cell_type": "code",
   "execution_count": 3,
   "id": "84584a52-47cf-4bce-a1f3-32c2c96ccbbf",
   "metadata": {},
   "outputs": [
    {
     "name": "stdout",
     "output_type": "stream",
     "text": [
      "['../../data/CelebA/male/vae_batch/expr-0/checkpoints/vae_epoch_1.pth']\n"
     ]
    },
    {
     "name": "stderr",
     "output_type": "stream",
     "text": [
      "/Users/pman0581/miniconda3/envs/metal/lib/python3.11/site-packages/torch/_utils.py:831: UserWarning: TypedStorage is deprecated. It will be removed in the future and UntypedStorage will be the only storage class. This should only matter to you if you are using storages directly.  To access UntypedStorage directly, use tensor.untyped_storage() instead of tensor.storage()\n",
      "  return self.fget.__get__(instance, owner)()\n"
     ]
    },
    {
     "ename": "KeyError",
     "evalue": "'experiment'",
     "output_type": "error",
     "traceback": [
      "\u001b[0;31m---------------------------------------------------------------------------\u001b[0m",
      "\u001b[0;31mKeyError\u001b[0m                                  Traceback (most recent call last)",
      "Cell \u001b[0;32mIn[3], line 1\u001b[0m\n\u001b[0;32m----> 1\u001b[0m \u001b[43mbe\u001b[49m\u001b[38;5;241;43m.\u001b[39;49m\u001b[43mfid\u001b[49m\u001b[43m(\u001b[49m\u001b[38;5;241;43m1000\u001b[39;49m\u001b[43m,\u001b[49m\u001b[43m \u001b[49m\u001b[38;5;124;43m'\u001b[39;49m\u001b[38;5;124;43mcpu\u001b[39;49m\u001b[38;5;124;43m'\u001b[39;49m\u001b[43m)\u001b[49m\n",
      "File \u001b[0;32m~/Documents/GitHub/forget/modules/utility.py:19\u001b[0m, in \u001b[0;36mtimer.<locals>.new_func\u001b[0;34m(*args, **kwargs)\u001b[0m\n\u001b[1;32m     17\u001b[0m \u001b[38;5;28;01mdef\u001b[39;00m \u001b[38;5;21mnew_func\u001b[39m(\u001b[38;5;241m*\u001b[39margs, \u001b[38;5;241m*\u001b[39m\u001b[38;5;241m*\u001b[39mkwargs):\n\u001b[1;32m     18\u001b[0m \tstart \u001b[38;5;241m=\u001b[39m time()\n\u001b[0;32m---> 19\u001b[0m \tval \u001b[38;5;241m=\u001b[39m \u001b[43mfunc\u001b[49m\u001b[43m(\u001b[49m\u001b[38;5;241;43m*\u001b[39;49m\u001b[43margs\u001b[49m\u001b[43m,\u001b[49m\u001b[38;5;241;43m*\u001b[39;49m\u001b[38;5;241;43m*\u001b[39;49m\u001b[43mkwargs\u001b[49m\u001b[43m)\u001b[49m\n\u001b[1;32m     20\u001b[0m \tend \u001b[38;5;241m=\u001b[39m time()\n\u001b[1;32m     21\u001b[0m \t\u001b[38;5;28mprint\u001b[39m(\u001b[38;5;124mf\u001b[39m\u001b[38;5;124m'\u001b[39m\u001b[38;5;124mTime taken by \u001b[39m\u001b[38;5;132;01m{\u001b[39;00mfunc\u001b[38;5;241m.\u001b[39m\u001b[38;5;18m__name__\u001b[39m\u001b[38;5;132;01m}\u001b[39;00m\u001b[38;5;124m is \u001b[39m\u001b[38;5;132;01m{\u001b[39;00mend\u001b[38;5;241m-\u001b[39mstart\u001b[38;5;132;01m:\u001b[39;00m\u001b[38;5;124m.4f\u001b[39m\u001b[38;5;132;01m}\u001b[39;00m\u001b[38;5;124m seconds\u001b[39m\u001b[38;5;124m'\u001b[39m)\n",
      "File \u001b[0;32m~/Documents/GitHub/forget/modules/celeba_male/batch.py:85\u001b[0m, in \u001b[0;36mBatchExperiment.fid\u001b[0;34m(self, n_samples, device)\u001b[0m\n\u001b[1;32m     83\u001b[0m \u001b[38;5;28;01mfor\u001b[39;00m i \u001b[38;5;129;01min\u001b[39;00m \u001b[38;5;28mrange\u001b[39m(\u001b[38;5;28mself\u001b[39m\u001b[38;5;241m.\u001b[39mn_exprs):\n\u001b[1;32m     84\u001b[0m     folder \u001b[38;5;241m=\u001b[39m \u001b[38;5;28mself\u001b[39m\u001b[38;5;241m.\u001b[39mget_folder(i)\n\u001b[0;32m---> 85\u001b[0m     \u001b[38;5;28mprint\u001b[39m(\u001b[38;5;28;43mself\u001b[39;49m\u001b[38;5;241;43m.\u001b[39;49m\u001b[43mcompute_fid_from_folder\u001b[49m\u001b[43m(\u001b[49m\u001b[43mreal_images\u001b[49m\u001b[43m,\u001b[49m\u001b[43m \u001b[49m\u001b[43midentifier\u001b[49m\u001b[43m,\u001b[49m\u001b[43m \u001b[49m\u001b[43mfolder\u001b[49m\u001b[43m,\u001b[49m\u001b[43m \u001b[49m\u001b[43mdevice\u001b[49m\u001b[43m)\u001b[49m)\n",
      "File \u001b[0;32m~/Documents/GitHub/forget/modules/utility.py:19\u001b[0m, in \u001b[0;36mtimer.<locals>.new_func\u001b[0;34m(*args, **kwargs)\u001b[0m\n\u001b[1;32m     17\u001b[0m \u001b[38;5;28;01mdef\u001b[39;00m \u001b[38;5;21mnew_func\u001b[39m(\u001b[38;5;241m*\u001b[39margs, \u001b[38;5;241m*\u001b[39m\u001b[38;5;241m*\u001b[39mkwargs):\n\u001b[1;32m     18\u001b[0m \tstart \u001b[38;5;241m=\u001b[39m time()\n\u001b[0;32m---> 19\u001b[0m \tval \u001b[38;5;241m=\u001b[39m \u001b[43mfunc\u001b[49m\u001b[43m(\u001b[49m\u001b[38;5;241;43m*\u001b[39;49m\u001b[43margs\u001b[49m\u001b[43m,\u001b[49m\u001b[38;5;241;43m*\u001b[39;49m\u001b[38;5;241;43m*\u001b[39;49m\u001b[43mkwargs\u001b[49m\u001b[43m)\u001b[49m\n\u001b[1;32m     20\u001b[0m \tend \u001b[38;5;241m=\u001b[39m time()\n\u001b[1;32m     21\u001b[0m \t\u001b[38;5;28mprint\u001b[39m(\u001b[38;5;124mf\u001b[39m\u001b[38;5;124m'\u001b[39m\u001b[38;5;124mTime taken by \u001b[39m\u001b[38;5;132;01m{\u001b[39;00mfunc\u001b[38;5;241m.\u001b[39m\u001b[38;5;18m__name__\u001b[39m\u001b[38;5;132;01m}\u001b[39;00m\u001b[38;5;124m is \u001b[39m\u001b[38;5;132;01m{\u001b[39;00mend\u001b[38;5;241m-\u001b[39mstart\u001b[38;5;132;01m:\u001b[39;00m\u001b[38;5;124m.4f\u001b[39m\u001b[38;5;132;01m}\u001b[39;00m\u001b[38;5;124m seconds\u001b[39m\u001b[38;5;124m'\u001b[39m)\n",
      "File \u001b[0;32m~/Documents/GitHub/forget/modules/celeba_male/batch.py:103\u001b[0m, in \u001b[0;36mBatchExperiment.compute_fid_from_folder\u001b[0;34m(self, real_images, identifier, folder, device)\u001b[0m\n\u001b[1;32m    100\u001b[0m model \u001b[38;5;241m=\u001b[39m torch\u001b[38;5;241m.\u001b[39mload(checkpoint, weights_only\u001b[38;5;241m=\u001b[39m\u001b[38;5;28;01mFalse\u001b[39;00m, map_location\u001b[38;5;241m=\u001b[39mdevice)\n\u001b[1;32m    101\u001b[0m model\u001b[38;5;241m.\u001b[39mto(device)\n\u001b[0;32m--> 103\u001b[0m gen_images \u001b[38;5;241m=\u001b[39m model\u001b[38;5;241m.\u001b[39mdecode(torch\u001b[38;5;241m.\u001b[39mrandn(real_images\u001b[38;5;241m.\u001b[39mshape[\u001b[38;5;241m0\u001b[39m], \u001b[38;5;28;43mself\u001b[39;49m\u001b[38;5;241;43m.\u001b[39;49m\u001b[43mtrain_kwargs\u001b[49m\u001b[43m[\u001b[49m\u001b[38;5;124;43m\"\u001b[39;49m\u001b[38;5;124;43mexperiment\u001b[39;49m\u001b[38;5;124;43m\"\u001b[39;49m\u001b[43m]\u001b[49m[\u001b[38;5;124m'\u001b[39m\u001b[38;5;124mlatent_dim\u001b[39m\u001b[38;5;124m'\u001b[39m])\u001b[38;5;241m.\u001b[39mto(device))\n\u001b[1;32m    104\u001b[0m \u001b[38;5;66;03m# compute fid\u001b[39;00m\n\u001b[1;32m    105\u001b[0m \u001b[38;5;28;01mreturn\u001b[39;00m \u001b[38;5;28mself\u001b[39m\u001b[38;5;241m.\u001b[39mcompute_fid(real_images, gen_images, identifier, device)\n",
      "\u001b[0;31mKeyError\u001b[0m: 'experiment'"
     ]
    }
   ],
   "source": [
    "be.fid(1000, 'cpu')"
   ]
  },
  {
   "cell_type": "code",
   "execution_count": null,
   "id": "803b35e7-882a-4957-9816-cb18e476432a",
   "metadata": {},
   "outputs": [],
   "source": []
  }
 ],
 "metadata": {
  "kernelspec": {
   "display_name": "Python 3 (ipykernel)",
   "language": "python",
   "name": "python3"
  },
  "language_info": {
   "codemirror_mode": {
    "name": "ipython",
    "version": 3
   },
   "file_extension": ".py",
   "mimetype": "text/x-python",
   "name": "python",
   "nbconvert_exporter": "python",
   "pygments_lexer": "ipython3",
   "version": "3.11.5"
  }
 },
 "nbformat": 4,
 "nbformat_minor": 5
}
