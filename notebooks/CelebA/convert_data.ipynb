{
 "cells": [
  {
   "cell_type": "code",
   "execution_count": 4,
   "id": "9963cf2e-af4d-404c-8e0a-3751e27e21ce",
   "metadata": {},
   "outputs": [
    {
     "name": "stdout",
     "output_type": "stream",
     "text": [
      "202599\n"
     ]
    }
   ],
   "source": [
    "import pandas as pd\n",
    "import os, sys, torch\n",
    "from torchvision.transforms.functional import to_pil_image\n",
    "from PIL import Image\n",
    "\n",
    "sys.path.append(os.path.abspath('../../modules'))\n",
    "sys.path.append(os.path.abspath('../../modules/celeba_male'))\n",
    "import datapipe as dp\n",
    "import utility as ut\n",
    "from vae import VAE\n",
    "import classifier as cl\n",
    "from torchsummary import summary\n",
    "import vae_loss as vl\n",
    "import vae_viz as viz\n",
    "import vae_train as vt\n",
    "import vae_ortho as vo\n",
    "import vae_surgery as vs\n",
    "import vae_os as vos\n",
    "import vae_ascent as va\n",
    "import vae_ad as vad\n",
    "\n",
    "device = ut.get_device()\n",
    "\n",
    "\n",
    "data_folder = '../../data/CelebA/dataset'\n",
    "model_folder = '../../data/CelebA/vae'\n",
    "data = dp.CelebAData().get_dataloader(batch_size=128, shuffle=False, drop_last=True)\n",
    "\n",
    "model = VAE()\n",
    "model = torch.load(f'{model_folder}/vae_200.pth', weights_only=False, map_location=device)\n",
    "model.to(device)\n",
    "model.eval()\n",
    "\n",
    "output_dir = '../../data/CelebA/dataset-reconstructed/img_align_celeba_reconstructed'\n",
    "os.makedirs(output_dir, exist_ok=True)\n",
    "\n",
    "# image_counter = 1\n",
    "# for i, (img_tensor, _) in enumerate(data):\n",
    "#     img_tensor = img_tensor.to(device)\n",
    "#     with torch.no_grad():\n",
    "#         img_tensor, _, _ = model(img_tensor)\n",
    "#     for img in img_tensor:\n",
    "#         pil_img = to_pil_image(img.cpu())\n",
    "#         filename = f\"{image_counter:06d}.jpg\"\n",
    "#         pil_img.save(os.path.join(output_dir, filename), format='JPEG', quality=100)\n",
    "#         image_counter += 1\n",
    "#         print(f\"Working on image #{image_counter}\", end='\\r')\n",
    "print(ut.get_file_count(output_dir))"
   ]
  },
  {
   "cell_type": "code",
   "execution_count": 7,
   "id": "5eee9a66-0c06-4803-9251-5da58a1cb0d4",
   "metadata": {},
   "outputs": [
    {
     "name": "stdout",
     "output_type": "stream",
     "text": [
      "Processed batch 1582\n",
      "Saved 202496 mu/logvar vectors to ../../data/CelebA/vae/\n"
     ]
    }
   ],
   "source": [
    "import numpy as np\n",
    "data = dp.CelebAData().get_dataloader(batch_size=128, shuffle=False, drop_last=True)\n",
    "all_feat = []\n",
    "for i, (img_tensor, _) in enumerate(data):\n",
    "    img_tensor = img_tensor.to(device)\n",
    "    with torch.no_grad():\n",
    "        feat = model.encoder(img_tensor)\n",
    "\n",
    "    all_feat.append(feat.cpu())\n",
    "\n",
    "    print(f\"Processed batch {i + 1}\", end='\\r')\n",
    "\n",
    "# Concatenate all batches\n",
    "all_feat = torch.cat(all_feat, dim=0).numpy()\n",
    "\n",
    "\n",
    "# Save as .npy files\n",
    "output_dir = \"../../data/CelebA/vae\"\n",
    "# os.makedirs(output_dir, exist_ok=True)\n",
    "np.save(os.path.join(output_dir, \"features_200.npy\"), all_feat)\n",
    "print(f\"\\nSaved {all_feat.shape[0]} mu/logvar vectors to {output_dir}/\")"
   ]
  },
  {
   "cell_type": "code",
   "execution_count": 6,
   "id": "45759941-4990-435a-9cf0-f7cc65177f1e",
   "metadata": {},
   "outputs": [
    {
     "data": {
      "text/plain": [
       "(202496, 512, 2, 2)"
      ]
     },
     "execution_count": 6,
     "metadata": {},
     "output_type": "execute_result"
    }
   ],
   "source": [
    "all_feat.shape"
   ]
  },
  {
   "cell_type": "code",
   "execution_count": null,
   "id": "c6ffe56b-5753-4e76-9f29-1ecd843fb3c5",
   "metadata": {},
   "outputs": [],
   "source": []
  }
 ],
 "metadata": {
  "kernelspec": {
   "display_name": "Python 3 (ipykernel)",
   "language": "python",
   "name": "python3"
  },
  "language_info": {
   "codemirror_mode": {
    "name": "ipython",
    "version": 3
   },
   "file_extension": ".py",
   "mimetype": "text/x-python",
   "name": "python",
   "nbconvert_exporter": "python",
   "pygments_lexer": "ipython3",
   "version": "3.11.5"
  }
 },
 "nbformat": 4,
 "nbformat_minor": 5
}
