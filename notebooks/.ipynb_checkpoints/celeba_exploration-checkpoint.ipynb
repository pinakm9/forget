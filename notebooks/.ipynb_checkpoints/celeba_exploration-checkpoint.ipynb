{
 "cells": [
  {
   "cell_type": "markdown",
   "id": "0133d2f0",
   "metadata": {},
   "source": [
    "# CelebA Dataset Exploration with PyTorch\n",
    "This notebook walks through loading, visualizing, and preparing the CelebA dataset using PyTorch."
   ]
  },
  {
   "cell_type": "code",
   "execution_count": null,
   "id": "a2015c7f",
   "metadata": {},
   "outputs": [],
   "source": [
    "import os\n",
    "import torch\n",
    "from torchvision import datasets, transforms\n",
    "from torch.utils.data import DataLoader\n",
    "import matplotlib.pyplot as plt\n",
    "import numpy as np\n"
   ]
  },
  {
   "cell_type": "code",
   "execution_count": null,
   "id": "78a7a322",
   "metadata": {},
   "outputs": [],
   "source": [
    "# Define the data root and transformation\n",
    "data_root = './data'\n",
    "transform = transforms.Compose([\n",
    "    transforms.Resize(64),\n",
    "    transforms.CenterCrop(64),\n",
    "    transforms.ToTensor()\n",
    "])\n",
    "\n",
    "# Download the CelebA dataset\n",
    "celeba_dataset = datasets.CelebA(root=data_root, split='train', download=True, transform=transform)\n"
   ]
  },
  {
   "cell_type": "code",
   "execution_count": null,
   "id": "8450c39c",
   "metadata": {},
   "outputs": [],
   "source": [
    "# Create DataLoader\n",
    "dataloader = DataLoader(celeba_dataset, batch_size=32, shuffle=True, num_workers=2)\n"
   ]
  },
  {
   "cell_type": "code",
   "execution_count": null,
   "id": "8ddf36a8",
   "metadata": {},
   "outputs": [],
   "source": [
    "# Function to show images\n",
    "def imshow(img):\n",
    "    img = img / 2 + 0.5  # unnormalize if needed\n",
    "    npimg = img.numpy()\n",
    "    plt.figure(figsize=(8, 8))\n",
    "    plt.imshow(np.transpose(npimg, (1, 2, 0)))\n",
    "    plt.axis('off')\n",
    "    plt.show()\n",
    "\n",
    "# Get a batch of data\n",
    "dataiter = iter(dataloader)\n",
    "images, labels = next(dataiter)\n",
    "\n",
    "# Show images\n",
    "imshow(torchvision.utils.make_grid(images[:16], nrow=4))\n"
   ]
  },
  {
   "cell_type": "code",
   "execution_count": null,
   "id": "0cecf2be",
   "metadata": {},
   "outputs": [],
   "source": [
    "# Accessing dataset attributes\n",
    "attr_names = celeba_dataset.attr_names\n",
    "print(\"Attribute names:\", attr_names[:10])  # Show first 10 attributes\n"
   ]
  },
  {
   "cell_type": "code",
   "execution_count": null,
   "id": "17779170",
   "metadata": {},
   "outputs": [],
   "source": [
    "# Placeholder for defining a model\n",
    "import torch.nn as nn\n",
    "import torch.nn.functional as F\n",
    "\n",
    "class SimpleCNN(nn.Module):\n",
    "    def __init__(self):\n",
    "        super(SimpleCNN, self).__init__()\n",
    "        self.conv1 = nn.Conv2d(3, 32, kernel_size=4, stride=2, padding=1)\n",
    "        self.conv2 = nn.Conv2d(32, 64, kernel_size=4, stride=2, padding=1)\n",
    "        self.fc1 = nn.Linear(64 * 16 * 16, 512)\n",
    "        self.fc2 = nn.Linear(512, 1)  # Assume binary attribute classification\n",
    "\n",
    "    def forward(self, x):\n",
    "        x = F.relu(self.conv1(x))\n",
    "        x = F.relu(self.conv2(x))\n",
    "        x = x.view(x.size(0), -1)\n",
    "        x = F.relu(self.fc1(x))\n",
    "        return torch.sigmoid(self.fc2(x))\n"
   ]
  }
 ],
 "metadata": {},
 "nbformat": 4,
 "nbformat_minor": 5
}
