{
 "cells": [
  {
   "cell_type": "code",
   "execution_count": 1,
   "id": "0a79ed2b-7033-41e3-948b-1a48da6d512f",
   "metadata": {},
   "outputs": [
    {
     "name": "stderr",
     "output_type": "stream",
     "text": [
      "Epochs: 100%|█| 100/100 [02:24<00:00,  1.45s/epoch, loss=0.0017, test_acc=98.27%\n"
     ]
    }
   ],
   "source": [
    "import os, sys, torch\n",
    "sys.path.append(os.path.abspath('../modules/mnist'))\n",
    "sys.path.append(os.path.abspath('../modules'))\n",
    "import classifier\n",
    "import utility as ut\n",
    "from torchsummary import summary\n",
    "\n",
    "classifier.train(\"../data/MNIST/classifier\", 100, 1000)"
   ]
  },
  {
   "cell_type": "code",
   "execution_count": null,
   "id": "ba22b085-5120-47c9-b2ec-d89410f24d7a",
   "metadata": {},
   "outputs": [],
   "source": []
  }
 ],
 "metadata": {
  "kernelspec": {
   "display_name": "Python 3 (ipykernel)",
   "language": "python",
   "name": "python3"
  },
  "language_info": {
   "codemirror_mode": {
    "name": "ipython",
    "version": 3
   },
   "file_extension": ".py",
   "mimetype": "text/x-python",
   "name": "python",
   "nbconvert_exporter": "python",
   "pygments_lexer": "ipython3",
   "version": "3.11.5"
  }
 },
 "nbformat": 4,
 "nbformat_minor": 5
}
