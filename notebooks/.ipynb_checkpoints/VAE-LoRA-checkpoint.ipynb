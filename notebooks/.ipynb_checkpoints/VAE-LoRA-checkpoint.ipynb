{
 "cells": [
  {
   "cell_type": "code",
   "execution_count": 1,
   "id": "1b68975a-629b-442f-bb01-71c47256684a",
   "metadata": {},
   "outputs": [],
   "source": [
    "import os, sys, torch\n",
    "sys.path.append(os.path.abspath('../modules/mnist'))\n",
    "sys.path.append(os.path.abspath('../modules'))\n",
    "import vae_train as vt\n",
    "import vae_ortho as vo\n",
    "import vae_surgery as vs\n",
    "import vae \n",
    "import utility as ut\n",
    "\n",
    "folder = '../data/MNIST/vae'\n",
    "epochs = 100\n",
    "batch_size = 100\n",
    "latent_dim = 2\n",
    "device = torch.device(\"cuda\" if torch.cuda.is_available() else \"mps\")"
   ]
  },
  {
   "cell_type": "markdown",
   "id": "96af2c38-95b5-478e-95e2-f3830fa2675e",
   "metadata": {},
   "source": [
    "**Retrain a LoRA_VAE with $L_{\\text{all}}$ + orthogonal loss + uniformity loss**"
   ]
  },
  {
   "cell_type": "code",
   "execution_count": 3,
   "id": "205022f6-7fcc-40c4-be53-5ffa6a815f38",
   "metadata": {},
   "outputs": [
    {
     "name": "stdout",
     "output_type": "stream",
     "text": [
      "(632788, 0)\n",
      "(772174, 139386)\n"
     ]
    },
    {
     "name": "stderr",
     "output_type": "stream",
     "text": [
      "Epochs: 100%|█████████████████████████████████| 100/100 [03:34<00:00,  2.15s/it]\n"
     ]
    }
   ],
   "source": [
    "lora_r = 39\n",
    "net_path = \"../data/MNIST/vaeu/checkpoints/vae_500.pth\"\n",
    "folder = f\"../data/MNIST/vaeu-ou-all-l-r{lora_r}\"\n",
    "orthogonality_weight = 10.\n",
    "one_weight = 1.\n",
    "uniformity_weight = 1e4\n",
    "\n",
    "\n",
    "model = vae.VAE(device=device)\n",
    "model.load_state_dict(torch.load(net_path))\n",
    "lora_model = vae.LoRA_VAE(ut.freeze_all(model), lora_r=lora_r).to(device)\n",
    "\n",
    "print(ut.count_params(model))\n",
    "print(ut.count_params(lora_model))\n",
    "vo.train(lora_model, folder, 100, 100, latent_dim, device, log_interval=1,\\\n",
    "         orthogonality_weight=orthogonality_weight, one_weight=one_weight,\\\n",
    "         uniformity_weight=uniformity_weight)"
   ]
  },
  {
   "cell_type": "markdown",
   "id": "cc7f44fd-8c6e-4e03-b0a3-55f7a5c0908f",
   "metadata": {},
   "source": [
    "**Perform surgery on vaeu-ou-all-l-r***"
   ]
  },
  {
   "cell_type": "code",
   "execution_count": 2,
   "id": "1d3cee42-47f0-49c1-8206-3626b7f116e7",
   "metadata": {},
   "outputs": [
    {
     "name": "stderr",
     "output_type": "stream",
     "text": [
      "Epochs: 100%|█████████████████████████████████| 100/100 [02:01<00:00,  1.21s/it]\n"
     ]
    }
   ],
   "source": [
    "lora_r = 39\n",
    "net_path_0 = \"../data/MNIST/vaeu/checkpoints/vae_500.pth\"\n",
    "net_path_1 = f\"../data/MNIST/vaeu-ou-all-l-r{lora_r}/checkpoints/vae_1.pth\"\n",
    "folder = f\"../data/MNIST/vaeu-ou-all-l-r{lora_r}-su\"\n",
    "\n",
    "model = vae.VAE(device=device)\n",
    "model.load_state_dict(torch.load(net_path_0))\n",
    "model.to(device)\n",
    "lora_model = vae.LoRA_VAE(ut.freeze_all(model), lora_r=lora_r).to(device)\n",
    "lora_model.load_state_dict(torch.load(net_path_1))\n",
    "\n",
    "uniformity_weight = 1e4\n",
    "\n",
    "vs.operate(lora_model, folder, 100, 100, latent_dim, device=device, log_interval=1,\\\n",
    "          uniformity_weight=uniformity_weight)"
   ]
  },
  {
   "cell_type": "markdown",
   "id": "a040bfb4-81fd-4e8c-a7c0-97af03483528",
   "metadata": {},
   "source": [
    "**Retrain a LoRA_VAE_Decoder with $L_{\\text{all}}$ + orthogonal loss + uniformity loss**"
   ]
  },
  {
   "cell_type": "code",
   "execution_count": 3,
   "id": "fc513663-de6a-4503-a699-23280796733d",
   "metadata": {},
   "outputs": [
    {
     "name": "stdout",
     "output_type": "stream",
     "text": [
      "(632788, 0)\n",
      "(694642, 61854)\n"
     ]
    },
    {
     "name": "stderr",
     "output_type": "stream",
     "text": [
      "Epochs: 100%|█████████████████████████████████| 100/100 [02:18<00:00,  1.39s/it]\n"
     ]
    }
   ],
   "source": [
    "lora_r = 39\n",
    "net_path = \"../data/MNIST/vaeu/checkpoints/vae_500.pth\"\n",
    "folder = f\"../data/MNIST/vaeu-ou-all-ld-r{lora_r}\"\n",
    "orthogonality_weight = 10.\n",
    "one_weight = 1.\n",
    "uniformity_weight = 1e4\n",
    "\n",
    "\n",
    "model = vae.VAE(device=device)\n",
    "model.load_state_dict(torch.load(net_path))\n",
    "lora_model = vae.LoRA_VAE_Decoder(ut.freeze_all(model), lora_r=lora_r).to(device)\n",
    "\n",
    "print(ut.count_params(model))\n",
    "print(ut.count_params(lora_model))\n",
    "vo.train(lora_model, folder, 100, 100, latent_dim, device, log_interval=1,\\\n",
    "         orthogonality_weight=orthogonality_weight, one_weight=one_weight,\\\n",
    "         uniformity_weight=uniformity_weight)"
   ]
  },
  {
   "cell_type": "markdown",
   "id": "7d08c621-889a-4a72-8121-94dcf7486a48",
   "metadata": {},
   "source": [
    "**Perform surgery on vaeu-ou-all-ld-r***"
   ]
  },
  {
   "cell_type": "code",
   "execution_count": 5,
   "id": "a1aa55f8-f0d0-4200-a090-dd81a4e93498",
   "metadata": {},
   "outputs": [
    {
     "name": "stderr",
     "output_type": "stream",
     "text": [
      "Epochs: 100%|█████████████████████████████████| 100/100 [01:45<00:00,  1.05s/it]\n"
     ]
    }
   ],
   "source": [
    "lora_r = 39\n",
    "net_path_0 = \"../data/MNIST/vaeu/checkpoints/vae_500.pth\"\n",
    "net_path_1 = f\"../data/MNIST/vaeu-ou-all-ld-r{lora_r}/checkpoints/vae_1.pth\"\n",
    "folder = f\"../data/MNIST/vaeu-ou-all-ld-r{lora_r}-su\"\n",
    "\n",
    "model = vae.VAE(device=device)\n",
    "model.load_state_dict(torch.load(net_path_0))\n",
    "model.to(device)\n",
    "lora_model = vae.LoRA_VAE_Decoder(ut.freeze_all(model), lora_r=lora_r).to(device)\n",
    "lora_model.load_state_dict(torch.load(net_path_1))\n",
    "\n",
    "uniformity_weight = 1e4\n",
    "\n",
    "vs.operate(lora_model, folder, 100, 100, latent_dim, device=device, log_interval=1,\\\n",
    "          uniformity_weight=uniformity_weight)"
   ]
  },
  {
   "cell_type": "markdown",
   "id": "fc8e19c2-490d-4260-be79-a5395df0fed9",
   "metadata": {},
   "source": [
    "**Perform surgery on vaeu-l-r***"
   ]
  },
  {
   "cell_type": "code",
   "execution_count": 2,
   "id": "73e3a9b7-8204-41b3-87d9-d14294637751",
   "metadata": {},
   "outputs": [
    {
     "name": "stderr",
     "output_type": "stream",
     "text": [
      "Epochs: 100%|█████████████████████████████████| 100/100 [01:54<00:00,  1.15s/it]\n"
     ]
    }
   ],
   "source": [
    "lora_r = 39\n",
    "net_path_0 = \"../data/MNIST/vaeu/checkpoints/vae_500.pth\"\n",
    "folder = f\"../data/MNIST/vaeu-l-r{lora_r}-su\"\n",
    "\n",
    "model = vae.VAE(device=device)\n",
    "model.load_state_dict(torch.load(net_path_0))\n",
    "model.to(device)\n",
    "lora_model = vae.LoRA_VAE_Decoder(ut.freeze_all(model), lora_r=lora_r).to(device)\n",
    "\n",
    "\n",
    "vs.operate(lora_model, folder, 100, 100, latent_dim, device=device, log_interval=1)"
   ]
  },
  {
   "cell_type": "code",
   "execution_count": null,
   "id": "d0224dbf-d0d8-47ca-802e-18fc5cac2c5c",
   "metadata": {},
   "outputs": [],
   "source": []
  }
 ],
 "metadata": {
  "kernelspec": {
   "display_name": "Python 3 (ipykernel)",
   "language": "python",
   "name": "python3"
  },
  "language_info": {
   "codemirror_mode": {
    "name": "ipython",
    "version": 3
   },
   "file_extension": ".py",
   "mimetype": "text/x-python",
   "name": "python",
   "nbconvert_exporter": "python",
   "pygments_lexer": "ipython3",
   "version": "3.11.5"
  }
 },
 "nbformat": 4,
 "nbformat_minor": 5
}
