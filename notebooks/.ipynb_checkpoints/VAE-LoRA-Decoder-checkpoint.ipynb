{
 "cells": [
  {
   "cell_type": "code",
   "execution_count": 1,
   "id": "3be0b2d7-b82d-42b0-83f3-8f6ef22057f3",
   "metadata": {},
   "outputs": [],
   "source": [
    "import os, sys, torch\n",
    "sys.path.append(os.path.abspath('../modules/mnist'))\n",
    "sys.path.append(os.path.abspath('../modules'))\n",
    "import vae_train as vt\n",
    "import vae_ortho as vo\n",
    "import vae_surgery as vs\n",
    "import vae \n",
    "import utility as ut\n",
    "\n",
    "folder = '../data/MNIST/vae'\n",
    "epochs = 100\n",
    "batch_size = 100\n",
    "latent_dim = 2\n",
    "device = torch.device(\"cuda\" if torch.cuda.is_available() else \"mps\")"
   ]
  },
  {
   "cell_type": "markdown",
   "id": "37a5d114-f2c8-4ddc-9420-0dde0a9f3cf2",
   "metadata": {},
   "source": [
    "**Retrain a LoRA_VAE_Decoder with $L_{\\text{rest}}$ + orthogonal loss**"
   ]
  },
  {
   "cell_type": "code",
   "execution_count": 10,
   "id": "535dee6f-9eb1-4bdd-944c-80896176b197",
   "metadata": {},
   "outputs": [
    {
     "name": "stdout",
     "output_type": "stream",
     "text": [
      "(632788, 0)\n",
      "(712088, 79300)\n"
     ]
    },
    {
     "name": "stderr",
     "output_type": "stream",
     "text": [
      "Epochs:   4%|█▎                                | 19/500 [00:28<12:12,  1.52s/it]\n"
     ]
    },
    {
     "ename": "KeyboardInterrupt",
     "evalue": "",
     "output_type": "error",
     "traceback": [
      "\u001b[0;31m---------------------------------------------------------------------------\u001b[0m",
      "\u001b[0;31mKeyboardInterrupt\u001b[0m                         Traceback (most recent call last)",
      "Cell \u001b[0;32mIn[10], line 12\u001b[0m\n\u001b[1;32m     10\u001b[0m \u001b[38;5;28mprint\u001b[39m(ut\u001b[38;5;241m.\u001b[39mcount_params(model))\n\u001b[1;32m     11\u001b[0m \u001b[38;5;28mprint\u001b[39m(ut\u001b[38;5;241m.\u001b[39mcount_params(lora_model))\n\u001b[0;32m---> 12\u001b[0m \u001b[43mvo\u001b[49m\u001b[38;5;241;43m.\u001b[39;49m\u001b[43mtrain\u001b[49m\u001b[43m(\u001b[49m\u001b[43mlora_model\u001b[49m\u001b[43m,\u001b[49m\u001b[43m \u001b[49m\u001b[43mfolder\u001b[49m\u001b[43m,\u001b[49m\u001b[43m \u001b[49m\u001b[38;5;241;43m500\u001b[39;49m\u001b[43m,\u001b[49m\u001b[43m \u001b[49m\u001b[38;5;241;43m100\u001b[39;49m\u001b[43m,\u001b[49m\u001b[43m \u001b[49m\u001b[43mlatent_dim\u001b[49m\u001b[43m,\u001b[49m\u001b[43m \u001b[49m\u001b[43mdevice\u001b[49m\u001b[43m,\u001b[49m\u001b[43m \u001b[49m\u001b[43morthogonality_factor\u001b[49m\u001b[43m,\u001b[49m\u001b[43m \u001b[49m\u001b[43mlog_interval\u001b[49m\u001b[38;5;241;43m=\u001b[39;49m\u001b[38;5;241;43m1\u001b[39;49m\u001b[43m,\u001b[49m\u001b[43m \u001b[49m\u001b[43mone_weight\u001b[49m\u001b[38;5;241;43m=\u001b[39;49m\u001b[38;5;241;43m0.\u001b[39;49m\u001b[43m)\u001b[49m\n",
      "File \u001b[0;32m~/Documents/GitHub/forget/modules/mnist/vae_ortho.py:177\u001b[0m, in \u001b[0;36mtrain\u001b[0;34m(model, folder, epochs, batch_size, latent_dim, device, orthogonality_weight, log_interval, kl_weight, one_weight)\u001b[0m\n\u001b[1;32m    174\u001b[0m real_img_one \u001b[38;5;241m=\u001b[39m real_img_one\u001b[38;5;241m.\u001b[39mview(real_img_one\u001b[38;5;241m.\u001b[39mshape[\u001b[38;5;241m0\u001b[39m], \u001b[38;5;241m-\u001b[39m\u001b[38;5;241m1\u001b[39m)\u001b[38;5;241m.\u001b[39mto(device)\n\u001b[1;32m    175\u001b[0m real_img_rest \u001b[38;5;241m=\u001b[39m real_img_rest\u001b[38;5;241m.\u001b[39mview(real_img_rest\u001b[38;5;241m.\u001b[39mshape[\u001b[38;5;241m0\u001b[39m], \u001b[38;5;241m-\u001b[39m\u001b[38;5;241m1\u001b[39m)\u001b[38;5;241m.\u001b[39mto(device)\n\u001b[0;32m--> 177\u001b[0m reconstructed_one, mu_one, logvar_one \u001b[38;5;241m=\u001b[39m \u001b[43mnet\u001b[49m\u001b[43m(\u001b[49m\u001b[43mreal_img_one\u001b[49m\u001b[43m)\u001b[49m\n\u001b[1;32m    178\u001b[0m reconstructed_rest, mu_rest, logvar_rest \u001b[38;5;241m=\u001b[39m net(real_img_rest)\n\u001b[1;32m    180\u001b[0m reconstruction_loss_one \u001b[38;5;241m=\u001b[39m vl\u001b[38;5;241m.\u001b[39mreconstruction_loss(reconstructed_one, real_img_one)\n",
      "File \u001b[0;32m~/miniconda3/envs/metal/lib/python3.11/site-packages/torch/nn/modules/module.py:1518\u001b[0m, in \u001b[0;36mModule._wrapped_call_impl\u001b[0;34m(self, *args, **kwargs)\u001b[0m\n\u001b[1;32m   1516\u001b[0m     \u001b[38;5;28;01mreturn\u001b[39;00m \u001b[38;5;28mself\u001b[39m\u001b[38;5;241m.\u001b[39m_compiled_call_impl(\u001b[38;5;241m*\u001b[39margs, \u001b[38;5;241m*\u001b[39m\u001b[38;5;241m*\u001b[39mkwargs)  \u001b[38;5;66;03m# type: ignore[misc]\u001b[39;00m\n\u001b[1;32m   1517\u001b[0m \u001b[38;5;28;01melse\u001b[39;00m:\n\u001b[0;32m-> 1518\u001b[0m     \u001b[38;5;28;01mreturn\u001b[39;00m \u001b[38;5;28;43mself\u001b[39;49m\u001b[38;5;241;43m.\u001b[39;49m\u001b[43m_call_impl\u001b[49m\u001b[43m(\u001b[49m\u001b[38;5;241;43m*\u001b[39;49m\u001b[43margs\u001b[49m\u001b[43m,\u001b[49m\u001b[43m \u001b[49m\u001b[38;5;241;43m*\u001b[39;49m\u001b[38;5;241;43m*\u001b[39;49m\u001b[43mkwargs\u001b[49m\u001b[43m)\u001b[49m\n",
      "File \u001b[0;32m~/miniconda3/envs/metal/lib/python3.11/site-packages/torch/nn/modules/module.py:1527\u001b[0m, in \u001b[0;36mModule._call_impl\u001b[0;34m(self, *args, **kwargs)\u001b[0m\n\u001b[1;32m   1522\u001b[0m \u001b[38;5;66;03m# If we don't have any hooks, we want to skip the rest of the logic in\u001b[39;00m\n\u001b[1;32m   1523\u001b[0m \u001b[38;5;66;03m# this function, and just call forward.\u001b[39;00m\n\u001b[1;32m   1524\u001b[0m \u001b[38;5;28;01mif\u001b[39;00m \u001b[38;5;129;01mnot\u001b[39;00m (\u001b[38;5;28mself\u001b[39m\u001b[38;5;241m.\u001b[39m_backward_hooks \u001b[38;5;129;01mor\u001b[39;00m \u001b[38;5;28mself\u001b[39m\u001b[38;5;241m.\u001b[39m_backward_pre_hooks \u001b[38;5;129;01mor\u001b[39;00m \u001b[38;5;28mself\u001b[39m\u001b[38;5;241m.\u001b[39m_forward_hooks \u001b[38;5;129;01mor\u001b[39;00m \u001b[38;5;28mself\u001b[39m\u001b[38;5;241m.\u001b[39m_forward_pre_hooks\n\u001b[1;32m   1525\u001b[0m         \u001b[38;5;129;01mor\u001b[39;00m _global_backward_pre_hooks \u001b[38;5;129;01mor\u001b[39;00m _global_backward_hooks\n\u001b[1;32m   1526\u001b[0m         \u001b[38;5;129;01mor\u001b[39;00m _global_forward_hooks \u001b[38;5;129;01mor\u001b[39;00m _global_forward_pre_hooks):\n\u001b[0;32m-> 1527\u001b[0m     \u001b[38;5;28;01mreturn\u001b[39;00m \u001b[43mforward_call\u001b[49m\u001b[43m(\u001b[49m\u001b[38;5;241;43m*\u001b[39;49m\u001b[43margs\u001b[49m\u001b[43m,\u001b[49m\u001b[43m \u001b[49m\u001b[38;5;241;43m*\u001b[39;49m\u001b[38;5;241;43m*\u001b[39;49m\u001b[43mkwargs\u001b[49m\u001b[43m)\u001b[49m\n\u001b[1;32m   1529\u001b[0m \u001b[38;5;28;01mtry\u001b[39;00m:\n\u001b[1;32m   1530\u001b[0m     result \u001b[38;5;241m=\u001b[39m \u001b[38;5;28;01mNone\u001b[39;00m\n",
      "File \u001b[0;32m~/Documents/GitHub/forget/modules/mnist/vae.py:218\u001b[0m, in \u001b[0;36mLoRA_VAE_Decoder.forward\u001b[0;34m(self, x)\u001b[0m\n\u001b[1;32m    216\u001b[0m h \u001b[38;5;241m=\u001b[39m \u001b[38;5;28mself\u001b[39m\u001b[38;5;241m.\u001b[39mencoder(x)\n\u001b[1;32m    217\u001b[0m mu \u001b[38;5;241m=\u001b[39m \u001b[38;5;28mself\u001b[39m\u001b[38;5;241m.\u001b[39menc_mu(h)\n\u001b[0;32m--> 218\u001b[0m log_sigma \u001b[38;5;241m=\u001b[39m \u001b[38;5;28;43mself\u001b[39;49m\u001b[38;5;241;43m.\u001b[39;49m\u001b[43menc_log_sigma\u001b[49m\u001b[43m(\u001b[49m\u001b[43mh\u001b[49m\u001b[43m)\u001b[49m\n\u001b[1;32m    219\u001b[0m z \u001b[38;5;241m=\u001b[39m \u001b[38;5;28mself\u001b[39m\u001b[38;5;241m.\u001b[39mreparameterize(mu, log_sigma)\n\u001b[1;32m    220\u001b[0m x_recon \u001b[38;5;241m=\u001b[39m \u001b[38;5;28mself\u001b[39m\u001b[38;5;241m.\u001b[39mdecoder(z)\n",
      "File \u001b[0;32m~/miniconda3/envs/metal/lib/python3.11/site-packages/torch/nn/modules/module.py:1518\u001b[0m, in \u001b[0;36mModule._wrapped_call_impl\u001b[0;34m(self, *args, **kwargs)\u001b[0m\n\u001b[1;32m   1516\u001b[0m     \u001b[38;5;28;01mreturn\u001b[39;00m \u001b[38;5;28mself\u001b[39m\u001b[38;5;241m.\u001b[39m_compiled_call_impl(\u001b[38;5;241m*\u001b[39margs, \u001b[38;5;241m*\u001b[39m\u001b[38;5;241m*\u001b[39mkwargs)  \u001b[38;5;66;03m# type: ignore[misc]\u001b[39;00m\n\u001b[1;32m   1517\u001b[0m \u001b[38;5;28;01melse\u001b[39;00m:\n\u001b[0;32m-> 1518\u001b[0m     \u001b[38;5;28;01mreturn\u001b[39;00m \u001b[38;5;28;43mself\u001b[39;49m\u001b[38;5;241;43m.\u001b[39;49m\u001b[43m_call_impl\u001b[49m\u001b[43m(\u001b[49m\u001b[38;5;241;43m*\u001b[39;49m\u001b[43margs\u001b[49m\u001b[43m,\u001b[49m\u001b[43m \u001b[49m\u001b[38;5;241;43m*\u001b[39;49m\u001b[38;5;241;43m*\u001b[39;49m\u001b[43mkwargs\u001b[49m\u001b[43m)\u001b[49m\n",
      "File \u001b[0;32m~/miniconda3/envs/metal/lib/python3.11/site-packages/torch/nn/modules/module.py:1527\u001b[0m, in \u001b[0;36mModule._call_impl\u001b[0;34m(self, *args, **kwargs)\u001b[0m\n\u001b[1;32m   1522\u001b[0m \u001b[38;5;66;03m# If we don't have any hooks, we want to skip the rest of the logic in\u001b[39;00m\n\u001b[1;32m   1523\u001b[0m \u001b[38;5;66;03m# this function, and just call forward.\u001b[39;00m\n\u001b[1;32m   1524\u001b[0m \u001b[38;5;28;01mif\u001b[39;00m \u001b[38;5;129;01mnot\u001b[39;00m (\u001b[38;5;28mself\u001b[39m\u001b[38;5;241m.\u001b[39m_backward_hooks \u001b[38;5;129;01mor\u001b[39;00m \u001b[38;5;28mself\u001b[39m\u001b[38;5;241m.\u001b[39m_backward_pre_hooks \u001b[38;5;129;01mor\u001b[39;00m \u001b[38;5;28mself\u001b[39m\u001b[38;5;241m.\u001b[39m_forward_hooks \u001b[38;5;129;01mor\u001b[39;00m \u001b[38;5;28mself\u001b[39m\u001b[38;5;241m.\u001b[39m_forward_pre_hooks\n\u001b[1;32m   1525\u001b[0m         \u001b[38;5;129;01mor\u001b[39;00m _global_backward_pre_hooks \u001b[38;5;129;01mor\u001b[39;00m _global_backward_hooks\n\u001b[1;32m   1526\u001b[0m         \u001b[38;5;129;01mor\u001b[39;00m _global_forward_hooks \u001b[38;5;129;01mor\u001b[39;00m _global_forward_pre_hooks):\n\u001b[0;32m-> 1527\u001b[0m     \u001b[38;5;28;01mreturn\u001b[39;00m \u001b[43mforward_call\u001b[49m\u001b[43m(\u001b[49m\u001b[38;5;241;43m*\u001b[39;49m\u001b[43margs\u001b[49m\u001b[43m,\u001b[49m\u001b[43m \u001b[49m\u001b[38;5;241;43m*\u001b[39;49m\u001b[38;5;241;43m*\u001b[39;49m\u001b[43mkwargs\u001b[49m\u001b[43m)\u001b[49m\n\u001b[1;32m   1529\u001b[0m \u001b[38;5;28;01mtry\u001b[39;00m:\n\u001b[1;32m   1530\u001b[0m     result \u001b[38;5;241m=\u001b[39m \u001b[38;5;28;01mNone\u001b[39;00m\n",
      "File \u001b[0;32m~/miniconda3/envs/metal/lib/python3.11/site-packages/torch/nn/modules/linear.py:114\u001b[0m, in \u001b[0;36mLinear.forward\u001b[0;34m(self, input)\u001b[0m\n\u001b[1;32m    113\u001b[0m \u001b[38;5;28;01mdef\u001b[39;00m \u001b[38;5;21mforward\u001b[39m(\u001b[38;5;28mself\u001b[39m, \u001b[38;5;28minput\u001b[39m: Tensor) \u001b[38;5;241m-\u001b[39m\u001b[38;5;241m>\u001b[39m Tensor:\n\u001b[0;32m--> 114\u001b[0m     \u001b[38;5;28;01mreturn\u001b[39;00m \u001b[43mF\u001b[49m\u001b[38;5;241;43m.\u001b[39;49m\u001b[43mlinear\u001b[49m\u001b[43m(\u001b[49m\u001b[38;5;28;43minput\u001b[39;49m\u001b[43m,\u001b[49m\u001b[43m \u001b[49m\u001b[38;5;28;43mself\u001b[39;49m\u001b[38;5;241;43m.\u001b[39;49m\u001b[43mweight\u001b[49m\u001b[43m,\u001b[49m\u001b[43m \u001b[49m\u001b[38;5;28;43mself\u001b[39;49m\u001b[38;5;241;43m.\u001b[39;49m\u001b[43mbias\u001b[49m\u001b[43m)\u001b[49m\n",
      "\u001b[0;31mKeyboardInterrupt\u001b[0m: "
     ]
    }
   ],
   "source": [
    "lora_r = 50\n",
    "net_path = \"../data/MNIST/vae/checkpoints/vae_500.pth\"\n",
    "folder = f\"../data/MNIST/vae-o-rest-ld-r{lora_r}\"\n",
    "orthogonality_factor = 10.\n",
    "\n",
    "model = vae.VAE(device=device)\n",
    "model.load_state_dict(torch.load(net_path))\n",
    "lora_model = vae.LoRA_VAE_Decoder(ut.freeze_all(model), lora_r=lora_r).to(device)\n",
    "\n",
    "print(ut.count_params(model))\n",
    "print(ut.count_params(lora_model))\n",
    "vo.train(lora_model, folder, 500, 100, latent_dim, device, orthogonality_factor, log_interval=1, one_weight=0.)"
   ]
  },
  {
   "cell_type": "markdown",
   "id": "ef6f1e4e-65d8-4daa-aa0b-daadfadea33b",
   "metadata": {},
   "source": [
    "**Retrain a LoRA_VAE_Decoder with $L_{\\text{all}}$ + orthogonal loss**"
   ]
  },
  {
   "cell_type": "code",
   "execution_count": 14,
   "id": "dc999924-5edf-4782-8212-459e18c970e3",
   "metadata": {},
   "outputs": [
    {
     "name": "stdout",
     "output_type": "stream",
     "text": [
      "(632788, 0)\n",
      "(648648, 15860)\n"
     ]
    },
    {
     "name": "stderr",
     "output_type": "stream",
     "text": [
      "Epochs: 100%|█████████████████████████████████| 500/500 [12:01<00:00,  1.44s/it]\n"
     ]
    }
   ],
   "source": [
    "lora_r = 10\n",
    "net_path = \"../data/MNIST/vae/checkpoints/vae_500.pth\"\n",
    "folder = f\"../data/MNIST/vae-o-all-ld-r{lora_r}\"\n",
    "orthogonality_factor = 10.\n",
    "\n",
    "model = vae.VAE(device=device)\n",
    "model.load_state_dict(torch.load(net_path))\n",
    "lora_model = vae.LoRA_VAE_Decoder(ut.freeze_all(model), lora_r=lora_r).to(device)\n",
    "\n",
    "print(ut.count_params(model))\n",
    "print(ut.count_params(lora_model))\n",
    "vo.train(lora_model, folder, 500, 100, latent_dim, device, orthogonality_factor, log_interval=1, one_weight=1.)"
   ]
  },
  {
   "cell_type": "markdown",
   "id": "2a4ef865-6db3-4998-a5ad-746d1ec6b816",
   "metadata": {},
   "source": [
    "**Perform surgury on vae-o-rest-ld-r***"
   ]
  },
  {
   "cell_type": "code",
   "execution_count": null,
   "id": "cb068e94-0b52-4a73-a61b-f723f5e2d304",
   "metadata": {},
   "outputs": [],
   "source": [
    "lora_r = 10\n",
    "net_path_0 = \"../data/MNIST/vae/checkpoints/vae_500.pth\"\n",
    "net_path_1 = f\"../data/MNIST/vae-o-rest-ld-r{lora_r}/checkpoints/vae_1.pth\"\n",
    "folder = f\"../data/MNIST/vae-o-rest-ld-r{lora_r}-s\"\n",
    "\n",
    "model = vae.VAE(device=device)\n",
    "model.load_state_dict(torch.load(net_path_0))\n",
    "model.to(device)\n",
    "lora_model = vae.LoRA_VAE_Decoder(ut.freeze_all(model), lora_r=lora_r).to(device)\n",
    "lora_model.load_state_dict(torch.load(net_path_1))\n",
    "\n",
    "vs.operate(lora_model, folder, 100, 100, latent_dim, device=device, log_interval=1)"
   ]
  },
  {
   "cell_type": "markdown",
   "id": "6a010e22-0e92-4788-94b5-3d25376ee609",
   "metadata": {},
   "source": [
    "**Perform surgery on vae-o-all-ld-r***"
   ]
  },
  {
   "cell_type": "code",
   "execution_count": 15,
   "id": "e1fae92a-0619-4fef-9265-f669b76a66c2",
   "metadata": {},
   "outputs": [
    {
     "name": "stderr",
     "output_type": "stream",
     "text": [
      "Epochs: 100%|█████████████████████████████████| 100/100 [07:37<00:00,  4.58s/it]\n"
     ]
    }
   ],
   "source": [
    "lora_r = 10\n",
    "net_path_0 = \"../data/MNIST/vae/checkpoints/vae_500.pth\"\n",
    "net_path_1 = f\"../data/MNIST/vae-o-all-ld-r{lora_r}/checkpoints/vae_1.pth\"\n",
    "folder = f\"../data/MNIST/vae-o-all-ld-r{lora_r}-s\"\n",
    "\n",
    "model = vae.VAE(device=device)\n",
    "model.load_state_dict(torch.load(net_path_0))\n",
    "model.to(device)\n",
    "lora_model = vae.LoRA_VAE_Decoder(ut.freeze_all(model), lora_r=lora_r).to(device)\n",
    "lora_model.load_state_dict(torch.load(net_path_1))\n",
    "\n",
    "vs.operate(lora_model, folder, 100, 100, latent_dim, device=device, log_interval=1)"
   ]
  },
  {
   "cell_type": "code",
   "execution_count": null,
   "id": "928c0064-f07b-42d4-bc6c-2e639b2be2e2",
   "metadata": {},
   "outputs": [],
   "source": [
    "net_path = '../data/MNIST/vae-o-last/checkpoints/vae_500.pth'\n",
    "vae.generate_random_samples(net_path, latent_dim, num_samples=169, device=device)"
   ]
  },
  {
   "cell_type": "code",
   "execution_count": null,
   "id": "1b06e22d-26be-45e7-a564-b15bfab9b02f",
   "metadata": {},
   "outputs": [],
   "source": [
    "net_path = '../data/MNIST/vae/checkpoints/vae_100.pth'\n",
    "folder = '../data/MNIST/vae-o-first'\n",
    "orthogonality_factor = 10.\n",
    "\n",
    "model = vae.VAE(latent_dim = latent_dim, device=device).to(device)\n",
    "model.load_state_dict(torch.load(net_path))\n",
    "vae.train_orthogonal(ut.freeze_all_but_first(model), folder, 500, batch_size, latent_dim, device,\\\n",
    "                    orthogonality_factor)"
   ]
  },
  {
   "cell_type": "code",
   "execution_count": null,
   "id": "30a5ca77-a98a-4556-80ef-03693a655f74",
   "metadata": {},
   "outputs": [],
   "source": [
    "net_path = '../data/MNIST/vae-o-first/checkpoints/vae_500.pth'\n",
    "vae.generate_random_samples(net_path, latent_dim, num_samples=169, device=device)"
   ]
  },
  {
   "cell_type": "code",
   "execution_count": 3,
   "id": "a2632a16-8b64-42e5-994f-112bcb8306c0",
   "metadata": {},
   "outputs": [
    {
     "name": "stderr",
     "output_type": "stream",
     "text": [
      "Epochs: 100%|█████████████████████████████████| 500/500 [15:26<00:00,  1.85s/it]\n"
     ]
    }
   ],
   "source": [
    "lora_r = 100\n",
    "net_path = '../data/MNIST/vae/checkpoints/vae_100.pth'\n",
    "folder = f'../data/MNIST/vae-o-lora-rank-{lora_r}'\n",
    "orthogonality_factor = 10.\n",
    "\n",
    "model = vae.VAE(latent_dim = latent_dim, device=device).to(device)\n",
    "model.load_state_dict(torch.load(net_path))\n",
    "\n",
    "lora_model = vae.LoRA_VAE(ut.freeze_all(model), lora_r=lora_r).to(device)\n",
    "vae.train_orthogonal(lora_model, folder, 500, batch_size, latent_dim, device, orthogonality_factor)"
   ]
  },
  {
   "cell_type": "code",
   "execution_count": 2,
   "id": "37bb4108-8da3-4779-9527-a3008f83b412",
   "metadata": {},
   "outputs": [
    {
     "data": {
      "text/plain": [
       "(632788, 317988)"
      ]
     },
     "execution_count": 2,
     "metadata": {},
     "output_type": "execute_result"
    }
   ],
   "source": [
    "net_path = '../data/MNIST/vae/checkpoints/vae_100.pth'\n",
    "folder = '../data/MNIST/vae-o-last'\n",
    "orthogonality_factor = 10.\n",
    "\n",
    "model = vae.VAE(latent_dim = latent_dim, device=device).to(device)\n",
    "model.load_state_dict(torch.load(net_path))\n",
    "model.freeze_encoder()\n",
    "ut.count_params(model)"
   ]
  },
  {
   "cell_type": "code",
   "execution_count": 2,
   "id": "784a090a-199e-45bf-8b5d-64a871be4aa1",
   "metadata": {},
   "outputs": [
    {
     "name": "stderr",
     "output_type": "stream",
     "text": [
      "Epochs: 100%|█████████████████████████████████| 100/100 [06:23<00:00,  3.83s/it]\n"
     ]
    }
   ],
   "source": [
    "lora_r = 100\n",
    "\n",
    "net_path = '../data/MNIST/vae/checkpoints/vae_100.pth'\n",
    "model = vae.VAE(latent_dim = latent_dim, device=device).to(device)\n",
    "model.load_state_dict(torch.load(net_path))\n",
    "lora_model = vae.LoRA_VAE(ut.freeze_all(model), lora_r=lora_r).to(device)\n",
    "\n",
    "net_path_lora = f'../data/MNIST/vae-o-lora-rank-{lora_r}/checkpoints/vae_100.pth'\n",
    "lora_model.load_state_dict(torch.load(net_path_lora))\n",
    "folder = folder = f'../data/MNIST/vae-o-lora-rank-{lora_r}-s'\n",
    "vae.operate(lora_model, folder, 100, batch_size, latent_dim, device)"
   ]
  }
 ],
 "metadata": {
  "kernelspec": {
   "display_name": "Python 3 (ipykernel)",
   "language": "python",
   "name": "python3"
  },
  "language_info": {
   "codemirror_mode": {
    "name": "ipython",
    "version": 3
   },
   "file_extension": ".py",
   "mimetype": "text/x-python",
   "name": "python",
   "nbconvert_exporter": "python",
   "pygments_lexer": "ipython3",
   "version": "3.11.5"
  }
 },
 "nbformat": 4,
 "nbformat_minor": 5
}
