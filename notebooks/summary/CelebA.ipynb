{
 "cells": [
  {
   "cell_type": "code",
   "execution_count": 1,
   "metadata": {
    "colab": {
     "base_uri": "https://localhost:8080/"
    },
    "id": "hrXzkGSNotut",
    "outputId": "75f5d081-cfbf-4fce-e476-83341c82bd17"
   },
   "outputs": [],
   "source": [
    "import os, sys, torch\n",
    "import pandas as pd\n",
    "import numpy as np\n",
    "sys.path.append(os.path.abspath('../../modules'))\n",
    "sys.path.append(os.path.abspath('../../modules/celeba_male'))\n",
    "import vae_train as vt\n",
    "import vae_ortho as vo\n",
    "import vae_surgery as vs\n",
    "import vae_os as vos\n",
    "import vae_ascent as va\n",
    "import vae_ad as vad\n",
    "import classifier as cl\n",
    "from vae import VAE\n",
    "\n",
    "import batch as bt\n",
    "import utility as ut\n",
    "\n",
    "device = ut.get_device()\n",
    "\n",
    "\n",
    "# load custom modules\n",
    "import vae_train as vt\n",
    "import vae_ortho as vo\n",
    "import vae_surgery as vs\n",
    "import vae_os as vos\n",
    "import vae_ascent as va\n",
    "import vae_ad as vad\n",
    "import classifier as cl\n",
    "import batch as bt\n",
    "import utility as ut\n",
    "from vae import VAE\n",
    "import datapipe\n",
    "\n",
    "\n",
    "# set general parameters\n",
    "device = ut.get_device()\n",
    "celeba_folder = \"../../data/CelebA\"\n",
    "experiment_folder = \"../../data/CelebA/CelebA-Experiments\"\n",
    "num_fid_samples = 25000\n",
    "fid_batch_size = 256\n",
    "num_experiments = 10\n",
    "# drive_root = '/content/drive/MyDrive/Pinak/forget/CelebA'"
   ]
  },
  {
   "cell_type": "code",
   "execution_count": 5,
   "metadata": {
    "colab": {
     "base_uri": "https://localhost:8080/"
    },
    "id": "AScV3TU2Rm5p",
    "outputId": "544a9a31-1b58-4440-ee7b-93c6de7e4d31"
   },
   "outputs": [
    {
     "name": "stdout",
     "output_type": "stream",
     "text": [
      "Total epochs = 32.0, steps per epoch = 1582, data size = 202496\n"
     ]
    }
   ],
   "source": [
    "# set more experiment parameters\n",
    "params = {\n",
    "    \"model\": f\"{celeba_folder}/vae/vae_200.pth\",\n",
    "    \"latent_dim\": 512,\n",
    "    \"num_steps\": 50,\n",
    "    \"batch_size\": 128,\n",
    "    \"log_interval\": 1,\n",
    "    \"collect_interval\": \"epoch\",\n",
    "    \"save_steps\": \"epoch\",\n",
    "    \"all_classes\": [0, 1],\n",
    "    \"forget_class\": 1,\n",
    "    \"classifier_path\": f\"{celeba_folder}/cnn/cnn_10.pth\",\n",
    "    \"kl_weight\": 1,\n",
    "    \"total_duration\": None,\n",
    "    \"data_path\": f'{celeba_folder}/dataset',\n",
    "    \"max_data\": None\n",
    "}\n",
    "\n",
    "dataloader = datapipe.CelebAData(img_path=f'{celeba_folder}/dataset').get_dataloader(params['batch_size'])\n",
    "num_epochs = np.ceil(len(dataloader) / params['num_steps'])\n",
    "print(f\"Total epochs = {num_epochs}, steps per epoch = {len(dataloader)}, data size = {params['batch_size']*len(dataloader)}\")"
   ]
  },
  {
   "cell_type": "markdown",
   "metadata": {
    "id": "A94PNGuivyQs"
   },
   "source": [
    "**Batch Experiments: A**"
   ]
  },
  {
   "cell_type": "code",
   "execution_count": 6,
   "metadata": {
    "colab": {
     "base_uri": "https://localhost:8080/"
    },
    "id": "ZnyDr_MmvuFD",
    "outputId": "7009d5eb-96d3-4a4d-abd1-273aa27030c4"
   },
   "outputs": [
    {
     "data": {
      "text/plain": [
       "({'Step': np.float64(659.0),\n",
       "  'Reconstruction Loss': np.float64(2293779.775),\n",
       "  'KL Loss': np.float64(1.852009420154422e+23),\n",
       "  'Uniformity Loss': np.float64(13.633453464508056),\n",
       "  'Orthogonality Loss': np.float64(nan),\n",
       "  'Total Loss': np.float64(1.852009420154422e+23),\n",
       "  'Time': np.float64(9.382292032241791),\n",
       "  'Entropy': np.float64(0.3991249367594719),\n",
       "  'Margin': np.float64(0.2607562281191349),\n",
       "  '0 Fraction': np.float64(0.0421875),\n",
       "  '1 Fraction': np.float64(0.9578125),\n",
       "  'FID': np.float64(318.3307861328125),\n",
       "  'Time/Step': np.float64(0.01423716545104976)},\n",
       " {'Step': np.float64(0.0),\n",
       "  'Reconstruction Loss': np.float64(1364363.5947845124),\n",
       "  'KL Loss': np.float64(2.3740998954166242e+23),\n",
       "  'Uniformity Loss': np.float64(3.8942742186437256),\n",
       "  'Orthogonality Loss': np.float64(nan),\n",
       "  'Total Loss': np.float64(2.3740998954166242e+23),\n",
       "  'Time': np.float64(0.3415235044114773),\n",
       "  'Entropy': np.float64(0.24263138429533407),\n",
       "  'Margin': np.float64(0.18681955142379117),\n",
       "  '0 Fraction': np.float64(0.030896437395758106),\n",
       "  '1 Fraction': np.float64(0.03089643739575811),\n",
       "  'FID': np.float64(9.16522174245457),\n",
       "  'Time/Step': np.float64(0.00051824507497948)})"
      ]
     },
     "execution_count": 6,
     "metadata": {},
     "output_type": "execute_result"
    }
   ],
   "source": [
    "train_kwargs = params | {\"num_steps\": 500, \"uniformity_weight\": 0e3}\n",
    "train_kwargs[\"folder\"] = f\"{experiment_folder}/vae-a\"\n",
    "be = bt.BatchExperiment(va.train, train_kwargs, num_experiments)\n",
    "# be.run()\n",
    "# torch.cuda.empty_cache()\n",
    "# be.fid(num_fid_samples, device, fid_batch_size)\n",
    "be.summarize_wo_fid()#num_fid_samples=num_fid_samples, batch_size=256)"
   ]
  },
  {
   "cell_type": "markdown",
   "metadata": {
    "id": "LeL00URVvM2D"
   },
   "source": [
    "**Batch Experiments: AD**"
   ]
  },
  {
   "cell_type": "code",
   "execution_count": 7,
   "metadata": {
    "id": "hAHX-W11vMT9"
   },
   "outputs": [
    {
     "name": "stderr",
     "output_type": "stream",
     "text": [
      "/Users/pman0581/miniconda3/envs/uno/lib/python3.12/site-packages/numpy/_core/_methods.py:191: RuntimeWarning: invalid value encountered in subtract\n",
      "  x = asanyarray(arr - arrmean)\n"
     ]
    },
    {
     "data": {
      "text/plain": [
       "({'Step': np.float64(17.1),\n",
       "  'Reconstruction Loss': np.float64(nan),\n",
       "  'KL Loss': np.float64(nan),\n",
       "  'Uniformity Loss': np.float64(nan),\n",
       "  'Orthogonality Loss': np.float64(nan),\n",
       "  'Total Loss': np.float64(nan),\n",
       "  'Time': np.float64(0.24682676553726104),\n",
       "  'Entropy': np.float64(nan),\n",
       "  'Margin': np.float64(nan),\n",
       "  '0 Fraction': np.float64(1.0),\n",
       "  '1 Fraction': np.float64(0.0),\n",
       "  'FID': np.float64(nan),\n",
       "  'Time/Step': np.float64(0.014434313774108832)},\n",
       " {'Step': np.float64(2.5079872407968904),\n",
       "  'Reconstruction Loss': np.float64(nan),\n",
       "  'KL Loss': np.float64(nan),\n",
       "  'Uniformity Loss': np.float64(nan),\n",
       "  'Orthogonality Loss': np.float64(nan),\n",
       "  'Total Loss': np.float64(nan),\n",
       "  'Time': np.float64(0.038651512523154546),\n",
       "  'Entropy': np.float64(nan),\n",
       "  'Margin': np.float64(nan),\n",
       "  '0 Fraction': np.float64(0.0),\n",
       "  '1 Fraction': np.float64(0.0),\n",
       "  'FID': np.float64(nan),\n",
       "  'Time/Step': np.float64(0.0007836238290800503)})"
      ]
     },
     "execution_count": 7,
     "metadata": {},
     "output_type": "execute_result"
    }
   ],
   "source": [
    "train_kwargs = params | {\"num_steps\": 500, \"uniformity_weight\": 0e3}\n",
    "train_kwargs[\"folder\"] = f\"{experiment_folder}/vae-ad\"\n",
    "be = bt.BatchExperiment(vad.train, train_kwargs, num_experiments)\n",
    "# be.run()\n",
    "# torch.cuda.empty_cache()\n",
    "# be.fid(num_fid_samples, device, fid_batch_size)\n",
    "be.summarize_wo_fid()#num_fid_samples=num_fid_samples, batch_size=256)"
   ]
  },
  {
   "cell_type": "markdown",
   "metadata": {
    "id": "U8UsKHC5fMWB"
   },
   "source": [
    "**Batch Experiments: S**"
   ]
  },
  {
   "cell_type": "code",
   "execution_count": null,
   "metadata": {
    "id": "4ZtC_tm0fQrn"
   },
   "outputs": [],
   "source": [
    "train_kwargs = params | {\"num_steps\": 500, \"uniformity_weight\": 0e3}\n",
    "train_kwargs[\"folder\"] = f\"{experiment_folder}/vae-s\"\n",
    "be = bt.BatchExperiment(vs.train, train_kwargs, num_experiments)\n",
    "# be.run()\n",
    "# torch.cuda.empty_cache()\n",
    "# be.fid(num_fid_samples, device, fid_batch_size)\n",
    "be.summarize_wo_fid()#num_fid_samples=num_fid_samples, batch_size=256)"
   ]
  },
  {
   "cell_type": "markdown",
   "metadata": {
    "id": "sYAgnUwmfc6A"
   },
   "source": [
    "**Batch Experiments: Shat**"
   ]
  },
  {
   "cell_type": "code",
   "execution_count": null,
   "metadata": {
    "id": "XqDAEWsUgPRc"
   },
   "outputs": [],
   "source": [
    "train_kwargs = params | {\"uniformity_weight\": 1e3}\n",
    "train_kwargs[\"folder\"] = f\"{experiment_folder}/vae-shat\"\n",
    "be = bt.BatchExperiment(vs.train, train_kwargs, num_experiments)\n",
    "# be.run()\n",
    "# torch.cuda.empty_cache()\n",
    "# be.fid(num_fid_samples, device, fid_batch_size)\n",
    "be.summarize_wo_fid()#num_fid_samples=num_fid_samples, batch_size=256)"
   ]
  },
  {
   "cell_type": "markdown",
   "metadata": {
    "id": "w8CvvoMXrgAy"
   },
   "source": [
    "**Batch Experiments: O**"
   ]
  },
  {
   "cell_type": "code",
   "execution_count": 8,
   "metadata": {
    "id": "5FOKUpUUrfLc"
   },
   "outputs": [
    {
     "data": {
      "text/plain": [
       "({'Step': np.float64(3.0),\n",
       "  'Reconstruction Loss': np.float64(37977.432291666664),\n",
       "  'KL Loss': np.float64(16043.337239583334),\n",
       "  'Uniformity Loss': np.float64(0.0013314847795602668),\n",
       "  'Orthogonality Loss': np.float64(0.9886571566263834),\n",
       "  'Total Loss': np.float64(55009.42668787638),\n",
       "  'Time': np.float64(0.523550271987915),\n",
       "  'Entropy': np.float64(0.0176967506607373),\n",
       "  'Margin': np.float64(0.016168506505588667),\n",
       "  '0 Fraction': np.float64(1.0),\n",
       "  '1 Fraction': np.float64(0.0),\n",
       "  'FID': np.float64(174.3293670654297),\n",
       "  'Time/Step': np.float64(0.17451675732930502)},\n",
       " {'Step': np.float64(0.0),\n",
       "  'Reconstruction Loss': np.float64(1642.5876507735495),\n",
       "  'KL Loss': np.float64(114.58349821044156),\n",
       "  'Uniformity Loss': np.float64(0.0009194522259926889),\n",
       "  'Orthogonality Loss': np.float64(0.0013532731032715962),\n",
       "  'Total Loss': np.float64(1584.2167896005656),\n",
       "  'Time': np.float64(0.002018391226185695),\n",
       "  'Entropy': np.float64(0.007371216503346791),\n",
       "  'Margin': np.float64(0.0070792402620255875),\n",
       "  '0 Fraction': np.float64(0.0),\n",
       "  '1 Fraction': np.float64(0.0),\n",
       "  'FID': np.float64(1.5684595217862245),\n",
       "  'Time/Step': np.float64(0.0006727970753952318)})"
      ]
     },
     "execution_count": 8,
     "metadata": {},
     "output_type": "execute_result"
    }
   ],
   "source": [
    "train_kwargs = params | {\"uniformity_weight\": 0e3, \"orthogonality_weight\": 1e3, \"forget_weight\": 0.}\n",
    "train_kwargs[\"folder\"] = f\"{experiment_folder}/vae-o\"\n",
    "be = bt.BatchExperiment(vo.train, train_kwargs, 3)\n",
    "# be.run()\n",
    "# torch.cuda.empty_cache()\n",
    "# be.fid(num_fid_samples, device, fid_batch_size)\n",
    "be.summarize_wo_fid()#num_fid_samples=num_fid_samples, batch_size=256)"
   ]
  },
  {
   "cell_type": "markdown",
   "metadata": {
    "id": "6sEERLlPeyAn"
   },
   "source": [
    "**Batch Experiments: Ohat**"
   ]
  },
  {
   "cell_type": "code",
   "execution_count": 9,
   "metadata": {
    "id": "CrENECDsevfK"
   },
   "outputs": [
    {
     "data": {
      "text/plain": [
       "({'Step': np.float64(2.8),\n",
       "  'Reconstruction Loss': np.float64(39179.221484375),\n",
       "  'KL Loss': np.float64(16039.017578125),\n",
       "  'Uniformity Loss': np.float64(0.07175791754707458),\n",
       "  'Orthogonality Loss': np.float64(0.985102254152298),\n",
       "  'Total Loss': np.float64(56275.09923419937),\n",
       "  'Time': np.float64(0.4992107582092284),\n",
       "  'Entropy': np.float64(0.02189122019335622),\n",
       "  'Margin': np.float64(0.01682926425710316),\n",
       "  '0 Fraction': np.float64(0.996875),\n",
       "  '1 Fraction': np.float64(0.003125),\n",
       "  'FID': np.float64(173.39474792480468),\n",
       "  'Time/Step': np.float64(0.17828955650329587)},\n",
       " {'Step': np.float64(0.39999999999999997),\n",
       "  'Reconstruction Loss': np.float64(2836.1425766894763),\n",
       "  'KL Loss': np.float64(306.9366231636661),\n",
       "  'Uniformity Loss': np.float64(0.08444727399710725),\n",
       "  'Orthogonality Loss': np.float64(0.0051510294314576635),\n",
       "  'Total Loss': np.float64(3056.038585155855),\n",
       "  'Time': np.float64(0.07137298173488733),\n",
       "  'Entropy': np.float64(0.014525090344654563),\n",
       "  'Margin': np.float64(0.008839484472361632),\n",
       "  '0 Fraction': np.float64(0.0038273277230987156),\n",
       "  '1 Fraction': np.float64(0.003827327723098716),\n",
       "  'FID': np.float64(1.7918501669529814),\n",
       "  'Time/Step': np.float64(0.0010097009721851985)})"
      ]
     },
     "execution_count": 9,
     "metadata": {},
     "output_type": "execute_result"
    }
   ],
   "source": [
    "train_kwargs = params | {\"uniformity_weight\": 1e3, \"orthogonality_weight\": 1e3, \"forget_weight\": 0.}\n",
    "train_kwargs[\"folder\"] = f\"{experiment_folder}/vae-ohat\"\n",
    "be = bt.BatchExperiment(vo.train, train_kwargs, num_experiments)\n",
    "# be.run()\n",
    "# torch.cuda.empty_cache()\n",
    "# be.fid(num_fid_samples, device, fid_batch_size)\n",
    "be.summarize_wo_fid()#num_fid_samples=num_fid_samples, batch_size=256)"
   ]
  },
  {
   "cell_type": "markdown",
   "metadata": {
    "id": "AUbx9pvMuA25"
   },
   "source": [
    "**Batch Experiments: OS**"
   ]
  },
  {
   "cell_type": "code",
   "execution_count": 10,
   "metadata": {
    "colab": {
     "base_uri": "https://localhost:8080/",
     "height": 1000
    },
    "id": "m7pCJWDDp3Fo",
    "outputId": "da6013d0-91a0-4787-d698-7b8f6b061361"
   },
   "outputs": [
    {
     "data": {
      "text/plain": [
       "({'Step': np.float64(2.8),\n",
       "  'Reconstruction Loss': np.float64(56311.9439453125),\n",
       "  'KL Loss': np.float64(15296.820166015625),\n",
       "  'Uniformity Loss': np.float64(0.07142043802887196),\n",
       "  'Orthogonality Loss': np.float64(12.504806125164032),\n",
       "  'Total Loss': np.float64(84113.57023649216),\n",
       "  'Time': np.float64(0.41392269134521464),\n",
       "  'Entropy': np.float64(0.02067288113757963),\n",
       "  'Margin': np.float64(0.01564492890611285),\n",
       "  '0 Fraction': np.float64(0.996875),\n",
       "  '1 Fraction': np.float64(0.003125),\n",
       "  'FID': np.float64(177.10313568115234),\n",
       "  'Time/Step': np.float64(0.14782953262329096)},\n",
       " {'Step': np.float64(0.39999999999999997),\n",
       "  'Reconstruction Loss': np.float64(20154.582086067327),\n",
       "  'KL Loss': np.float64(3748.9525355224696),\n",
       "  'Uniformity Loss': np.float64(0.03621937497143525),\n",
       "  'Orthogonality Loss': np.float64(27.31144405993506),\n",
       "  'Total Loss': np.float64(19091.04850559561),\n",
       "  'Time': np.float64(0.18636533656408855),\n",
       "  'Entropy': np.float64(0.011859195470589792),\n",
       "  'Margin': np.float64(0.009192662753071786),\n",
       "  '0 Fraction': np.float64(0.0038273277230987156),\n",
       "  '1 Fraction': np.float64(0.003827327723098716),\n",
       "  'FID': np.float64(4.745016919835695),\n",
       "  'Time/Step': np.float64(0.06248546566817229)})"
      ]
     },
     "execution_count": 10,
     "metadata": {},
     "output_type": "execute_result"
    }
   ],
   "source": [
    "train_kwargs = params | {\"uniformity_weight\": 0e3, \"orthogonality_weight\": 1e3, \"forget_weight\": 0.}\n",
    "train_kwargs[\"folder\"] = f\"{experiment_folder}/vae-os\"\n",
    "be = bt.BatchExperiment(vos.train, train_kwargs, num_experiments)\n",
    "# be.run()\n",
    "# torch.cuda.empty_cache()\n",
    "# be.fid(num_fid_samples, device, fid_batch_size)\n",
    "be.summarize_wo_fid()#num_fid_samples=num_fid_samples, batch_size=256)"
   ]
  },
  {
   "cell_type": "markdown",
   "metadata": {
    "id": "aL4BsReDuu8J"
   },
   "source": [
    "**Batch Experiments: OhatShat**"
   ]
  },
  {
   "cell_type": "code",
   "execution_count": 11,
   "metadata": {
    "id": "Q0ruxs5qu67d"
   },
   "outputs": [
    {
     "data": {
      "text/plain": [
       "({'Step': np.float64(2.9),\n",
       "  'Reconstruction Loss': np.float64(67909.336328125),\n",
       "  'KL Loss': np.float64(14407.930419921875),\n",
       "  'Uniformity Loss': np.float64(0.08013477250351565),\n",
       "  'Orthogonality Loss': np.float64(21.735865914821623),\n",
       "  'Total Loss': np.float64(104133.26743537202),\n",
       "  'Time': np.float64(0.3894952869415282),\n",
       "  'Entropy': np.float64(0.02323792474344368),\n",
       "  'Margin': np.float64(0.01678973659873005),\n",
       "  '0 Fraction': np.float64(0.9953125),\n",
       "  '1 Fraction': np.float64(0.0046875),\n",
       "  'FID': np.float64(175.1669708251953),\n",
       "  'Time/Step': np.float64(0.13430871963500973)},\n",
       " {'Step': np.float64(0.5385164807134504),\n",
       "  'Reconstruction Loss': np.float64(31852.42326243167),\n",
       "  'KL Loss': np.float64(4430.775475031076),\n",
       "  'Uniformity Loss': np.float64(0.07204736821392273),\n",
       "  'Orthogonality Loss': np.float64(31.84043516337152),\n",
       "  'Total Loss': np.float64(12082.150000174812),\n",
       "  'Time': np.float64(0.2175352959843288),\n",
       "  'Entropy': np.float64(0.011604124405831983),\n",
       "  'Margin': np.float64(0.006423991550396066),\n",
       "  '0 Fraction': np.float64(0.005182226234930313),\n",
       "  '1 Fraction': np.float64(0.005182226234930313),\n",
       "  'FID': np.float64(2.304365840567477),\n",
       "  'Time/Step': np.float64(0.069555521252781)})"
      ]
     },
     "execution_count": 11,
     "metadata": {},
     "output_type": "execute_result"
    }
   ],
   "source": [
    "train_kwargs = params | {\"uniformity_weight\": 1e3, \"orthogonality_weight\": 1e3, \"forget_weight\": 0.}\n",
    "train_kwargs[\"folder\"] = f\"{experiment_folder}/vae-ohatshat\"\n",
    "be = bt.BatchExperiment(vos.train, train_kwargs, num_experiments)\n",
    "# be.run()\n",
    "# torch.cuda.empty_cache()\n",
    "# be.fid(num_fid_samples, device, fid_batch_size)\n",
    "be.summarize_wo_fid()#num_fid_samples=num_fid_samples, batch_size=256)"
   ]
  },
  {
   "cell_type": "markdown",
   "metadata": {
    "id": "eeyOtTuac_tL"
   },
   "source": [
    "**Batch Experiments: hat**"
   ]
  },
  {
   "cell_type": "code",
   "execution_count": 12,
   "metadata": {
    "colab": {
     "base_uri": "https://localhost:8080/",
     "height": 1000
    },
    "id": "6OrlSbrIc09j",
    "outputId": "9b690ab2-1479-40e0-a6ab-2f2c91c3b819"
   },
   "outputs": [
    {
     "data": {
      "text/plain": [
       "({'Step': np.float64(271.4),\n",
       "  'Reconstruction Loss': np.float64(28960.44296875),\n",
       "  'KL Loss': np.float64(16030.70126953125),\n",
       "  'Uniformity Loss': np.float64(0.4507850676774979),\n",
       "  'Orthogonality Loss': np.float64(0.7278087079524994),\n",
       "  'Total Loss': np.float64(45441.92930595875),\n",
       "  'Time': np.float64(4.345288252830492),\n",
       "  'Entropy': np.float64(0.07727070823311802),\n",
       "  'Margin': np.float64(0.04788352400064464),\n",
       "  '0 Fraction': np.float64(0.984375),\n",
       "  '1 Fraction': np.float64(0.015625),\n",
       "  'FID': np.float64(174.8083267211914),\n",
       "  'Time/Step': np.float64(0.01601064205169673)},\n",
       " {'Step': np.float64(115.47138173590892),\n",
       "  'Reconstruction Loss': np.float64(674.9307361730787),\n",
       "  'KL Loss': np.float64(245.657045734739),\n",
       "  'Uniformity Loss': np.float64(0.1129194588994609),\n",
       "  'Orthogonality Loss': np.float64(0.16541139962159696),\n",
       "  'Total Loss': np.float64(863.6352426088846),\n",
       "  'Time': np.float64(1.8491051276803883),\n",
       "  'Entropy': np.float64(0.027038115699461112),\n",
       "  'Margin': np.float64(0.017506688721422903),\n",
       "  '0 Fraction': np.float64(0.0),\n",
       "  '1 Fraction': np.float64(0.0),\n",
       "  'FID': np.float64(1.9028309923424405),\n",
       "  'Time/Step': np.float64(0.00011918445566904163)})"
      ]
     },
     "execution_count": 12,
     "metadata": {},
     "output_type": "execute_result"
    }
   ],
   "source": [
    "import vae_hat as vh\n",
    "train_kwargs = params | {\"num_steps\": 500, \"uniformity_weight\": 1e3, \"orthogonality_weight\": 0e3, \"forget_weight\": 0.}\n",
    "train_kwargs[\"folder\"] = f\"{experiment_folder}/vae-hat\"\n",
    "be = bt.BatchExperiment(vh.train, train_kwargs, num_experiments)\n",
    "# be.run()\n",
    "# torch.cuda.empty_cache()\n",
    "# be.fid(num_fid_samples, device, fid_batch_size)\n",
    "be.summarize_wo_fid()#num_fid_samples=num_fid_samples, batch_size=256)"
   ]
  },
  {
   "cell_type": "markdown",
   "metadata": {
    "id": "cN8t8KxGMn8G"
   },
   "source": [
    "**Upload data to Drive**"
   ]
  },
  {
   "cell_type": "code",
   "execution_count": 13,
   "metadata": {
    "colab": {
     "base_uri": "https://localhost:8080/"
    },
    "id": "9XVSWs9jYher",
    "outputId": "f48751c6-03c8-442d-ac7f-3f63c77d36b6"
   },
   "outputs": [
    {
     "name": "stdout",
     "output_type": "stream",
     "text": [
      "\tzip warning: name not matched: /content/CelebA-Experiments\n",
      "\n",
      "zip error: Nothing to do! (try: zip -r /content/CelebA-Experiments-r-1.zip . -i /content/CelebA-Experiments)\n",
      "cp: /content/CelebA-Experiments-r-1.zip: No such file or directory\n"
     ]
    }
   ],
   "source": [
    "!zip -r /content/CelebA-Experiments-r-1.zip /content/CelebA-Experiments\n",
    "!cp /content/CelebA-Experiments-r-1.zip \"/content/drive/MyDrive/Pinak/forget\""
   ]
  },
  {
   "cell_type": "code",
   "execution_count": 2,
   "metadata": {},
   "outputs": [],
   "source": [
    "suffix =  [\"a\", \"ad\", \"s\", \"o\", \"os\", \"hat\", \"shat\", \"ohat\", \"ohatshat\"]\n",
    "\n",
    "ut.summary_csv(\\\n",
    "[f\"{experiment_folder}/vae-{s}/summary.json\" for s in suffix],\\\n",
    "[f\"{experiment_folder}/vae-{s}/summary_std.json\" for s in suffix], suffix,\\\n",
    " f\"{experiment_folder}/summary.csv\")"
   ]
  },
  {
   "cell_type": "code",
   "execution_count": null,
   "metadata": {},
   "outputs": [],
   "source": []
  },
  {
   "cell_type": "code",
   "execution_count": null,
   "metadata": {},
   "outputs": [],
   "source": []
  }
 ],
 "metadata": {
  "accelerator": "GPU",
  "colab": {
   "gpuType": "A100",
   "machine_shape": "hm",
   "provenance": []
  },
  "kernelspec": {
   "display_name": "Python 3 (ipykernel)",
   "language": "python",
   "name": "python3"
  },
  "language_info": {
   "codemirror_mode": {
    "name": "ipython",
    "version": 3
   },
   "file_extension": ".py",
   "mimetype": "text/x-python",
   "name": "python",
   "nbconvert_exporter": "python",
   "pygments_lexer": "ipython3",
   "version": "3.12.11"
  }
 },
 "nbformat": 4,
 "nbformat_minor": 4
}
