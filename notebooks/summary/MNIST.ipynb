{
 "cells": [
  {
   "cell_type": "code",
   "execution_count": 1,
   "metadata": {
    "colab": {
     "base_uri": "https://localhost:8080/"
    },
    "id": "hrXzkGSNotut",
    "outputId": "5d33439b-6844-48a2-bbaa-b4aadeebfd91"
   },
   "outputs": [],
   "source": [
    "import os, sys, torch\n",
    "import pandas as pd\n",
    "import numpy as np\n",
    "sys.path.append(os.path.abspath('../../modules'))\n",
    "sys.path.append(os.path.abspath('../../modules/mnist'))\n",
    "import vae_train as vt\n",
    "import vae_ortho as vo\n",
    "import vae_surgery as vs\n",
    "import vae_os as vos\n",
    "import vae_ascent as va\n",
    "import vae_ad as vad\n",
    "import classifier as cl\n",
    "from vae import VAE\n",
    "\n",
    "import batch as bt\n",
    "import utility as ut\n",
    "\n",
    "device = ut.get_device()\n",
    "\n",
    "\n",
    "# load custom modules\n",
    "import vae_train as vt\n",
    "import vae_ortho as vo\n",
    "import vae_surgery as vs\n",
    "import vae_os as vos\n",
    "import vae_ascent as va\n",
    "import vae_ad as vad\n",
    "import classifier as cl\n",
    "import batch as bt\n",
    "import utility as ut\n",
    "from vae import VAE\n",
    "import datapipe\n",
    "\n",
    "\n",
    "# set general parameters\n",
    "device = ut.get_device()\n",
    "celeba_folder = \"../../data/MNIST\"\n",
    "experiment_folder = \"../../data/MNIST/MNIST-Experiments\"\n",
    "mnist_folder = \"../../data/MNIST/MNIST-Experiments\"\n",
    "num_fid_samples = 25000\n",
    "fid_batch_size = 256\n",
    "num_experiments = 10"
   ]
  },
  {
   "cell_type": "code",
   "execution_count": 2,
   "metadata": {
    "colab": {
     "base_uri": "https://localhost:8080/",
     "height": 709
    },
    "id": "wN4Jscv6FIfK",
    "outputId": "2533eceb-f21a-4eef-ace0-d03dff974309"
   },
   "outputs": [],
   "source": [
    "import vae_viz as viz\n",
    "root = '/content/MNIST-Experiments'\n",
    "mnist_folder = '/content/MNIST'\n",
    "path_a = f'{mnist_folder}/vae/vae_200.pth'\n",
    "path_b = f'{root}/vae-o/expr-0/checkpoints/vae_epoch_10.pth'\n",
    "# model_a = vt.init_model(path_a, 2, 'cuda')\n",
    "# model_b = vt.init_model(path_b, 2, 'cuda')\n",
    "# viz.generate_random_samples(model_b, num_samples=100, bm=True);\n",
    "# viz.compare_generated_samples(model_b, model_b, num_samples=100);"
   ]
  },
  {
   "cell_type": "code",
   "execution_count": 3,
   "metadata": {
    "colab": {
     "base_uri": "https://localhost:8080/"
    },
    "id": "AScV3TU2Rm5p",
    "outputId": "7102cb80-3643-4976-a06e-6c423e744ada"
   },
   "outputs": [],
   "source": [
    "# set more experiment parameters\n",
    "params = {\n",
    "    \"model\": f\"{mnist_folder}/vae/vae_200.pth\",\n",
    "    \"latent_dim\": 2,\n",
    "    \"num_steps\": 50,\n",
    "    \"batch_size\": 128,\n",
    "    \"log_interval\": 1,\n",
    "    \"collect_interval\": \"epoch\",\n",
    "    \"save_steps\": \"epoch\",\n",
    "    \"all_digits\": list(range(10)),\n",
    "    \"forget_digit\": 1,\n",
    "    \"classifier_path\": f\"{mnist_folder}/classifiers/MNISTClassifier.pth\",\n",
    "    \"kl_weight\": 1,\n",
    "    \"total_duration\": None,\n",
    "    \"data_path\": mnist_folder\n",
    "}\n",
    "\n",
    "# dataloader = datapipe.MNIST().get_dataloader(params['batch_size'], root=mnist_folder)\n",
    "# num_epochs = np.ceil(len(dataloader) / params['num_steps'])\n",
    "# print(f\"Total epochs = {num_epochs}, steps per epoch = {len(dataloader)}, data size = {params['batch_size']*len(dataloader)}\")"
   ]
  },
  {
   "cell_type": "markdown",
   "metadata": {
    "id": "A94PNGuivyQs"
   },
   "source": [
    "**Batch Experiments: A**"
   ]
  },
  {
   "cell_type": "code",
   "execution_count": 4,
   "metadata": {
    "colab": {
     "base_uri": "https://localhost:8080/",
     "height": 551
    },
    "id": "ZnyDr_MmvuFD",
    "outputId": "1b2eecf9-25bd-45dc-a012-db50346c877f"
   },
   "outputs": [
    {
     "data": {
      "text/plain": [
       "({'Step': np.float64(4.6),\n",
       "  'Reconstruction Loss': np.float64(29371.2568359375),\n",
       "  'KL Loss': np.float64(814.4104187011719),\n",
       "  'Uniformity Loss': np.float64(0.31466629505157473),\n",
       "  'Orthogonality Loss': np.float64(0.20661019412800669),\n",
       "  'Total Loss': np.float64(30185.667254638673),\n",
       "  'Time': np.float64(0.02365499693492651),\n",
       "  'Entropy': np.float64(0.39300809502601625),\n",
       "  'Margin': np.float64(0.4172366350889206),\n",
       "  '0 Fraction': np.float64(0.08515625),\n",
       "  '1 Fraction': np.float64(0.0125),\n",
       "  '2 Fraction': np.float64(0.06328125),\n",
       "  '3 Fraction': np.float64(0.11953125),\n",
       "  '4 Fraction': np.float64(0.1375),\n",
       "  '5 Fraction': np.float64(0.028125),\n",
       "  '6 Fraction': np.float64(0.1421875),\n",
       "  '7 Fraction': np.float64(0.05703125),\n",
       "  '8 Fraction': np.float64(0.24765625),\n",
       "  '9 Fraction': np.float64(0.10703125),\n",
       "  'FID': np.float64(612.2992553710938),\n",
       "  'Time/Step': np.float64(0.0051423906380275025)},\n",
       " {'Step': np.float64(0.66332495807108),\n",
       "  'Reconstruction Loss': np.float64(2546.5794945121684),\n",
       "  'KL Loss': np.float64(16.599857630716333),\n",
       "  'Uniformity Loss': np.float64(0.038629788738995155),\n",
       "  'Orthogonality Loss': np.float64(0.11095805866657946),\n",
       "  'Total Loss': np.float64(2558.322467944367),\n",
       "  'Time': np.float64(0.004040680950469384),\n",
       "  'Entropy': np.float64(0.04240468131427418),\n",
       "  'Margin': np.float64(0.025433277825032942),\n",
       "  '0 Fraction': np.float64(0.01796875),\n",
       "  '1 Fraction': np.float64(0.003827327723098716),\n",
       "  '2 Fraction': np.float64(0.016554390703450852),\n",
       "  '3 Fraction': np.float64(0.021551740975208938),\n",
       "  '4 Fraction': np.float64(0.0213096589015404),\n",
       "  '5 Fraction': np.float64(0.0171875),\n",
       "  '6 Fraction': np.float64(0.02415566380271923),\n",
       "  '7 Fraction': np.float64(0.013554180916326151),\n",
       "  '8 Fraction': np.float64(0.02986174195877561),\n",
       "  '9 Fraction': np.float64(0.027961765887770752),\n",
       "  'FID': np.float64(4.929826211262461),\n",
       "  'Time/Step': np.float64(0.0004660542953831631)})"
      ]
     },
     "execution_count": 4,
     "metadata": {},
     "output_type": "execute_result"
    }
   ],
   "source": [
    "train_kwargs = params | {\"num_steps\": 500, \"uniformity_weight\": 0e3}\n",
    "train_kwargs[\"folder\"] = f\"{experiment_folder}/vae-a\"\n",
    "be = bt.BatchExperiment(va.train, train_kwargs, num_experiments)\n",
    "# be.run()\n",
    "# be.fid(num_fid_samples, device)\n",
    "be.summarize_wo_fid()"
   ]
  },
  {
   "cell_type": "markdown",
   "metadata": {
    "id": "LeL00URVvM2D"
   },
   "source": [
    "**Batch Experiments: AD**"
   ]
  },
  {
   "cell_type": "code",
   "execution_count": 5,
   "metadata": {
    "colab": {
     "base_uri": "https://localhost:8080/",
     "height": 551
    },
    "id": "hAHX-W11vMT9",
    "outputId": "f81307f7-af49-4cc6-ad11-60c5a9ede49e"
   },
   "outputs": [
    {
     "data": {
      "text/plain": [
       "({'Step': np.float64(5.0),\n",
       "  'Reconstruction Loss': np.float64(24693.16171875),\n",
       "  'KL Loss': np.float64(812.138623046875),\n",
       "  'Uniformity Loss': np.float64(0.3180971086025238),\n",
       "  'Orthogonality Loss': np.float64(0.23577705584466457),\n",
       "  'Total Loss': np.float64(25505.300341796876),\n",
       "  'Time': np.float64(0.025473169785625284),\n",
       "  'Entropy': np.float64(0.419376802444458),\n",
       "  'Margin': np.float64(0.42958112359046935),\n",
       "  '0 Fraction': np.float64(0.103125),\n",
       "  '1 Fraction': np.float64(0.01015625),\n",
       "  '2 Fraction': np.float64(0.0609375),\n",
       "  '3 Fraction': np.float64(0.1203125),\n",
       "  '4 Fraction': np.float64(0.134375),\n",
       "  '5 Fraction': np.float64(0.01328125),\n",
       "  '6 Fraction': np.float64(0.13984375),\n",
       "  '7 Fraction': np.float64(0.06640625),\n",
       "  '8 Fraction': np.float64(0.2265625),\n",
       "  '9 Fraction': np.float64(0.125),\n",
       "  'FID': np.float64(266.9102813720703),\n",
       "  'Time/Step': np.float64(0.005094633957125057)},\n",
       " {'Step': np.float64(1.2649110640673518),\n",
       "  'Reconstruction Loss': np.float64(1746.2205210787502),\n",
       "  'KL Loss': np.float64(13.033925337135697),\n",
       "  'Uniformity Loss': np.float64(0.048943911191084315),\n",
       "  'Orthogonality Loss': np.float64(0.12039770890787474),\n",
       "  'Total Loss': np.float64(1755.5357057860301),\n",
       "  'Time': np.float64(0.006461142863265045),\n",
       "  'Entropy': np.float64(0.03452127555957174),\n",
       "  'Margin': np.float64(0.02214725105393301),\n",
       "  '0 Fraction': np.float64(0.031014739439498763),\n",
       "  '1 Fraction': np.float64(0.0035801372616842495),\n",
       "  '2 Fraction': np.float64(0.0225888004606265),\n",
       "  '3 Fraction': np.float64(0.018221724671391562),\n",
       "  '4 Fraction': np.float64(0.028125),\n",
       "  '5 Fraction': np.float64(0.010510643786776335),\n",
       "  '6 Fraction': np.float64(0.03133776737520559),\n",
       "  '7 Fraction': np.float64(0.018895916597574725),\n",
       "  '8 Fraction': np.float64(0.02591113117465156),\n",
       "  '9 Fraction': np.float64(0.027510651346342202),\n",
       "  'FID': np.float64(19.300336571922184),\n",
       "  'Time/Step': np.float64(9.050710273587515e-05)})"
      ]
     },
     "execution_count": 5,
     "metadata": {},
     "output_type": "execute_result"
    }
   ],
   "source": [
    "train_kwargs = params | {\"num_steps\": 500, \"uniformity_weight\": 0e3}\n",
    "train_kwargs[\"folder\"] = f\"{experiment_folder}/vae-ad\"\n",
    "be = bt.BatchExperiment(vad.train, train_kwargs, num_experiments)\n",
    "# be.run()\n",
    "# be.fid(num_fid_samples, device)\n",
    "be.summarize_wo_fid()"
   ]
  },
  {
   "cell_type": "markdown",
   "metadata": {
    "id": "U8UsKHC5fMWB"
   },
   "source": [
    "**Batch Experiments: S**"
   ]
  },
  {
   "cell_type": "code",
   "execution_count": 6,
   "metadata": {
    "colab": {
     "base_uri": "https://localhost:8080/",
     "height": 537
    },
    "id": "4ZtC_tm0fQrn",
    "outputId": "5e7954ca-883d-474b-bee6-4f9da1966f27"
   },
   "outputs": [
    {
     "data": {
      "text/plain": [
       "({'Step': np.float64(143.7),\n",
       "  'Reconstruction Loss': np.float64(20841.723046875),\n",
       "  'KL Loss': np.float64(749.5875061035156),\n",
       "  'Uniformity Loss': np.float64(0.3997056931257248),\n",
       "  'Orthogonality Loss': np.float64(0.06783585549565029),\n",
       "  'Total Loss': np.float64(21591.310552978517),\n",
       "  'Time': np.float64(1.016269258989471),\n",
       "  'Entropy': np.float64(0.4092263251543045),\n",
       "  'Margin': np.float64(0.39195733666419985),\n",
       "  '0 Fraction': np.float64(0.1078125),\n",
       "  '1 Fraction': np.float64(0.015625),\n",
       "  '2 Fraction': np.float64(0.065625),\n",
       "  '3 Fraction': np.float64(0.146875),\n",
       "  '4 Fraction': np.float64(0.12265625),\n",
       "  '5 Fraction': np.float64(0.0125),\n",
       "  '6 Fraction': np.float64(0.12734375),\n",
       "  '7 Fraction': np.float64(0.059375),\n",
       "  '8 Fraction': np.float64(0.20234375),\n",
       "  '9 Fraction': np.float64(0.13984375),\n",
       "  'FID': np.float64(23.036873054504394),\n",
       "  'Time/Step': np.float64(0.007072159074387412)},\n",
       " {'Step': np.float64(128.20300308495118),\n",
       "  'Reconstruction Loss': np.float64(671.8691821285856),\n",
       "  'KL Loss': np.float64(14.96391068808174),\n",
       "  'Uniformity Loss': np.float64(0.05729683228522371),\n",
       "  'Orthogonality Loss': np.float64(0.062464801990963055),\n",
       "  'Total Loss': np.float64(672.1523404854308),\n",
       "  'Time': np.float64(0.9067349394609264),\n",
       "  'Entropy': np.float64(0.02191472027372721),\n",
       "  'Margin': np.float64(0.030150337434024937),\n",
       "  '0 Fraction': np.float64(0.019390115071860715),\n",
       "  '1 Fraction': np.float64(0.0),\n",
       "  '2 Fraction': np.float64(0.02102128757355267),\n",
       "  '3 Fraction': np.float64(0.025146057717861065),\n",
       "  '4 Fraction': np.float64(0.02496335204479759),\n",
       "  '5 Fraction': np.float64(0.009375),\n",
       "  '6 Fraction': np.float64(0.030866791039278765),\n",
       "  '7 Fraction': np.float64(0.016086922095292187),\n",
       "  '8 Fraction': np.float64(0.028694324487823372),\n",
       "  '9 Fraction': np.float64(0.03431279883749648),\n",
       "  'FID': np.float64(0.23388943571590237),\n",
       "  'Time/Step': np.float64(5.546215652882524e-05)})"
      ]
     },
     "execution_count": 6,
     "metadata": {},
     "output_type": "execute_result"
    }
   ],
   "source": [
    "train_kwargs = params | {\"num_steps\": 500, \"uniformity_weight\": 0e3}\n",
    "train_kwargs[\"folder\"] = f\"{experiment_folder}/vae-s\"\n",
    "be = bt.BatchExperiment(vs.train, train_kwargs, num_experiments)\n",
    "# be.run()\n",
    "# be.fid(num_fid_samples, device)\n",
    "be.summarize_wo_fid()"
   ]
  },
  {
   "cell_type": "markdown",
   "metadata": {
    "id": "sYAgnUwmfc6A"
   },
   "source": [
    "**Batch Experiments: Shat**"
   ]
  },
  {
   "cell_type": "code",
   "execution_count": 7,
   "metadata": {
    "colab": {
     "base_uri": "https://localhost:8080/",
     "height": 1000
    },
    "id": "XqDAEWsUgPRc",
    "outputId": "16cdaff0-5c29-43cc-c13c-c955d1e2e7f8"
   },
   "outputs": [
    {
     "data": {
      "text/plain": [
       "({'Step': np.float64(2.8),\n",
       "  'Reconstruction Loss': np.float64(22205.6275390625),\n",
       "  'KL Loss': np.float64(764.2342102050782),\n",
       "  'Uniformity Loss': np.float64(0.2710167467594147),\n",
       "  'Orthogonality Loss': np.float64(0.034476232959423155),\n",
       "  'Total Loss': np.float64(23240.87849602699),\n",
       "  'Time': np.float64(0.021375404213959174),\n",
       "  'Entropy': np.float64(0.38297992050647733),\n",
       "  'Margin': np.float64(0.3964219093322754),\n",
       "  '0 Fraction': np.float64(0.08984375),\n",
       "  '1 Fraction': np.float64(0.00234375),\n",
       "  '2 Fraction': np.float64(0.06328125),\n",
       "  '3 Fraction': np.float64(0.1171875),\n",
       "  '4 Fraction': np.float64(0.121875),\n",
       "  '5 Fraction': np.float64(0.02578125),\n",
       "  '6 Fraction': np.float64(0.12578125),\n",
       "  '7 Fraction': np.float64(0.059375),\n",
       "  '8 Fraction': np.float64(0.27109375),\n",
       "  '9 Fraction': np.float64(0.1234375),\n",
       "  'FID': np.float64(24.079706382751464),\n",
       "  'Time/Step': np.float64(0.007634072933556849)},\n",
       " {'Step': np.float64(0.39999999999999997),\n",
       "  'Reconstruction Loss': np.float64(697.380775291842),\n",
       "  'KL Loss': np.float64(9.767832910313148),\n",
       "  'Uniformity Loss': np.float64(0.04938813443719875),\n",
       "  'Orthogonality Loss': np.float64(0.04851853632078995),\n",
       "  'Total Loss': np.float64(705.3918314834538),\n",
       "  'Time': np.float64(0.0034535383324332367),\n",
       "  'Entropy': np.float64(0.029922764746816932),\n",
       "  'Margin': np.float64(0.02783993178548931),\n",
       "  '0 Fraction': np.float64(0.01953125),\n",
       "  '1 Fraction': np.float64(0.0035801372616842495),\n",
       "  '2 Fraction': np.float64(0.019279629186332917),\n",
       "  '3 Fraction': np.float64(0.02543565718140579),\n",
       "  '4 Fraction': np.float64(0.02642427269576213),\n",
       "  '5 Fraction': np.float64(0.014843750000000001),\n",
       "  '6 Fraction': np.float64(0.026711439058248063),\n",
       "  '7 Fraction': np.float64(0.011692679333668566),\n",
       "  '8 Fraction': np.float64(0.026157295379348758),\n",
       "  '9 Fraction': np.float64(0.011481983169296146),\n",
       "  'FID': np.float64(0.4994703356899301),\n",
       "  'Time/Step': np.float64(0.0005703371683494884)})"
      ]
     },
     "execution_count": 7,
     "metadata": {},
     "output_type": "execute_result"
    }
   ],
   "source": [
    "train_kwargs = params | {\"num_steps\": 500, \"uniformity_weight\": 1e3}\n",
    "train_kwargs[\"folder\"] = f\"{experiment_folder}/vae-shat\"\n",
    "be = bt.BatchExperiment(vs.train, train_kwargs, num_experiments)\n",
    "# be.run()\n",
    "# be.fid(num_fid_samples, device)\n",
    "be.summarize_wo_fid()"
   ]
  },
  {
   "cell_type": "markdown",
   "metadata": {
    "id": "w8CvvoMXrgAy"
   },
   "source": [
    "**Batch Experiments: O**"
   ]
  },
  {
   "cell_type": "code",
   "execution_count": 8,
   "metadata": {
    "colab": {
     "base_uri": "https://localhost:8080/",
     "height": 1000
    },
    "id": "5FOKUpUUrfLc",
    "outputId": "d5069b43-4efd-4df1-b752-346dde808b4b"
   },
   "outputs": [
    {
     "data": {
      "text/plain": [
       "({'Step': np.float64(2.7),\n",
       "  'Reconstruction Loss': np.float64(50383.384375),\n",
       "  'KL Loss': np.float64(1473.0863525390625),\n",
       "  'Uniformity Loss': np.float64(0.3192806139588356),\n",
       "  'Orthogonality Loss': np.float64(0.07215650590442232),\n",
       "  'Total Loss': np.float64(51928.62723344348),\n",
       "  'Time': np.float64(0.05527057832142081),\n",
       "  'Entropy': np.float64(0.36537579298019407),\n",
       "  'Margin': np.float64(0.390606889128685),\n",
       "  '0 Fraction': np.float64(0.0984375),\n",
       "  '1 Fraction': np.float64(0.00390625),\n",
       "  '2 Fraction': np.float64(0.06484375),\n",
       "  '3 Fraction': np.float64(0.109375),\n",
       "  '4 Fraction': np.float64(0.12265625),\n",
       "  '5 Fraction': np.float64(0.021875),\n",
       "  '6 Fraction': np.float64(0.1296875),\n",
       "  '7 Fraction': np.float64(0.06015625),\n",
       "  '8 Fraction': np.float64(0.26796875),\n",
       "  '9 Fraction': np.float64(0.12109375),\n",
       "  'FID': np.float64(21.764022254943846),\n",
       "  'Time/Step': np.float64(0.020470584563489186)},\n",
       " {'Step': np.float64(0.45825756949558405),\n",
       "  'Reconstruction Loss': np.float64(1736.5062456208793),\n",
       "  'KL Loss': np.float64(14.838250187791267),\n",
       "  'Uniformity Loss': np.float64(0.06557120850385358),\n",
       "  'Orthogonality Loss': np.float64(0.06455765939935587),\n",
       "  'Total Loss': np.float64(1762.4672179752679),\n",
       "  'Time': np.float64(0.009410117896995626),\n",
       "  'Entropy': np.float64(0.022449201204594576),\n",
       "  'Margin': np.float64(0.019570354386050454),\n",
       "  '0 Fraction': np.float64(0.02425652296290629),\n",
       "  '1 Fraction': np.float64(0.005240784322265132),\n",
       "  '2 Fraction': np.float64(0.018504248878635957),\n",
       "  '3 Fraction': np.float64(0.030856902590830466),\n",
       "  '4 Fraction': np.float64(0.04149459914027969),\n",
       "  '5 Fraction': np.float64(0.010937500000000001),\n",
       "  '6 Fraction': np.float64(0.044083549936455885),\n",
       "  '7 Fraction': np.float64(0.01564451905820374),\n",
       "  '8 Fraction': np.float64(0.036983751182951954),\n",
       "  '9 Fraction': np.float64(0.02525504668006971),\n",
       "  'FID': np.float64(0.18107915090337792),\n",
       "  'Time/Step': np.float64(0.000271023747411035)})"
      ]
     },
     "execution_count": 8,
     "metadata": {},
     "output_type": "execute_result"
    }
   ],
   "source": [
    "train_kwargs = params | {\"num_steps\": 500, \"uniformity_weight\": 0e3, \"orthogonality_weight\": 1e3, \"forget_weight\": 0.}\n",
    "train_kwargs[\"folder\"] = f\"{experiment_folder}/vae-o\"\n",
    "be = bt.BatchExperiment(vo.train, train_kwargs, num_experiments)\n",
    "# be.run()\n",
    "# be.fid(num_fid_samples, device)\n",
    "be.summarize_wo_fid()"
   ]
  },
  {
   "cell_type": "markdown",
   "metadata": {
    "id": "6sEERLlPeyAn"
   },
   "source": [
    "**Batch Experiments: Ohat**"
   ]
  },
  {
   "cell_type": "code",
   "execution_count": 9,
   "metadata": {
    "colab": {
     "base_uri": "https://localhost:8080/",
     "height": 1000
    },
    "id": "CrENECDsevfK",
    "outputId": "20e1a522-4158-43eb-895d-302b63a9356c"
   },
   "outputs": [
    {
     "data": {
      "text/plain": [
       "({'Step': np.float64(2.8),\n",
       "  'Reconstruction Loss': np.float64(50137.793359375),\n",
       "  'KL Loss': np.float64(1483.9080322265625),\n",
       "  'Uniformity Loss': np.float64(0.2712393641471863),\n",
       "  'Orthogonality Loss': np.float64(0.051776875677751334),\n",
       "  'Total Loss': np.float64(51944.7176314265),\n",
       "  'Time': np.float64(0.06111926798550575),\n",
       "  'Entropy': np.float64(0.3896093338727951),\n",
       "  'Margin': np.float64(0.3961348652839661),\n",
       "  '0 Fraction': np.float64(0.0921875),\n",
       "  '1 Fraction': np.float64(0.00234375),\n",
       "  '2 Fraction': np.float64(0.08359375),\n",
       "  '3 Fraction': np.float64(0.115625),\n",
       "  '4 Fraction': np.float64(0.1078125),\n",
       "  '5 Fraction': np.float64(0.02578125),\n",
       "  '6 Fraction': np.float64(0.13203125),\n",
       "  '7 Fraction': np.float64(0.05390625),\n",
       "  '8 Fraction': np.float64(0.2609375),\n",
       "  '9 Fraction': np.float64(0.12578125),\n",
       "  'FID': np.float64(22.14109649658203),\n",
       "  'Time/Step': np.float64(0.021828309994823485)},\n",
       " {'Step': np.float64(0.39999999999999997),\n",
       "  'Reconstruction Loss': np.float64(1153.8903841242336),\n",
       "  'KL Loss': np.float64(14.767289179031204),\n",
       "  'Uniformity Loss': np.float64(0.03566958851476115),\n",
       "  'Orthogonality Loss': np.float64(0.04461521601158056),\n",
       "  'Total Loss': np.float64(1122.866613561334),\n",
       "  'Time': np.float64(0.00875629217060224),\n",
       "  'Entropy': np.float64(0.0350478353681293),\n",
       "  'Margin': np.float64(0.025775782584756032),\n",
       "  '0 Fraction': np.float64(0.0214808235701055),\n",
       "  '1 Fraction': np.float64(0.0035801372616842495),\n",
       "  '2 Fraction': np.float64(0.022110893278257666),\n",
       "  '3 Fraction': np.float64(0.027243118397129208),\n",
       "  '4 Fraction': np.float64(0.023385358667337132),\n",
       "  '5 Fraction': np.float64(0.01355418091632615),\n",
       "  '6 Fraction': np.float64(0.025781250000000002),\n",
       "  '7 Fraction': np.float64(0.01540865853384064),\n",
       "  '8 Fraction': np.float64(0.04238956239453293),\n",
       "  '9 Fraction': np.float64(0.02109375),\n",
       "  'FID': np.float64(0.5171558111848824),\n",
       "  'Time/Step': np.float64(0.00023362197567126103)})"
      ]
     },
     "execution_count": 9,
     "metadata": {},
     "output_type": "execute_result"
    }
   ],
   "source": [
    "train_kwargs = params | {\"num_steps\": 500, \"uniformity_weight\": 1e3, \"orthogonality_weight\": 1e3, \"forget_weight\": 0.}\n",
    "train_kwargs[\"folder\"] = f\"{experiment_folder}/vae-ohat\"\n",
    "be = bt.BatchExperiment(vo.train, train_kwargs, num_experiments)\n",
    "# be.run()\n",
    "# be.fid(num_fid_samples, device)\n",
    "be.summarize_wo_fid()"
   ]
  },
  {
   "cell_type": "markdown",
   "metadata": {
    "id": "AUbx9pvMuA25"
   },
   "source": [
    "**Batch Experiments: OS**"
   ]
  },
  {
   "cell_type": "code",
   "execution_count": 10,
   "metadata": {
    "colab": {
     "base_uri": "https://localhost:8080/",
     "height": 1000
    },
    "id": "m7pCJWDDp3Fo",
    "outputId": "8e22d2c5-02d8-4b1f-db85-e3927ac051ba"
   },
   "outputs": [
    {
     "data": {
      "text/plain": [
       "({'Step': np.float64(2.7),\n",
       "  'Reconstruction Loss': np.float64(36060.018359375),\n",
       "  'KL Loss': np.float64(1115.8646545410156),\n",
       "  'Uniformity Loss': np.float64(0.3420403003692627),\n",
       "  'Orthogonality Loss': np.float64(0.024267027736641418),\n",
       "  'Total Loss': np.float64(37200.150041652654),\n",
       "  'Time': np.float64(0.04080669151162188),\n",
       "  'Entropy': np.float64(0.3661139219999313),\n",
       "  'Margin': np.float64(0.3796547144651413),\n",
       "  '0 Fraction': np.float64(0.090625),\n",
       "  '1 Fraction': np.float64(0.00859375),\n",
       "  '2 Fraction': np.float64(0.06796875),\n",
       "  '3 Fraction': np.float64(0.11640625),\n",
       "  '4 Fraction': np.float64(0.11953125),\n",
       "  '5 Fraction': np.float64(0.01875),\n",
       "  '6 Fraction': np.float64(0.1359375),\n",
       "  '7 Fraction': np.float64(0.06875),\n",
       "  '8 Fraction': np.float64(0.259375),\n",
       "  '9 Fraction': np.float64(0.1140625),\n",
       "  'FID': np.float64(21.821201515197753),\n",
       "  'Time/Step': np.float64(0.015113589448748846)},\n",
       " {'Step': np.float64(0.6403124237432849),\n",
       "  'Reconstruction Loss': np.float64(13839.174727631918),\n",
       "  'KL Loss': np.float64(356.41816204429415),\n",
       "  'Uniformity Loss': np.float64(0.04169864003023524),\n",
       "  'Orthogonality Loss': np.float64(0.02145578077599588),\n",
       "  'Total Loss': np.float64(14187.7365031909),\n",
       "  'Time': np.float64(0.009726003761629699),\n",
       "  'Entropy': np.float64(0.025041599664499876),\n",
       "  'Margin': np.float64(0.025342542485904944),\n",
       "  '0 Fraction': np.float64(0.027994488854951437),\n",
       "  '1 Fraction': np.float64(0.00546875),\n",
       "  '2 Fraction': np.float64(0.017486741629374525),\n",
       "  '3 Fraction': np.float64(0.014594954447085471),\n",
       "  '4 Fraction': np.float64(0.023188784499462232),\n",
       "  '5 Fraction': np.float64(0.012203515118604149),\n",
       "  '6 Fraction': np.float64(0.025),\n",
       "  '7 Fraction': np.float64(0.01970237533268514),\n",
       "  '8 Fraction': np.float64(0.020009763241977657),\n",
       "  '9 Fraction': np.float64(0.022963966338592295),\n",
       "  'FID': np.float64(0.43763461751924215),\n",
       "  'Time/Step': np.float64(0.00034989959614574424)})"
      ]
     },
     "execution_count": 10,
     "metadata": {},
     "output_type": "execute_result"
    }
   ],
   "source": [
    "train_kwargs = params | {\"num_steps\": 500, \"uniformity_weight\": 0e3, \"orthogonality_weight\": 1e3, \"forget_weight\": 0.}\n",
    "train_kwargs[\"folder\"] = f\"{experiment_folder}/vae-os\"\n",
    "be = bt.BatchExperiment(vos.train, train_kwargs, num_experiments)\n",
    "# be.run()\n",
    "# be.fid(num_fid_samples, device)\n",
    "be.summarize_wo_fid()"
   ]
  },
  {
   "cell_type": "markdown",
   "metadata": {
    "id": "aL4BsReDuu8J"
   },
   "source": [
    "**Batch Experiments: OhatShat**"
   ]
  },
  {
   "cell_type": "code",
   "execution_count": 11,
   "metadata": {
    "colab": {
     "background_save": true,
     "base_uri": "https://localhost:8080/"
    },
    "id": "Q0ruxs5qu67d",
    "outputId": "4eae2f19-4b9c-407a-bfa5-2b2b3ef48233"
   },
   "outputs": [
    {
     "data": {
      "text/plain": [
       "({'Step': np.float64(2.5),\n",
       "  'Reconstruction Loss': np.float64(30588.4197265625),\n",
       "  'KL Loss': np.float64(977.1529357910156),\n",
       "  'Uniformity Loss': np.float64(0.3542573437094688),\n",
       "  'Orthogonality Loss': np.float64(0.05616636201739308),\n",
       "  'Total Loss': np.float64(31975.996368080378),\n",
       "  'Time': np.float64(0.041455438676869974),\n",
       "  'Entropy': np.float64(0.38195785582065583),\n",
       "  'Margin': np.float64(0.3943866789340973),\n",
       "  '0 Fraction': np.float64(0.09609375),\n",
       "  '1 Fraction': np.float64(0.009375),\n",
       "  '2 Fraction': np.float64(0.06875),\n",
       "  '3 Fraction': np.float64(0.11171875),\n",
       "  '4 Fraction': np.float64(0.1046875),\n",
       "  '5 Fraction': np.float64(0.0265625),\n",
       "  '6 Fraction': np.float64(0.1359375),\n",
       "  '7 Fraction': np.float64(0.07421875),\n",
       "  '8 Fraction': np.float64(0.26875),\n",
       "  '9 Fraction': np.float64(0.10390625),\n",
       "  'FID': np.float64(22.094230079650877),\n",
       "  'Time/Step': np.float64(0.01658217547074799)},\n",
       " {'Step': np.float64(0.6708203932499369),\n",
       "  'Reconstruction Loss': np.float64(12756.813372826999),\n",
       "  'KL Loss': np.float64(323.5966550227713),\n",
       "  'Uniformity Loss': np.float64(0.10134522257099544),\n",
       "  'Orthogonality Loss': np.float64(0.05780444774718891),\n",
       "  'Total Loss': np.float64(13025.364193810856),\n",
       "  'Time': np.float64(0.02049872473830196),\n",
       "  'Entropy': np.float64(0.049250230583332825),\n",
       "  'Margin': np.float64(0.02766103750799693),\n",
       "  '0 Fraction': np.float64(0.02183310720700331),\n",
       "  '1 Fraction': np.float64(0.006810779599282303),\n",
       "  '2 Fraction': np.float64(0.015934435979977454),\n",
       "  '3 Fraction': np.float64(0.03698375118295195),\n",
       "  '4 Fraction': np.float64(0.018553659510996745),\n",
       "  '5 Fraction': np.float64(0.012203515118604149),\n",
       "  '6 Fraction': np.float64(0.025958199571618983),\n",
       "  '7 Fraction': np.float64(0.022439697838039174),\n",
       "  '8 Fraction': np.float64(0.03782412011534439),\n",
       "  '9 Fraction': np.float64(0.018171411483770324),\n",
       "  'FID': np.float64(0.4496686876413766),\n",
       "  'Time/Step': np.float64(0.006651920061631722)})"
      ]
     },
     "execution_count": 11,
     "metadata": {},
     "output_type": "execute_result"
    }
   ],
   "source": [
    "train_kwargs = params | {\"num_steps\": 500, \"uniformity_weight\": 1e3, \"orthogonality_weight\": 1e3, \"forget_weight\": 0}\n",
    "train_kwargs[\"folder\"] = f\"{experiment_folder}/vae-ohatshat\"\n",
    "be = bt.BatchExperiment(vos.train, train_kwargs, num_experiments)\n",
    "# be.run()\n",
    "# be.fid(num_fid_samples, device)\n",
    "be.summarize_wo_fid()"
   ]
  },
  {
   "cell_type": "markdown",
   "metadata": {
    "id": "buhYNF0_JLGh"
   },
   "source": [
    "\n",
    "**Batch Experiments: SA**"
   ]
  },
  {
   "cell_type": "code",
   "execution_count": 12,
   "metadata": {
    "colab": {
     "background_save": true,
     "base_uri": "https://localhost:8080/"
    },
    "id": "pyP3f8WvJKmZ",
    "outputId": "6af9deec-bbe3-4b5a-d13b-e547e188319b"
   },
   "outputs": [
    {
     "data": {
      "text/plain": [
       "({'Step': np.float64(8.6),\n",
       "  'Reconstruction Loss': np.float64(35716.19609375),\n",
       "  'KL Loss': np.float64(849.1331176757812),\n",
       "  'Uniformity Loss': np.float64(0.4086648300290108),\n",
       "  'Orthogonality Loss': np.float64(0.040881755203008616),\n",
       "  'Total Loss': np.float64(36973.99404145479),\n",
       "  'Time': np.float64(0.06605487270175243),\n",
       "  'Entropy': np.float64(0.4255953371524811),\n",
       "  'Margin': np.float64(0.4777950018644333),\n",
       "  '0 Fraction': np.float64(0.13359375),\n",
       "  '1 Fraction': np.float64(0.01171875),\n",
       "  '2 Fraction': np.float64(0.07421875),\n",
       "  '3 Fraction': np.float64(0.0359375),\n",
       "  '4 Fraction': np.float64(0.21875),\n",
       "  '5 Fraction': np.float64(0.01796875),\n",
       "  '6 Fraction': np.float64(0.10703125),\n",
       "  '7 Fraction': np.float64(0.07734375),\n",
       "  '8 Fraction': np.float64(0.22890625),\n",
       "  '9 Fraction': np.float64(0.09453125),\n",
       "  'FID': np.float64(586.1643676757812),\n",
       "  'Time/Step': np.float64(0.007680799151366563)},\n",
       " {'Step': np.float64(1.42828568570857),\n",
       "  'Reconstruction Loss': np.float64(5189.498837579188),\n",
       "  'KL Loss': np.float64(26.562954837481193),\n",
       "  'Uniformity Loss': np.float64(0.14661435620815869),\n",
       "  'Orthogonality Loss': np.float64(0.03733469726761241),\n",
       "  'Total Loss': np.float64(5335.727004381761),\n",
       "  'Time': np.float64(0.010981304921248557),\n",
       "  'Entropy': np.float64(0.03354729911403288),\n",
       "  'Margin': np.float64(0.04210244293488117),\n",
       "  '0 Fraction': np.float64(0.04342091634871954),\n",
       "  '1 Fraction': np.float64(0.00390625),\n",
       "  '2 Fraction': np.float64(0.02525504668006971),\n",
       "  '3 Fraction': np.float64(0.03782412011534439),\n",
       "  '4 Fraction': np.float64(0.0546875),\n",
       "  '5 Fraction': np.float64(0.017486741629374525),\n",
       "  '6 Fraction': np.float64(0.023188784499462232),\n",
       "  '7 Fraction': np.float64(0.026016915320854237),\n",
       "  '8 Fraction': np.float64(0.04014895361727999),\n",
       "  '9 Fraction': np.float64(0.03587800782251573),\n",
       "  'FID': np.float64(31.530277378321756),\n",
       "  'Time/Step': np.float64(5.61857284306904e-05)})"
      ]
     },
     "execution_count": 12,
     "metadata": {},
     "output_type": "execute_result"
    }
   ],
   "source": [
    "import vae_sa as vsa\n",
    "train_kwargs = params | {\"num_steps\": 500, \"uniformity_weight\": 1e3}\n",
    "train_kwargs[\"folder\"] = f\"{experiment_folder}/vae-sa\"\n",
    "be = bt.BatchExperiment(vsa.train, train_kwargs, num_experiments)\n",
    "# be.run()\n",
    "# be.fid(num_fid_samples, device)\n",
    "be.summarize_wo_fid()"
   ]
  },
  {
   "cell_type": "markdown",
   "metadata": {
    "id": "h4_otdd2oO27"
   },
   "source": [
    "**Batch Experiments: SP**"
   ]
  },
  {
   "cell_type": "code",
   "execution_count": 13,
   "metadata": {
    "id": "8jpPQqxtoVYn"
   },
   "outputs": [
    {
     "data": {
      "text/plain": [
       "({'Step': np.float64(6.2),\n",
       "  'Reconstruction Loss': np.float64(34735.748046875),\n",
       "  'KL Loss': np.float64(736.4170715332032),\n",
       "  'Uniformity Loss': np.float64(1.0641139805316926),\n",
       "  'Orthogonality Loss': np.float64(0.070261358609423),\n",
       "  'Total Loss': np.float64(36536.27909893989),\n",
       "  'Time': np.float64(0.04930979887944317),\n",
       "  'Entropy': np.float64(0.5285113483667374),\n",
       "  'Margin': np.float64(0.5435228228569031),\n",
       "  '0 Fraction': np.float64(0.0625),\n",
       "  '1 Fraction': np.float64(0.009375),\n",
       "  '2 Fraction': np.float64(0.07265625),\n",
       "  '3 Fraction': np.float64(0.0828125),\n",
       "  '4 Fraction': np.float64(0.04453125),\n",
       "  '5 Fraction': np.float64(0.0015625),\n",
       "  '6 Fraction': np.float64(0.11015625),\n",
       "  '7 Fraction': np.float64(0.0453125),\n",
       "  '8 Fraction': np.float64(0.50078125),\n",
       "  '9 Fraction': np.float64(0.0703125),\n",
       "  'FID': np.float64(64.18608360290527),\n",
       "  'Time/Step': np.float64(0.007953193367652125)},\n",
       " {'Step': np.float64(1.7776388834631178),\n",
       "  'Reconstruction Loss': np.float64(5543.488574330909),\n",
       "  'KL Loss': np.float64(12.497816764907279),\n",
       "  'Uniformity Loss': np.float64(0.22778921118387419),\n",
       "  'Orthogonality Loss': np.float64(0.06937665896006043),\n",
       "  'Total Loss': np.float64(5744.441889666674),\n",
       "  'Time': np.float64(0.014142444734623654),\n",
       "  'Entropy': np.float64(0.04402662222927955),\n",
       "  'Margin': np.float64(0.046476948984427495),\n",
       "  '0 Fraction': np.float64(0.023696485762661094),\n",
       "  '1 Fraction': np.float64(0.005846339666834283),\n",
       "  '2 Fraction': np.float64(0.021266652482525312),\n",
       "  '3 Fraction': np.float64(0.030095875444153472),\n",
       "  '4 Fraction': np.float64(0.028179201245111616),\n",
       "  '5 Fraction': np.float64(0.004687500000000001),\n",
       "  '6 Fraction': np.float64(0.030747919772116293),\n",
       "  '7 Fraction': np.float64(0.01148198316929615),\n",
       "  '8 Fraction': np.float64(0.08653556101576103),\n",
       "  '9 Fraction': np.float64(0.04250459533979826),\n",
       "  'FID': np.float64(1.646528726174689),\n",
       "  'Time/Step': np.float64(5.554867996002089e-05)})"
      ]
     },
     "execution_count": 13,
     "metadata": {},
     "output_type": "execute_result"
    }
   ],
   "source": [
    "import vae_sp as vsp\n",
    "train_kwargs = params | {\"num_steps\": 500, \"uniformity_weight\": 1e3}\n",
    "train_kwargs[\"folder\"] = f\"{experiment_folder}/vae-sp\"\n",
    "be = bt.BatchExperiment(vsp.train, train_kwargs, num_experiments)\n",
    "# be.run()\n",
    "# be.fid(num_fid_samples, device)\n",
    "be.summarize_wo_fid()"
   ]
  },
  {
   "cell_type": "code",
   "execution_count": 16,
   "metadata": {},
   "outputs": [],
   "source": [
    "suffix =  [\"a\", \"ad\", \"s\", \"o\", \"os\", \"hat\", \"shat\", \"ohat\", \"ohatshat\", \"sa\", \"sp\"]\n",
    "\n",
    "ut.summary_csv(\\\n",
    "[f\"{experiment_folder}/vae-{s}/summary.json\" for s in suffix],\\\n",
    "[f\"{experiment_folder}/vae-{s}/summary_std.json\" for s in suffix], suffix,\\\n",
    " f\"{experiment_folder}/summary.csv\")"
   ]
  },
  {
   "cell_type": "code",
   "execution_count": null,
   "metadata": {},
   "outputs": [],
   "source": []
  },
  {
   "cell_type": "code",
   "execution_count": null,
   "metadata": {},
   "outputs": [],
   "source": []
  },
  {
   "cell_type": "code",
   "execution_count": null,
   "metadata": {},
   "outputs": [],
   "source": []
  }
 ],
 "metadata": {
  "accelerator": "GPU",
  "colab": {
   "gpuType": "A100",
   "machine_shape": "hm",
   "provenance": []
  },
  "kernelspec": {
   "display_name": "Python 3 (ipykernel)",
   "language": "python",
   "name": "python3"
  },
  "language_info": {
   "codemirror_mode": {
    "name": "ipython",
    "version": 3
   },
   "file_extension": ".py",
   "mimetype": "text/x-python",
   "name": "python",
   "nbconvert_exporter": "python",
   "pygments_lexer": "ipython3",
   "version": "3.12.11"
  }
 },
 "nbformat": 4,
 "nbformat_minor": 4
}
