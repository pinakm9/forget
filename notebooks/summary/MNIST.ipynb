{
 "cells": [
  {
   "cell_type": "code",
   "execution_count": 1,
   "metadata": {
    "colab": {
     "base_uri": "https://localhost:8080/"
    },
    "id": "hrXzkGSNotut",
    "outputId": "5d33439b-6844-48a2-bbaa-b4aadeebfd91"
   },
   "outputs": [],
   "source": [
    "import os, sys, torch\n",
    "import pandas as pd\n",
    "import numpy as np\n",
    "sys.path.append(os.path.abspath('../../modules'))\n",
    "sys.path.append(os.path.abspath('../../modules/mnist'))\n",
    "import vae_train as vt\n",
    "import vae_ortho as vo\n",
    "import vae_surgery as vs\n",
    "import vae_os as vos\n",
    "import vae_ascent as va\n",
    "import vae_ad as vad\n",
    "import classifier as cl\n",
    "from vae import VAE\n",
    "\n",
    "import batch as bt\n",
    "import utility as ut\n",
    "\n",
    "device = ut.get_device()\n",
    "\n",
    "\n",
    "# load custom modules\n",
    "import vae_train as vt\n",
    "import vae_ortho as vo\n",
    "import vae_surgery as vs\n",
    "import vae_os as vos\n",
    "import vae_ascent as va\n",
    "import vae_ad as vad\n",
    "import classifier as cl\n",
    "import batch as bt\n",
    "import utility as ut\n",
    "from vae import VAE\n",
    "import datapipe\n",
    "\n",
    "\n",
    "# set general parameters\n",
    "device = ut.get_device()\n",
    "celeba_folder = \"../../data/MNIST\"\n",
    "experiment_folder = \"../../data/MNIST/MNIST-Experiments\"\n",
    "mnist_folder = \"../../data/MNIST/MNIST-Experiments\"\n",
    "num_fid_samples = 25000\n",
    "fid_batch_size = 256\n",
    "num_experiments = 10"
   ]
  },
  {
   "cell_type": "code",
   "execution_count": 4,
   "metadata": {
    "colab": {
     "base_uri": "https://localhost:8080/",
     "height": 709
    },
    "id": "wN4Jscv6FIfK",
    "outputId": "2533eceb-f21a-4eef-ace0-d03dff974309"
   },
   "outputs": [],
   "source": [
    "import vae_viz as viz\n",
    "root = '/content/MNIST-Experiments'\n",
    "mnist_folder = '/content/MNIST'\n",
    "path_a = f'{mnist_folder}/vae/vae_200.pth'\n",
    "path_b = f'{root}/vae-o/expr-0/checkpoints/vae_epoch_10.pth'\n",
    "# model_a = vt.init_model(path_a, 2, 'cuda')\n",
    "# model_b = vt.init_model(path_b, 2, 'cuda')\n",
    "# viz.generate_random_samples(model_b, num_samples=100, bm=True);\n",
    "# viz.compare_generated_samples(model_b, model_b, num_samples=100);"
   ]
  },
  {
   "cell_type": "code",
   "execution_count": 5,
   "metadata": {
    "colab": {
     "base_uri": "https://localhost:8080/"
    },
    "id": "AScV3TU2Rm5p",
    "outputId": "7102cb80-3643-4976-a06e-6c423e744ada"
   },
   "outputs": [
    {
     "ename": "OSError",
     "evalue": "[Errno 30] Read-only file system: '/content'",
     "output_type": "error",
     "traceback": [
      "\u001b[0;31m---------------------------------------------------------------------------\u001b[0m",
      "\u001b[0;31mOSError\u001b[0m                                   Traceback (most recent call last)",
      "Cell \u001b[0;32mIn[5], line 18\u001b[0m\n\u001b[1;32m      1\u001b[0m \u001b[38;5;66;03m# set more experiment parameters\u001b[39;00m\n\u001b[1;32m      2\u001b[0m params \u001b[38;5;241m=\u001b[39m {\n\u001b[1;32m      3\u001b[0m     \u001b[38;5;124m\"\u001b[39m\u001b[38;5;124mmodel\u001b[39m\u001b[38;5;124m\"\u001b[39m: \u001b[38;5;124mf\u001b[39m\u001b[38;5;124m\"\u001b[39m\u001b[38;5;132;01m{\u001b[39;00mmnist_folder\u001b[38;5;132;01m}\u001b[39;00m\u001b[38;5;124m/vae/vae_200.pth\u001b[39m\u001b[38;5;124m\"\u001b[39m,\n\u001b[1;32m      4\u001b[0m     \u001b[38;5;124m\"\u001b[39m\u001b[38;5;124mlatent_dim\u001b[39m\u001b[38;5;124m\"\u001b[39m: \u001b[38;5;241m2\u001b[39m,\n\u001b[0;32m   (...)\u001b[0m\n\u001b[1;32m     15\u001b[0m     \u001b[38;5;124m\"\u001b[39m\u001b[38;5;124mdata_path\u001b[39m\u001b[38;5;124m\"\u001b[39m: mnist_folder\n\u001b[1;32m     16\u001b[0m }\n\u001b[0;32m---> 18\u001b[0m dataloader \u001b[38;5;241m=\u001b[39m \u001b[43mdatapipe\u001b[49m\u001b[38;5;241;43m.\u001b[39;49m\u001b[43mMNIST\u001b[49m\u001b[43m(\u001b[49m\u001b[43m)\u001b[49m\u001b[38;5;241;43m.\u001b[39;49m\u001b[43mget_dataloader\u001b[49m\u001b[43m(\u001b[49m\u001b[43mparams\u001b[49m\u001b[43m[\u001b[49m\u001b[38;5;124;43m'\u001b[39;49m\u001b[38;5;124;43mbatch_size\u001b[39;49m\u001b[38;5;124;43m'\u001b[39;49m\u001b[43m]\u001b[49m\u001b[43m,\u001b[49m\u001b[43m \u001b[49m\u001b[43mroot\u001b[49m\u001b[38;5;241;43m=\u001b[39;49m\u001b[43mmnist_folder\u001b[49m\u001b[43m)\u001b[49m\n\u001b[1;32m     19\u001b[0m num_epochs \u001b[38;5;241m=\u001b[39m np\u001b[38;5;241m.\u001b[39mceil(\u001b[38;5;28mlen\u001b[39m(dataloader) \u001b[38;5;241m/\u001b[39m params[\u001b[38;5;124m'\u001b[39m\u001b[38;5;124mnum_steps\u001b[39m\u001b[38;5;124m'\u001b[39m])\n\u001b[1;32m     20\u001b[0m \u001b[38;5;28mprint\u001b[39m(\u001b[38;5;124mf\u001b[39m\u001b[38;5;124m\"\u001b[39m\u001b[38;5;124mTotal epochs = \u001b[39m\u001b[38;5;132;01m{\u001b[39;00mnum_epochs\u001b[38;5;132;01m}\u001b[39;00m\u001b[38;5;124m, steps per epoch = \u001b[39m\u001b[38;5;132;01m{\u001b[39;00m\u001b[38;5;28mlen\u001b[39m(dataloader)\u001b[38;5;132;01m}\u001b[39;00m\u001b[38;5;124m, data size = \u001b[39m\u001b[38;5;132;01m{\u001b[39;00mparams[\u001b[38;5;124m'\u001b[39m\u001b[38;5;124mbatch_size\u001b[39m\u001b[38;5;124m'\u001b[39m]\u001b[38;5;241m*\u001b[39m\u001b[38;5;28mlen\u001b[39m(dataloader)\u001b[38;5;132;01m}\u001b[39;00m\u001b[38;5;124m\"\u001b[39m)\n",
      "File \u001b[0;32m~/Documents/GitHub/forget/modules/mnist/datapipe.py:41\u001b[0m, in \u001b[0;36mMNIST.get_dataloader\u001b[0;34m(self, batch_size, pad, root, train, all_digits)\u001b[0m\n\u001b[1;32m     38\u001b[0m \u001b[38;5;28;01melse\u001b[39;00m:\n\u001b[1;32m     39\u001b[0m     transform \u001b[38;5;241m=\u001b[39m transforms\u001b[38;5;241m.\u001b[39mToTensor()\n\u001b[0;32m---> 41\u001b[0m dataset \u001b[38;5;241m=\u001b[39m \u001b[43mdatasets\u001b[49m\u001b[38;5;241;43m.\u001b[39;49m\u001b[43mMNIST\u001b[49m\u001b[43m(\u001b[49m\u001b[43mroot\u001b[49m\u001b[43m \u001b[49m\u001b[38;5;241;43m=\u001b[39;49m\u001b[43m \u001b[49m\u001b[43mroot\u001b[49m\u001b[43m,\u001b[49m\u001b[43m \u001b[49m\u001b[43mtrain\u001b[49m\u001b[43m \u001b[49m\u001b[38;5;241;43m=\u001b[39;49m\u001b[43m \u001b[49m\u001b[43mtrain\u001b[49m\u001b[43m,\u001b[49m\u001b[43m \u001b[49m\u001b[43mdownload\u001b[49m\u001b[43m \u001b[49m\u001b[38;5;241;43m=\u001b[39;49m\u001b[43m \u001b[49m\u001b[38;5;28;43;01mTrue\u001b[39;49;00m\u001b[43m,\u001b[49m\u001b[43m \u001b[49m\n\u001b[1;32m     42\u001b[0m \u001b[43m                \u001b[49m\u001b[43mtransform\u001b[49m\u001b[43m \u001b[49m\u001b[38;5;241;43m=\u001b[39;49m\u001b[43m \u001b[49m\u001b[43mtransform\u001b[49m\u001b[43m)\u001b[49m\n\u001b[1;32m     43\u001b[0m \u001b[38;5;28;01mif\u001b[39;00m \u001b[38;5;28mlen\u001b[39m(all_digits) \u001b[38;5;241m<\u001b[39m \u001b[38;5;241m10\u001b[39m:\n\u001b[1;32m     44\u001b[0m     dataset \u001b[38;5;241m=\u001b[39m \u001b[38;5;28mself\u001b[39m\u001b[38;5;241m.\u001b[39mfilter_mnist(dataset, all_digits)\n",
      "File \u001b[0;32m~/miniconda3/envs/uno/lib/python3.12/site-packages/torchvision/datasets/mnist.py:100\u001b[0m, in \u001b[0;36mMNIST.__init__\u001b[0;34m(self, root, train, transform, target_transform, download)\u001b[0m\n\u001b[1;32m     97\u001b[0m     \u001b[38;5;28;01mreturn\u001b[39;00m\n\u001b[1;32m     99\u001b[0m \u001b[38;5;28;01mif\u001b[39;00m download:\n\u001b[0;32m--> 100\u001b[0m     \u001b[38;5;28;43mself\u001b[39;49m\u001b[38;5;241;43m.\u001b[39;49m\u001b[43mdownload\u001b[49m\u001b[43m(\u001b[49m\u001b[43m)\u001b[49m\n\u001b[1;32m    102\u001b[0m \u001b[38;5;28;01mif\u001b[39;00m \u001b[38;5;129;01mnot\u001b[39;00m \u001b[38;5;28mself\u001b[39m\u001b[38;5;241m.\u001b[39m_check_exists():\n\u001b[1;32m    103\u001b[0m     \u001b[38;5;28;01mraise\u001b[39;00m \u001b[38;5;167;01mRuntimeError\u001b[39;00m(\u001b[38;5;124m\"\u001b[39m\u001b[38;5;124mDataset not found. You can use download=True to download it\u001b[39m\u001b[38;5;124m\"\u001b[39m)\n",
      "File \u001b[0;32m~/miniconda3/envs/uno/lib/python3.12/site-packages/torchvision/datasets/mnist.py:180\u001b[0m, in \u001b[0;36mMNIST.download\u001b[0;34m(self)\u001b[0m\n\u001b[1;32m    177\u001b[0m \u001b[38;5;28;01mif\u001b[39;00m \u001b[38;5;28mself\u001b[39m\u001b[38;5;241m.\u001b[39m_check_exists():\n\u001b[1;32m    178\u001b[0m     \u001b[38;5;28;01mreturn\u001b[39;00m\n\u001b[0;32m--> 180\u001b[0m \u001b[43mos\u001b[49m\u001b[38;5;241;43m.\u001b[39;49m\u001b[43mmakedirs\u001b[49m\u001b[43m(\u001b[49m\u001b[38;5;28;43mself\u001b[39;49m\u001b[38;5;241;43m.\u001b[39;49m\u001b[43mraw_folder\u001b[49m\u001b[43m,\u001b[49m\u001b[43m \u001b[49m\u001b[43mexist_ok\u001b[49m\u001b[38;5;241;43m=\u001b[39;49m\u001b[38;5;28;43;01mTrue\u001b[39;49;00m\u001b[43m)\u001b[49m\n\u001b[1;32m    182\u001b[0m \u001b[38;5;66;03m# download files\u001b[39;00m\n\u001b[1;32m    183\u001b[0m \u001b[38;5;28;01mfor\u001b[39;00m filename, md5 \u001b[38;5;129;01min\u001b[39;00m \u001b[38;5;28mself\u001b[39m\u001b[38;5;241m.\u001b[39mresources:\n",
      "File \u001b[0;32m<frozen os>:215\u001b[0m, in \u001b[0;36mmakedirs\u001b[0;34m(name, mode, exist_ok)\u001b[0m\n",
      "File \u001b[0;32m<frozen os>:215\u001b[0m, in \u001b[0;36mmakedirs\u001b[0;34m(name, mode, exist_ok)\u001b[0m\n",
      "File \u001b[0;32m<frozen os>:215\u001b[0m, in \u001b[0;36mmakedirs\u001b[0;34m(name, mode, exist_ok)\u001b[0m\n",
      "File \u001b[0;32m<frozen os>:225\u001b[0m, in \u001b[0;36mmakedirs\u001b[0;34m(name, mode, exist_ok)\u001b[0m\n",
      "\u001b[0;31mOSError\u001b[0m: [Errno 30] Read-only file system: '/content'"
     ]
    }
   ],
   "source": [
    "# set more experiment parameters\n",
    "params = {\n",
    "    \"model\": f\"{mnist_folder}/vae/vae_200.pth\",\n",
    "    \"latent_dim\": 2,\n",
    "    \"num_steps\": 50,\n",
    "    \"batch_size\": 128,\n",
    "    \"log_interval\": 1,\n",
    "    \"collect_interval\": \"epoch\",\n",
    "    \"save_steps\": \"epoch\",\n",
    "    \"all_digits\": list(range(10)),\n",
    "    \"forget_digit\": 1,\n",
    "    \"classifier_path\": f\"{mnist_folder}/classifiers/MNISTClassifier.pth\",\n",
    "    \"kl_weight\": 1,\n",
    "    \"total_duration\": None,\n",
    "    \"data_path\": mnist_folder\n",
    "}\n",
    "\n",
    "dataloader = datapipe.MNIST().get_dataloader(params['batch_size'], root=mnist_folder)\n",
    "num_epochs = np.ceil(len(dataloader) / params['num_steps'])\n",
    "print(f\"Total epochs = {num_epochs}, steps per epoch = {len(dataloader)}, data size = {params['batch_size']*len(dataloader)}\")"
   ]
  },
  {
   "cell_type": "markdown",
   "metadata": {
    "id": "A94PNGuivyQs"
   },
   "source": [
    "**Batch Experiments: A**"
   ]
  },
  {
   "cell_type": "code",
   "execution_count": 6,
   "metadata": {
    "colab": {
     "base_uri": "https://localhost:8080/",
     "height": 551
    },
    "id": "ZnyDr_MmvuFD",
    "outputId": "1b2eecf9-25bd-45dc-a012-db50346c877f"
   },
   "outputs": [
    {
     "data": {
      "text/plain": [
       "({'Step': np.float64(4.6),\n",
       "  'Reconstruction Loss': np.float64(29371.2568359375),\n",
       "  'KL Loss': np.float64(814.4104187011719),\n",
       "  'Uniformity Loss': np.float64(0.31466629505157473),\n",
       "  'Orthogonality Loss': np.float64(0.20661019412800669),\n",
       "  'Total Loss': np.float64(30185.667254638673),\n",
       "  'Time': np.float64(0.0229220008850095),\n",
       "  'Entropy': np.float64(0.39300809502601625),\n",
       "  'Margin': np.float64(0.4172366350889206),\n",
       "  '0 Fraction': np.float64(0.08515625),\n",
       "  '1 Fraction': np.float64(0.0125),\n",
       "  '2 Fraction': np.float64(0.06328125),\n",
       "  '3 Fraction': np.float64(0.11953125),\n",
       "  '4 Fraction': np.float64(0.1375),\n",
       "  '5 Fraction': np.float64(0.028125),\n",
       "  '6 Fraction': np.float64(0.1421875),\n",
       "  '7 Fraction': np.float64(0.05703125),\n",
       "  '8 Fraction': np.float64(0.24765625),\n",
       "  '9 Fraction': np.float64(0.10703125),\n",
       "  'FID': np.float64(612.2992553710938),\n",
       "  'Time/Step': np.float64(0.00498304367065424)},\n",
       " {'Step': np.float64(0.66332495807108),\n",
       "  'Reconstruction Loss': np.float64(2546.5794945121684),\n",
       "  'KL Loss': np.float64(16.599857630716333),\n",
       "  'Uniformity Loss': np.float64(0.038629788738995155),\n",
       "  'Orthogonality Loss': np.float64(0.11095805866657946),\n",
       "  'Total Loss': np.float64(2558.322467944367),\n",
       "  'Time': np.float64(0.0034044543807529764),\n",
       "  'Entropy': np.float64(0.04240468131427418),\n",
       "  'Margin': np.float64(0.025433277825032942),\n",
       "  '0 Fraction': np.float64(0.01796875),\n",
       "  '1 Fraction': np.float64(0.003827327723098716),\n",
       "  '2 Fraction': np.float64(0.016554390703450852),\n",
       "  '3 Fraction': np.float64(0.021551740975208938),\n",
       "  '4 Fraction': np.float64(0.0213096589015404),\n",
       "  '5 Fraction': np.float64(0.0171875),\n",
       "  '6 Fraction': np.float64(0.02415566380271923),\n",
       "  '7 Fraction': np.float64(0.013554180916326151),\n",
       "  '8 Fraction': np.float64(0.02986174195877561),\n",
       "  '9 Fraction': np.float64(0.027961765887770752),\n",
       "  'FID': np.float64(4.929826211262461),\n",
       "  'Time/Step': np.float64(0.00017543477370565356)})"
      ]
     },
     "execution_count": 6,
     "metadata": {},
     "output_type": "execute_result"
    }
   ],
   "source": [
    "train_kwargs = params | {\"num_steps\": 500, \"uniformity_weight\": 0e3}\n",
    "train_kwargs[\"folder\"] = f\"{experiment_folder}/vae-a\"\n",
    "be = bt.BatchExperiment(va.train, train_kwargs, num_experiments)\n",
    "# be.run()\n",
    "# be.fid(num_fid_samples, device)\n",
    "be.summarize_wo_fid()"
   ]
  },
  {
   "cell_type": "markdown",
   "metadata": {
    "id": "LeL00URVvM2D"
   },
   "source": [
    "**Batch Experiments: AD**"
   ]
  },
  {
   "cell_type": "code",
   "execution_count": 7,
   "metadata": {
    "colab": {
     "base_uri": "https://localhost:8080/",
     "height": 551
    },
    "id": "hAHX-W11vMT9",
    "outputId": "f81307f7-af49-4cc6-ad11-60c5a9ede49e"
   },
   "outputs": [
    {
     "data": {
      "text/plain": [
       "({'Step': np.float64(5.0),\n",
       "  'Reconstruction Loss': np.float64(24693.16171875),\n",
       "  'KL Loss': np.float64(812.138623046875),\n",
       "  'Uniformity Loss': np.float64(0.3180971086025238),\n",
       "  'Orthogonality Loss': np.float64(0.23577705584466457),\n",
       "  'Total Loss': np.float64(25505.300341796876),\n",
       "  'Time': np.float64(0.02452313899993875),\n",
       "  'Entropy': np.float64(0.419376802444458),\n",
       "  'Margin': np.float64(0.42958112359046935),\n",
       "  '0 Fraction': np.float64(0.103125),\n",
       "  '1 Fraction': np.float64(0.01015625),\n",
       "  '2 Fraction': np.float64(0.0609375),\n",
       "  '3 Fraction': np.float64(0.1203125),\n",
       "  '4 Fraction': np.float64(0.134375),\n",
       "  '5 Fraction': np.float64(0.01328125),\n",
       "  '6 Fraction': np.float64(0.13984375),\n",
       "  '7 Fraction': np.float64(0.06640625),\n",
       "  '8 Fraction': np.float64(0.2265625),\n",
       "  '9 Fraction': np.float64(0.125),\n",
       "  'FID': np.float64(266.9102813720703),\n",
       "  'Time/Step': np.float64(0.00490462779998775)},\n",
       " {'Step': np.float64(1.2649110640673518),\n",
       "  'Reconstruction Loss': np.float64(1746.2205210787502),\n",
       "  'KL Loss': np.float64(13.033925337135697),\n",
       "  'Uniformity Loss': np.float64(0.048943911191084315),\n",
       "  'Orthogonality Loss': np.float64(0.12039770890787474),\n",
       "  'Total Loss': np.float64(1755.5357057860301),\n",
       "  'Time': np.float64(0.006243323899073239),\n",
       "  'Entropy': np.float64(0.03452127555957174),\n",
       "  'Margin': np.float64(0.02214725105393301),\n",
       "  '0 Fraction': np.float64(0.031014739439498763),\n",
       "  '1 Fraction': np.float64(0.0035801372616842495),\n",
       "  '2 Fraction': np.float64(0.0225888004606265),\n",
       "  '3 Fraction': np.float64(0.018221724671391562),\n",
       "  '4 Fraction': np.float64(0.028125),\n",
       "  '5 Fraction': np.float64(0.010510643786776335),\n",
       "  '6 Fraction': np.float64(0.03133776737520559),\n",
       "  '7 Fraction': np.float64(0.018895916597574725),\n",
       "  '8 Fraction': np.float64(0.02591113117465156),\n",
       "  '9 Fraction': np.float64(0.027510651346342202),\n",
       "  'FID': np.float64(19.300336571922184),\n",
       "  'Time/Step': np.float64(0.00013579273493123748)})"
      ]
     },
     "execution_count": 7,
     "metadata": {},
     "output_type": "execute_result"
    }
   ],
   "source": [
    "train_kwargs = params | {\"num_steps\": 500, \"uniformity_weight\": 0e3}\n",
    "train_kwargs[\"folder\"] = f\"{experiment_folder}/vae-ad\"\n",
    "be = bt.BatchExperiment(vad.train, train_kwargs, num_experiments)\n",
    "# be.run()\n",
    "# be.fid(num_fid_samples, device)\n",
    "be.summarize_wo_fid()"
   ]
  },
  {
   "cell_type": "markdown",
   "metadata": {
    "id": "U8UsKHC5fMWB"
   },
   "source": [
    "**Batch Experiments: S**"
   ]
  },
  {
   "cell_type": "code",
   "execution_count": 8,
   "metadata": {
    "colab": {
     "base_uri": "https://localhost:8080/",
     "height": 537
    },
    "id": "4ZtC_tm0fQrn",
    "outputId": "5e7954ca-883d-474b-bee6-4f9da1966f27"
   },
   "outputs": [
    {
     "data": {
      "text/plain": [
       "({'Step': np.float64(143.7),\n",
       "  'Reconstruction Loss': np.float64(20841.723046875),\n",
       "  'KL Loss': np.float64(749.5875061035156),\n",
       "  'Uniformity Loss': np.float64(0.3997056931257248),\n",
       "  'Orthogonality Loss': np.float64(0.06783585549565029),\n",
       "  'Total Loss': np.float64(21591.310552978517),\n",
       "  'Time': np.float64(1.0141969943046478),\n",
       "  'Entropy': np.float64(0.4092263251543045),\n",
       "  'Margin': np.float64(0.39195733666419985),\n",
       "  '0 Fraction': np.float64(0.1078125),\n",
       "  '1 Fraction': np.float64(0.015625),\n",
       "  '2 Fraction': np.float64(0.065625),\n",
       "  '3 Fraction': np.float64(0.146875),\n",
       "  '4 Fraction': np.float64(0.12265625),\n",
       "  '5 Fraction': np.float64(0.0125),\n",
       "  '6 Fraction': np.float64(0.12734375),\n",
       "  '7 Fraction': np.float64(0.059375),\n",
       "  '8 Fraction': np.float64(0.20234375),\n",
       "  '9 Fraction': np.float64(0.13984375),\n",
       "  'FID': np.float64(23.036873054504394),\n",
       "  'Time/Step': np.float64(0.00705773830413812)},\n",
       " {'Step': np.float64(128.20300308495118),\n",
       "  'Reconstruction Loss': np.float64(671.8691821285856),\n",
       "  'KL Loss': np.float64(14.96391068808174),\n",
       "  'Uniformity Loss': np.float64(0.05729683228522371),\n",
       "  'Orthogonality Loss': np.float64(0.062464801990963055),\n",
       "  'Total Loss': np.float64(672.1523404854308),\n",
       "  'Time': np.float64(0.9055666045832442),\n",
       "  'Entropy': np.float64(0.02191472027372721),\n",
       "  'Margin': np.float64(0.030150337434024937),\n",
       "  '0 Fraction': np.float64(0.019390115071860715),\n",
       "  '1 Fraction': np.float64(0.0),\n",
       "  '2 Fraction': np.float64(0.02102128757355267),\n",
       "  '3 Fraction': np.float64(0.025146057717861065),\n",
       "  '4 Fraction': np.float64(0.02496335204479759),\n",
       "  '5 Fraction': np.float64(0.009375),\n",
       "  '6 Fraction': np.float64(0.030866791039278765),\n",
       "  '7 Fraction': np.float64(0.016086922095292187),\n",
       "  '8 Fraction': np.float64(0.028694324487823372),\n",
       "  '9 Fraction': np.float64(0.03431279883749648),\n",
       "  'FID': np.float64(0.23388943571590237),\n",
       "  'Time/Step': np.float64(0.000190494357409169)})"
      ]
     },
     "execution_count": 8,
     "metadata": {},
     "output_type": "execute_result"
    }
   ],
   "source": [
    "train_kwargs = params | {\"num_steps\": 500, \"uniformity_weight\": 0e3}\n",
    "train_kwargs[\"folder\"] = f\"{experiment_folder}/vae-s\"\n",
    "be = bt.BatchExperiment(vs.train, train_kwargs, num_experiments)\n",
    "# be.run()\n",
    "# be.fid(num_fid_samples, device)\n",
    "be.summarize_wo_fid()"
   ]
  },
  {
   "cell_type": "markdown",
   "metadata": {
    "id": "sYAgnUwmfc6A"
   },
   "source": [
    "**Batch Experiments: Shat**"
   ]
  },
  {
   "cell_type": "code",
   "execution_count": 10,
   "metadata": {
    "colab": {
     "base_uri": "https://localhost:8080/",
     "height": 1000
    },
    "id": "XqDAEWsUgPRc",
    "outputId": "16cdaff0-5c29-43cc-c13c-c955d1e2e7f8"
   },
   "outputs": [
    {
     "data": {
      "text/plain": [
       "({'Step': np.float64(2.8),\n",
       "  'Reconstruction Loss': np.float64(22205.6275390625),\n",
       "  'KL Loss': np.float64(764.2342102050782),\n",
       "  'Uniformity Loss': np.float64(0.2710167467594147),\n",
       "  'Orthogonality Loss': np.float64(0.034476232959423155),\n",
       "  'Total Loss': np.float64(23240.87849602699),\n",
       "  'Time': np.float64(0.02108619689941391),\n",
       "  'Entropy': np.float64(0.38297992050647733),\n",
       "  'Margin': np.float64(0.3964219093322754),\n",
       "  '0 Fraction': np.float64(0.08984375),\n",
       "  '1 Fraction': np.float64(0.00234375),\n",
       "  '2 Fraction': np.float64(0.06328125),\n",
       "  '3 Fraction': np.float64(0.1171875),\n",
       "  '4 Fraction': np.float64(0.121875),\n",
       "  '5 Fraction': np.float64(0.02578125),\n",
       "  '6 Fraction': np.float64(0.12578125),\n",
       "  '7 Fraction': np.float64(0.059375),\n",
       "  '8 Fraction': np.float64(0.27109375),\n",
       "  '9 Fraction': np.float64(0.1234375),\n",
       "  'FID': np.float64(24.079706382751464),\n",
       "  'Time/Step': np.float64(0.0075307846069335395)},\n",
       " {'Step': np.float64(0.39999999999999997),\n",
       "  'Reconstruction Loss': np.float64(697.380775291842),\n",
       "  'KL Loss': np.float64(9.767832910313148),\n",
       "  'Uniformity Loss': np.float64(0.04938813443719875),\n",
       "  'Orthogonality Loss': np.float64(0.04851853632078995),\n",
       "  'Total Loss': np.float64(705.3918314834538),\n",
       "  'Time': np.float64(0.0031411756239673027),\n",
       "  'Entropy': np.float64(0.029922764746816932),\n",
       "  'Margin': np.float64(0.02783993178548931),\n",
       "  '0 Fraction': np.float64(0.01953125),\n",
       "  '1 Fraction': np.float64(0.0035801372616842495),\n",
       "  '2 Fraction': np.float64(0.019279629186332917),\n",
       "  '3 Fraction': np.float64(0.02543565718140579),\n",
       "  '4 Fraction': np.float64(0.02642427269576213),\n",
       "  '5 Fraction': np.float64(0.014843750000000001),\n",
       "  '6 Fraction': np.float64(0.026711439058248063),\n",
       "  '7 Fraction': np.float64(0.011692679333668566),\n",
       "  '8 Fraction': np.float64(0.026157295379348758),\n",
       "  '9 Fraction': np.float64(0.011481983169296146),\n",
       "  'FID': np.float64(0.4994703356899301),\n",
       "  'Time/Step': np.float64(0.00031483122725557884)})"
      ]
     },
     "execution_count": 10,
     "metadata": {},
     "output_type": "execute_result"
    }
   ],
   "source": [
    "train_kwargs = params | {\"num_steps\": 500, \"uniformity_weight\": 1e3}\n",
    "train_kwargs[\"folder\"] = f\"{experiment_folder}/vae-shat\"\n",
    "be = bt.BatchExperiment(vs.train, train_kwargs, num_experiments)\n",
    "# be.run()\n",
    "# be.fid(num_fid_samples, device)\n",
    "be.summarize_wo_fid()"
   ]
  },
  {
   "cell_type": "markdown",
   "metadata": {
    "id": "w8CvvoMXrgAy"
   },
   "source": [
    "**Batch Experiments: O**"
   ]
  },
  {
   "cell_type": "code",
   "execution_count": 12,
   "metadata": {
    "colab": {
     "base_uri": "https://localhost:8080/",
     "height": 1000
    },
    "id": "5FOKUpUUrfLc",
    "outputId": "d5069b43-4efd-4df1-b752-346dde808b4b"
   },
   "outputs": [
    {
     "data": {
      "text/plain": [
       "({'Step': np.float64(2.7),\n",
       "  'Reconstruction Loss': np.float64(50383.384375),\n",
       "  'KL Loss': np.float64(1473.0863525390625),\n",
       "  'Uniformity Loss': np.float64(0.3192806139588356),\n",
       "  'Orthogonality Loss': np.float64(0.07215650590442232),\n",
       "  'Total Loss': np.float64(51928.62723344348),\n",
       "  'Time': np.float64(0.05613320589065539),\n",
       "  'Entropy': np.float64(0.36537579298019407),\n",
       "  'Margin': np.float64(0.390606889128685),\n",
       "  '0 Fraction': np.float64(0.0984375),\n",
       "  '1 Fraction': np.float64(0.00390625),\n",
       "  '2 Fraction': np.float64(0.06484375),\n",
       "  '3 Fraction': np.float64(0.109375),\n",
       "  '4 Fraction': np.float64(0.12265625),\n",
       "  '5 Fraction': np.float64(0.021875),\n",
       "  '6 Fraction': np.float64(0.1296875),\n",
       "  '7 Fraction': np.float64(0.06015625),\n",
       "  '8 Fraction': np.float64(0.26796875),\n",
       "  '9 Fraction': np.float64(0.12109375),\n",
       "  'FID': np.float64(21.764022254943846),\n",
       "  'Time/Step': np.float64(0.02079007625579829)},\n",
       " {'Step': np.float64(0.45825756949558405),\n",
       "  'Reconstruction Loss': np.float64(1736.5062456208793),\n",
       "  'KL Loss': np.float64(14.838250187791267),\n",
       "  'Uniformity Loss': np.float64(0.06557120850385358),\n",
       "  'Orthogonality Loss': np.float64(0.06455765939935587),\n",
       "  'Total Loss': np.float64(1762.4672179752679),\n",
       "  'Time': np.float64(0.010257223462171783),\n",
       "  'Entropy': np.float64(0.022449201204594576),\n",
       "  'Margin': np.float64(0.019570354386050454),\n",
       "  '0 Fraction': np.float64(0.02425652296290629),\n",
       "  '1 Fraction': np.float64(0.005240784322265132),\n",
       "  '2 Fraction': np.float64(0.018504248878635957),\n",
       "  '3 Fraction': np.float64(0.030856902590830466),\n",
       "  '4 Fraction': np.float64(0.04149459914027969),\n",
       "  '5 Fraction': np.float64(0.010937500000000001),\n",
       "  '6 Fraction': np.float64(0.044083549936455885),\n",
       "  '7 Fraction': np.float64(0.01564451905820374),\n",
       "  '8 Fraction': np.float64(0.036983751182951954),\n",
       "  '9 Fraction': np.float64(0.02525504668006971),\n",
       "  'FID': np.float64(0.18107915090337792),\n",
       "  'Time/Step': np.float64(0.0013877034410049154)})"
      ]
     },
     "execution_count": 12,
     "metadata": {},
     "output_type": "execute_result"
    }
   ],
   "source": [
    "train_kwargs = params | {\"num_steps\": 500, \"uniformity_weight\": 0e3, \"orthogonality_weight\": 1e3, \"forget_weight\": 0.}\n",
    "train_kwargs[\"folder\"] = f\"{experiment_folder}/vae-o\"\n",
    "be = bt.BatchExperiment(vo.train, train_kwargs, num_experiments)\n",
    "# be.run()\n",
    "# be.fid(num_fid_samples, device)\n",
    "be.summarize_wo_fid()"
   ]
  },
  {
   "cell_type": "markdown",
   "metadata": {
    "id": "6sEERLlPeyAn"
   },
   "source": [
    "**Batch Experiments: Ohat**"
   ]
  },
  {
   "cell_type": "code",
   "execution_count": 13,
   "metadata": {
    "colab": {
     "base_uri": "https://localhost:8080/",
     "height": 1000
    },
    "id": "CrENECDsevfK",
    "outputId": "20e1a522-4158-43eb-895d-302b63a9356c"
   },
   "outputs": [
    {
     "data": {
      "text/plain": [
       "({'Step': np.float64(2.8),\n",
       "  'Reconstruction Loss': np.float64(50137.793359375),\n",
       "  'KL Loss': np.float64(1483.9080322265625),\n",
       "  'Uniformity Loss': np.float64(0.2712393641471863),\n",
       "  'Orthogonality Loss': np.float64(0.051776875677751334),\n",
       "  'Total Loss': np.float64(51944.7176314265),\n",
       "  'Time': np.float64(0.06117102622985832),\n",
       "  'Entropy': np.float64(0.3896093338727951),\n",
       "  'Margin': np.float64(0.3961348652839661),\n",
       "  '0 Fraction': np.float64(0.0921875),\n",
       "  '1 Fraction': np.float64(0.00234375),\n",
       "  '2 Fraction': np.float64(0.08359375),\n",
       "  '3 Fraction': np.float64(0.115625),\n",
       "  '4 Fraction': np.float64(0.1078125),\n",
       "  '5 Fraction': np.float64(0.02578125),\n",
       "  '6 Fraction': np.float64(0.13203125),\n",
       "  '7 Fraction': np.float64(0.05390625),\n",
       "  '8 Fraction': np.float64(0.2609375),\n",
       "  '9 Fraction': np.float64(0.12578125),\n",
       "  'FID': np.float64(22.14109649658203),\n",
       "  'Time/Step': np.float64(0.02184679508209226)},\n",
       " {'Step': np.float64(0.39999999999999997),\n",
       "  'Reconstruction Loss': np.float64(1153.8903841242336),\n",
       "  'KL Loss': np.float64(14.767289179031204),\n",
       "  'Uniformity Loss': np.float64(0.03566958851476115),\n",
       "  'Orthogonality Loss': np.float64(0.04461521601158056),\n",
       "  'Total Loss': np.float64(1122.866613561334),\n",
       "  'Time': np.float64(0.009363231026855745),\n",
       "  'Entropy': np.float64(0.0350478353681293),\n",
       "  'Margin': np.float64(0.025775782584756032),\n",
       "  '0 Fraction': np.float64(0.0214808235701055),\n",
       "  '1 Fraction': np.float64(0.0035801372616842495),\n",
       "  '2 Fraction': np.float64(0.022110893278257666),\n",
       "  '3 Fraction': np.float64(0.027243118397129208),\n",
       "  '4 Fraction': np.float64(0.023385358667337132),\n",
       "  '5 Fraction': np.float64(0.01355418091632615),\n",
       "  '6 Fraction': np.float64(0.025781250000000002),\n",
       "  '7 Fraction': np.float64(0.01540865853384064),\n",
       "  '8 Fraction': np.float64(0.04238956239453293),\n",
       "  '9 Fraction': np.float64(0.02109375),\n",
       "  'FID': np.float64(0.5171558111848824),\n",
       "  'Time/Step': np.float64(0.0011887442115971168)})"
      ]
     },
     "execution_count": 13,
     "metadata": {},
     "output_type": "execute_result"
    }
   ],
   "source": [
    "train_kwargs = params | {\"num_steps\": 500, \"uniformity_weight\": 1e3, \"orthogonality_weight\": 1e3, \"forget_weight\": 0.}\n",
    "train_kwargs[\"folder\"] = f\"{experiment_folder}/vae-ohat\"\n",
    "be = bt.BatchExperiment(vo.train, train_kwargs, num_experiments)\n",
    "# be.run()\n",
    "# be.fid(num_fid_samples, device)\n",
    "be.summarize_wo_fid()"
   ]
  },
  {
   "cell_type": "markdown",
   "metadata": {
    "id": "AUbx9pvMuA25"
   },
   "source": [
    "**Batch Experiments: OS**"
   ]
  },
  {
   "cell_type": "code",
   "execution_count": 14,
   "metadata": {
    "colab": {
     "base_uri": "https://localhost:8080/",
     "height": 1000
    },
    "id": "m7pCJWDDp3Fo",
    "outputId": "8e22d2c5-02d8-4b1f-db85-e3927ac051ba"
   },
   "outputs": [
    {
     "data": {
      "text/plain": [
       "({'Step': np.float64(2.7),\n",
       "  'Reconstruction Loss': np.float64(36060.018359375),\n",
       "  'KL Loss': np.float64(1115.8646545410156),\n",
       "  'Uniformity Loss': np.float64(0.3420403003692627),\n",
       "  'Orthogonality Loss': np.float64(0.024267027736641418),\n",
       "  'Total Loss': np.float64(37200.150041652654),\n",
       "  'Time': np.float64(0.041002264022827056),\n",
       "  'Entropy': np.float64(0.3661139219999313),\n",
       "  'Margin': np.float64(0.3796547144651413),\n",
       "  '0 Fraction': np.float64(0.090625),\n",
       "  '1 Fraction': np.float64(0.00859375),\n",
       "  '2 Fraction': np.float64(0.06796875),\n",
       "  '3 Fraction': np.float64(0.11640625),\n",
       "  '4 Fraction': np.float64(0.11953125),\n",
       "  '5 Fraction': np.float64(0.01875),\n",
       "  '6 Fraction': np.float64(0.1359375),\n",
       "  '7 Fraction': np.float64(0.06875),\n",
       "  '8 Fraction': np.float64(0.259375),\n",
       "  '9 Fraction': np.float64(0.1140625),\n",
       "  'FID': np.float64(21.821201515197753),\n",
       "  'Time/Step': np.float64(0.015186023712158169)},\n",
       " {'Step': np.float64(0.6403124237432849),\n",
       "  'Reconstruction Loss': np.float64(13839.174727631918),\n",
       "  'KL Loss': np.float64(356.41816204429415),\n",
       "  'Uniformity Loss': np.float64(0.04169864003023524),\n",
       "  'Orthogonality Loss': np.float64(0.02145578077599588),\n",
       "  'Total Loss': np.float64(14187.7365031909),\n",
       "  'Time': np.float64(0.023571127906207454),\n",
       "  'Entropy': np.float64(0.025041599664499876),\n",
       "  'Margin': np.float64(0.025342542485904944),\n",
       "  '0 Fraction': np.float64(0.027994488854951437),\n",
       "  '1 Fraction': np.float64(0.00546875),\n",
       "  '2 Fraction': np.float64(0.017486741629374525),\n",
       "  '3 Fraction': np.float64(0.014594954447085471),\n",
       "  '4 Fraction': np.float64(0.023188784499462232),\n",
       "  '5 Fraction': np.float64(0.012203515118604149),\n",
       "  '6 Fraction': np.float64(0.025),\n",
       "  '7 Fraction': np.float64(0.01970237533268514),\n",
       "  '8 Fraction': np.float64(0.020009763241977657),\n",
       "  '9 Fraction': np.float64(0.022963966338592295),\n",
       "  'FID': np.float64(0.43763461751924215),\n",
       "  'Time/Step': np.float64(0.007737963347723103)})"
      ]
     },
     "execution_count": 14,
     "metadata": {},
     "output_type": "execute_result"
    }
   ],
   "source": [
    "train_kwargs = params | {\"num_steps\": 500, \"uniformity_weight\": 0e3, \"orthogonality_weight\": 1e3, \"forget_weight\": 0.}\n",
    "train_kwargs[\"folder\"] = f\"{experiment_folder}/vae-os\"\n",
    "be = bt.BatchExperiment(vos.train, train_kwargs, num_experiments)\n",
    "# be.run()\n",
    "# be.fid(num_fid_samples, device)\n",
    "be.summarize_wo_fid()"
   ]
  },
  {
   "cell_type": "markdown",
   "metadata": {
    "id": "aL4BsReDuu8J"
   },
   "source": [
    "**Batch Experiments: OhatShat**"
   ]
  },
  {
   "cell_type": "code",
   "execution_count": 15,
   "metadata": {
    "colab": {
     "background_save": true,
     "base_uri": "https://localhost:8080/"
    },
    "id": "Q0ruxs5qu67d",
    "outputId": "4eae2f19-4b9c-407a-bfa5-2b2b3ef48233"
   },
   "outputs": [
    {
     "data": {
      "text/plain": [
       "({'Step': np.float64(2.9),\n",
       "  'Reconstruction Loss': np.float64(49146.21015625),\n",
       "  'KL Loss': np.float64(1411.6229248046875),\n",
       "  'Uniformity Loss': np.float64(0.30240496098995207),\n",
       "  'Orthogonality Loss': np.float64(0.10881304153008384),\n",
       "  'Total Loss': np.float64(50969.05108357473),\n",
       "  'Time': np.float64(0.06291575908660872),\n",
       "  'Entropy': np.float64(0.3766700506210327),\n",
       "  'Margin': np.float64(0.3840212196111679),\n",
       "  '0 Fraction': np.float64(0.1078125),\n",
       "  '1 Fraction': np.float64(0.0046875),\n",
       "  '2 Fraction': np.float64(0.07890625),\n",
       "  '3 Fraction': np.float64(0.1046875),\n",
       "  '4 Fraction': np.float64(0.1203125),\n",
       "  '5 Fraction': np.float64(0.0234375),\n",
       "  '6 Fraction': np.float64(0.11171875),\n",
       "  '7 Fraction': np.float64(0.059375),\n",
       "  '8 Fraction': np.float64(0.26796875),\n",
       "  '9 Fraction': np.float64(0.12109375),\n",
       "  'FID': np.float64(22.138297080993652),\n",
       "  'Time/Step': np.float64(0.021695089340209903)},\n",
       " {'Step': np.float64(0.3),\n",
       "  'Reconstruction Loss': np.float64(9039.443577382764),\n",
       "  'KL Loss': np.float64(211.50229756265477),\n",
       "  'Uniformity Loss': np.float64(0.076353219645565),\n",
       "  'Orthogonality Loss': np.float64(0.10408307659736787),\n",
       "  'Total Loss': np.float64(9202.936626775167),\n",
       "  'Time': np.float64(0.01574382090475024),\n",
       "  'Entropy': np.float64(0.040181599577530806),\n",
       "  'Margin': np.float64(0.030151802662076017),\n",
       "  '0 Fraction': np.float64(0.020610790559801435),\n",
       "  '1 Fraction': np.float64(0.0038273277230987156),\n",
       "  '2 Fraction': np.float64(0.025303335532346323),\n",
       "  '3 Fraction': np.float64(0.027554987638356874),\n",
       "  '4 Fraction': np.float64(0.019200321449132043),\n",
       "  '5 Fraction': np.float64(0.013531646934131853),\n",
       "  '6 Fraction': np.float64(0.02421875),\n",
       "  '7 Fraction': np.float64(0.011158481919598203),\n",
       "  '8 Fraction': np.float64(0.030468750000000003),\n",
       "  '9 Fraction': np.float64(0.029283851271861425),\n",
       "  'FID': np.float64(0.5762832060085328),\n",
       "  'Time/Step': np.float64(0.0049170409029113595)})"
      ]
     },
     "execution_count": 15,
     "metadata": {},
     "output_type": "execute_result"
    }
   ],
   "source": [
    "train_kwargs = params | {\"num_steps\": 500, \"uniformity_weight\": 1e3, \"orthogonality_weight\": 1e3, \"forget_weight\": 0}\n",
    "train_kwargs[\"folder\"] = f\"{experiment_folder}/vae-ohatshat\"\n",
    "be = bt.BatchExperiment(vos.train, train_kwargs, num_experiments)\n",
    "# be.run()\n",
    "# be.fid(num_fid_samples, device)\n",
    "be.summarize_wo_fid()"
   ]
  },
  {
   "cell_type": "markdown",
   "metadata": {
    "id": "buhYNF0_JLGh"
   },
   "source": [
    "\n",
    "**Batch Experiments: SA**"
   ]
  },
  {
   "cell_type": "code",
   "execution_count": 16,
   "metadata": {
    "colab": {
     "background_save": true,
     "base_uri": "https://localhost:8080/"
    },
    "id": "pyP3f8WvJKmZ",
    "outputId": "6af9deec-bbe3-4b5a-d13b-e547e188319b"
   },
   "outputs": [
    {
     "data": {
      "text/plain": [
       "({'Step': np.float64(8.6),\n",
       "  'Reconstruction Loss': np.float64(35716.19609375),\n",
       "  'KL Loss': np.float64(849.1331176757812),\n",
       "  'Uniformity Loss': np.float64(0.4086648300290108),\n",
       "  'Orthogonality Loss': np.float64(0.040881755203008616),\n",
       "  'Total Loss': np.float64(36973.99404145479),\n",
       "  'Time': np.float64(0.06700091361999462),\n",
       "  'Entropy': np.float64(0.4255953371524811),\n",
       "  'Margin': np.float64(0.4777950018644333),\n",
       "  '0 Fraction': np.float64(0.13359375),\n",
       "  '1 Fraction': np.float64(0.01171875),\n",
       "  '2 Fraction': np.float64(0.07421875),\n",
       "  '3 Fraction': np.float64(0.0359375),\n",
       "  '4 Fraction': np.float64(0.21875),\n",
       "  '5 Fraction': np.float64(0.01796875),\n",
       "  '6 Fraction': np.float64(0.10703125),\n",
       "  '7 Fraction': np.float64(0.07734375),\n",
       "  '8 Fraction': np.float64(0.22890625),\n",
       "  '9 Fraction': np.float64(0.09453125),\n",
       "  'FID': np.float64(586.1643676757812),\n",
       "  'Time/Step': np.float64(0.007790803909301701)},\n",
       " {'Step': np.float64(1.42828568570857),\n",
       "  'Reconstruction Loss': np.float64(5189.498837579188),\n",
       "  'KL Loss': np.float64(26.562954837481193),\n",
       "  'Uniformity Loss': np.float64(0.14661435620815869),\n",
       "  'Orthogonality Loss': np.float64(0.03733469726761241),\n",
       "  'Total Loss': np.float64(5335.727004381761),\n",
       "  'Time': np.float64(0.01224559506175864),\n",
       "  'Entropy': np.float64(0.03354729911403288),\n",
       "  'Margin': np.float64(0.04210244293488117),\n",
       "  '0 Fraction': np.float64(0.04342091634871954),\n",
       "  '1 Fraction': np.float64(0.00390625),\n",
       "  '2 Fraction': np.float64(0.02525504668006971),\n",
       "  '3 Fraction': np.float64(0.03782412011534439),\n",
       "  '4 Fraction': np.float64(0.0546875),\n",
       "  '5 Fraction': np.float64(0.017486741629374525),\n",
       "  '6 Fraction': np.float64(0.023188784499462232),\n",
       "  '7 Fraction': np.float64(0.026016915320854237),\n",
       "  '8 Fraction': np.float64(0.04014895361727999),\n",
       "  '9 Fraction': np.float64(0.03587800782251573),\n",
       "  'FID': np.float64(31.530277378321756),\n",
       "  'Time/Step': np.float64(0.0005863971427739083)})"
      ]
     },
     "execution_count": 16,
     "metadata": {},
     "output_type": "execute_result"
    }
   ],
   "source": [
    "import vae_sa as vsa\n",
    "train_kwargs = params | {\"num_steps\": 500, \"uniformity_weight\": 1e3}\n",
    "train_kwargs[\"folder\"] = f\"{experiment_folder}/vae-sa\"\n",
    "be = bt.BatchExperiment(vsa.train, train_kwargs, num_experiments)\n",
    "# be.run()\n",
    "# be.fid(num_fid_samples, device)\n",
    "be.summarize_wo_fid()"
   ]
  },
  {
   "cell_type": "markdown",
   "metadata": {
    "id": "h4_otdd2oO27"
   },
   "source": [
    "**Batch Experiments: SP**"
   ]
  },
  {
   "cell_type": "code",
   "execution_count": 17,
   "metadata": {
    "id": "8jpPQqxtoVYn"
   },
   "outputs": [
    {
     "data": {
      "text/plain": [
       "({'Step': np.float64(6.2),\n",
       "  'Reconstruction Loss': np.float64(34735.748046875),\n",
       "  'KL Loss': np.float64(736.4170715332032),\n",
       "  'Uniformity Loss': np.float64(1.0641139805316926),\n",
       "  'Orthogonality Loss': np.float64(0.070261358609423),\n",
       "  'Total Loss': np.float64(36536.27909893989),\n",
       "  'Time': np.float64(0.049046072959899566),\n",
       "  'Entropy': np.float64(0.5285113483667374),\n",
       "  'Margin': np.float64(0.5435228228569031),\n",
       "  '0 Fraction': np.float64(0.0625),\n",
       "  '1 Fraction': np.float64(0.009375),\n",
       "  '2 Fraction': np.float64(0.07265625),\n",
       "  '3 Fraction': np.float64(0.0828125),\n",
       "  '4 Fraction': np.float64(0.04453125),\n",
       "  '5 Fraction': np.float64(0.0015625),\n",
       "  '6 Fraction': np.float64(0.11015625),\n",
       "  '7 Fraction': np.float64(0.0453125),\n",
       "  '8 Fraction': np.float64(0.50078125),\n",
       "  '9 Fraction': np.float64(0.0703125),\n",
       "  'FID': np.float64(64.18608360290527),\n",
       "  'Time/Step': np.float64(0.007910656929016059)},\n",
       " {'Step': np.float64(1.7776388834631178),\n",
       "  'Reconstruction Loss': np.float64(5543.488574330909),\n",
       "  'KL Loss': np.float64(12.497816764907279),\n",
       "  'Uniformity Loss': np.float64(0.22778921118387419),\n",
       "  'Orthogonality Loss': np.float64(0.06937665896006043),\n",
       "  'Total Loss': np.float64(5744.441889666674),\n",
       "  'Time': np.float64(0.014297510964799559),\n",
       "  'Entropy': np.float64(0.04402662222927955),\n",
       "  'Margin': np.float64(0.046476948984427495),\n",
       "  '0 Fraction': np.float64(0.023696485762661094),\n",
       "  '1 Fraction': np.float64(0.005846339666834283),\n",
       "  '2 Fraction': np.float64(0.021266652482525312),\n",
       "  '3 Fraction': np.float64(0.030095875444153472),\n",
       "  '4 Fraction': np.float64(0.028179201245111616),\n",
       "  '5 Fraction': np.float64(0.004687500000000001),\n",
       "  '6 Fraction': np.float64(0.030747919772116293),\n",
       "  '7 Fraction': np.float64(0.01148198316929615),\n",
       "  '8 Fraction': np.float64(0.08653556101576103),\n",
       "  '9 Fraction': np.float64(0.04250459533979826),\n",
       "  'FID': np.float64(1.646528726174689),\n",
       "  'Time/Step': np.float64(0.0004004439169840342)})"
      ]
     },
     "execution_count": 17,
     "metadata": {},
     "output_type": "execute_result"
    }
   ],
   "source": [
    "import vae_sp as vsp\n",
    "train_kwargs = params | {\"num_steps\": 500, \"uniformity_weight\": 1e3}\n",
    "train_kwargs[\"folder\"] = f\"{experiment_folder}/vae-sp\"\n",
    "be = bt.BatchExperiment(vsp.train, train_kwargs, num_experiments)\n",
    "# be.run()\n",
    "# be.fid(num_fid_samples, device)\n",
    "be.summarize_wo_fid()"
   ]
  },
  {
   "cell_type": "markdown",
   "metadata": {
    "id": "cN8t8KxGMn8G"
   },
   "source": [
    "**Upload data to Drive**"
   ]
  },
  {
   "cell_type": "code",
   "execution_count": null,
   "metadata": {
    "colab": {
     "background_save": true
    },
    "id": "9XVSWs9jYher"
   },
   "outputs": [],
   "source": [
    "!zip -r /content/MNIST-Experiments.zip /content/MNIST-Experiments\n",
    "!cp /content/MNIST-Experiments.zip \"/content/drive/MyDrive/Pinak/forget\""
   ]
  },
  {
   "cell_type": "code",
   "execution_count": null,
   "metadata": {
    "colab": {
     "base_uri": "https://localhost:8080/",
     "height": 187
    },
    "id": "Lrzcq4eMW_dB",
    "outputId": "441bf1c7-2919-4a40-e0b3-7eea6722a7e7"
   },
   "outputs": [
    {
     "data": {
      "text/html": [
       "<div style=\"max-width:800px; border: 1px solid var(--colab-border-color);\"><style>\n",
       "      pre.function-repr-contents {\n",
       "        overflow-x: auto;\n",
       "        padding: 8px 12px;\n",
       "        max-height: 500px;\n",
       "      }\n",
       "\n",
       "      pre.function-repr-contents.function-repr-contents-collapsed {\n",
       "        cursor: pointer;\n",
       "        max-height: 100px;\n",
       "      }\n",
       "    </style>\n",
       "    <pre style=\"white-space: initial; background:\n",
       "         var(--colab-secondary-surface-color); padding: 8px 12px;\n",
       "         border-bottom: 1px solid var(--colab-border-color);\"><b>vae.VAE</b><br/>def _wrapped_call_impl(*args, **kwargs)</pre><pre class=\"function-repr-contents function-repr-contents-collapsed\" style=\"\"><a class=\"filepath\" style=\"display:none\" href=\"#\">/content/forget/modules/mnist/vae.py</a>Base class for all neural network modules.\n",
       "\n",
       "Your models should also subclass this class.\n",
       "\n",
       "Modules can also contain other Modules, allowing them to be nested in\n",
       "a tree structure. You can assign the submodules as regular attributes::\n",
       "\n",
       "    import torch.nn as nn\n",
       "    import torch.nn.functional as F\n",
       "\n",
       "    class Model(nn.Module):\n",
       "        def __init__(self) -&gt; None:\n",
       "            super().__init__()\n",
       "            self.conv1 = nn.Conv2d(1, 20, 5)\n",
       "            self.conv2 = nn.Conv2d(20, 20, 5)\n",
       "\n",
       "        def forward(self, x):\n",
       "            x = F.relu(self.conv1(x))\n",
       "            return F.relu(self.conv2(x))\n",
       "\n",
       "Submodules assigned in this way will be registered, and will also have their\n",
       "parameters converted when you call :meth:`to`, etc.\n",
       "\n",
       ".. note::\n",
       "    As per the example above, an ``__init__()`` call to the parent class\n",
       "    must be made before assignment on the child.\n",
       "\n",
       ":ivar training: Boolean represents whether this module is in training or\n",
       "                evaluation mode.\n",
       ":vartype training: bool</pre>\n",
       "      <script>\n",
       "      if (google.colab.kernel.accessAllowed && google.colab.files && google.colab.files.view) {\n",
       "        for (const element of document.querySelectorAll('.filepath')) {\n",
       "          element.style.display = 'block'\n",
       "          element.onclick = (event) => {\n",
       "            event.preventDefault();\n",
       "            event.stopPropagation();\n",
       "            google.colab.files.view(element.textContent, 14);\n",
       "          };\n",
       "        }\n",
       "      }\n",
       "      for (const element of document.querySelectorAll('.function-repr-contents')) {\n",
       "        element.onclick = (event) => {\n",
       "          event.preventDefault();\n",
       "          event.stopPropagation();\n",
       "          element.classList.toggle('function-repr-contents-collapsed');\n",
       "        };\n",
       "      }\n",
       "      </script>\n",
       "      </div>"
      ],
      "text/plain": [
       "vae.VAE"
      ]
     },
     "execution_count": 12,
     "metadata": {},
     "output_type": "execute_result"
    }
   ],
   "source": [
    "m = vt.init_model(params['model'], params['latent_dim'], device)\n",
    "type(m)"
   ]
  },
  {
   "cell_type": "code",
   "execution_count": 2,
   "metadata": {},
   "outputs": [],
   "source": [
    "suffix =  [\"a\", \"ad\", \"s\", \"o\", \"os\", \"hat\", \"shat\", \"ohat\", \"ohatshat\", \"sa\", \"sp\"]\n",
    "\n",
    "ut.summary_csv(\\\n",
    "[f\"{experiment_folder}/vae-{s}/summary.json\" for s in suffix],\\\n",
    "[f\"{experiment_folder}/vae-{s}/summary_std.json\" for s in suffix], suffix,\\\n",
    " f\"{experiment_folder}/summary.csv\")"
   ]
  },
  {
   "cell_type": "code",
   "execution_count": null,
   "metadata": {},
   "outputs": [],
   "source": []
  }
 ],
 "metadata": {
  "accelerator": "GPU",
  "colab": {
   "gpuType": "A100",
   "machine_shape": "hm",
   "provenance": []
  },
  "kernelspec": {
   "display_name": "Python 3 (ipykernel)",
   "language": "python",
   "name": "python3"
  },
  "language_info": {
   "codemirror_mode": {
    "name": "ipython",
    "version": 3
   },
   "file_extension": ".py",
   "mimetype": "text/x-python",
   "name": "python",
   "nbconvert_exporter": "python",
   "pygments_lexer": "ipython3",
   "version": "3.12.11"
  }
 },
 "nbformat": 4,
 "nbformat_minor": 4
}
